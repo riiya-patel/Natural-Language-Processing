{
  "nbformat": 4,
  "nbformat_minor": 0,
  "metadata": {
    "kernelspec": {
      "display_name": "Python 3",
      "language": "python",
      "name": "python3"
    },
    "language_info": {
      "codemirror_mode": {
        "name": "ipython",
        "version": 3
      },
      "file_extension": ".py",
      "mimetype": "text/x-python",
      "name": "python",
      "nbconvert_exporter": "python",
      "pygments_lexer": "ipython3",
      "version": "3.6.10"
    },
    "colab": {
      "name": "Natural Language Processing - Communication.ipynb",
      "provenance": [],
      "include_colab_link": true
    }
  },
  "cells": [
    {
      "cell_type": "markdown",
      "metadata": {
        "id": "view-in-github",
        "colab_type": "text"
      },
      "source": [
        "<a href=\"https://colab.research.google.com/github/riiya-patel/Natural-Language-Processing/blob/main/Natural_Language_Processing_Communication.ipynb\" target=\"_parent\"><img src=\"https://colab.research.google.com/assets/colab-badge.svg\" alt=\"Open In Colab\"/></a>"
      ]
    },
    {
      "cell_type": "markdown",
      "metadata": {
        "id": "UGeSntnn9vot"
      },
      "source": [
        "# Objectives\n",
        "\n",
        "- Natural Language Processing (NLP) - Its important for most cases\n",
        "- TextBlob, NLTK, textatistic and spaCy Library \n",
        "- Tokenize text into words and sentences\n",
        "- Part of speech tagging\n",
        "- Sentiment Analysis - Positive, Negative, Neutral\n",
        "- Detecting Language of text and tranlate between languages\n",
        "- Word roots -  stemming and lemmatization\n",
        "- spell checking and correction\n",
        "- Remove the stop words from the text \n",
        "- Readability assesment\n",
        "- Named entity recognition and similarity detection\n"
      ]
    },
    {
      "cell_type": "markdown",
      "metadata": {
        "id": "DQD3HYcd9vou"
      },
      "source": [
        "# Examples of Natural Language Communication\n",
        "\n",
        "- Conversation between two people\n",
        "- Learning a foreign language\n",
        "- Using smartphone to read menu\n",
        "- Reading / writting text messages\n",
        "- Blind - braille or listening to the screen reader\n",
        "- Email - Spanish or French - English"
      ]
    },
    {
      "cell_type": "markdown",
      "metadata": {
        "id": "4iuAqeIr9vou"
      },
      "source": [
        "# Text collections - corpora or plural corpus\n",
        "\n",
        "- Tweets\n",
        "- Facebook posts\n",
        "- Conversations\n",
        "- Movie Review\n",
        "- Documents\n",
        "- Books\n",
        "- News\n",
        "\n"
      ]
    },
    {
      "cell_type": "markdown",
      "metadata": {
        "id": "0R-I4LoY9vou"
      },
      "source": [
        "- Nuances of the meaning - makes NL understanding - difficult\n",
        "- Meaning can be influenced by context and reader's view of the world"
      ]
    },
    {
      "cell_type": "markdown",
      "metadata": {
        "id": "P2OSvbrn9vou"
      },
      "source": [
        "# TextBlob: Simplified text processing\n",
        "\n",
        "- Object oriented NLP ext processing - built on NLTK and pattern NLP Libraries\n",
        "- Jobs:\n",
        "    - Tokenization- spliting text into pieces of tokens - words or numbers\n",
        "    - Parts-to-speech (POS) tagging - noun, verb, adjective, \n",
        "    - Noun Phrase Extraction - `red brick factory`\n",
        "        - Is a red brick factory a factory that makes red bricks?\n",
        "        - Is it a red factory that makes bricks of any colour?\n",
        "        - Is it a factory built of red bricks that makes products of any type?\n",
        "        - Music group - pop\n",
        "    - Sentiment Analysis\n",
        "    - Inter- Language translations or detecting the language - google translate\n",
        "    - Inflection - pluralizing or singularizing words\n",
        "    - Spell checking and spelling correction\n",
        "    - Stemming - varieties - varieti\n",
        "    - Lemmatization - varieties - variety- generate real wirds based on word's context\n",
        "    - WordNet Integration\n",
        "        - Word Frequncies\n",
        "        - Stop word elimination - as, a, an, the, I, we\n",
        "        - n-grams - producing sers of consecutive words in a corpus for use inn indentifying words that frequently appears adjacent to each other\n",
        "    \n",
        "        "
      ]
    },
    {
      "cell_type": "markdown",
      "metadata": {
        "id": "_NhsWTXF9vou"
      },
      "source": [
        "# Project Gutenberg\n",
        "- Rich source of text for analysis - free e-books"
      ]
    },
    {
      "cell_type": "markdown",
      "metadata": {
        "id": "NwF_em7q9vou"
      },
      "source": [
        "# Create a TextBlob"
      ]
    },
    {
      "cell_type": "code",
      "metadata": {
        "id": "d9LWsj9c9vou"
      },
      "source": [
        "from textblob import TextBlob"
      ],
      "execution_count": 1,
      "outputs": []
    },
    {
      "cell_type": "code",
      "metadata": {
        "id": "KSV_Wprc9vou"
      },
      "source": [
        "text = 'Today is a beautiful day. Tomorrow looks like bad weather'"
      ],
      "execution_count": 2,
      "outputs": []
    },
    {
      "cell_type": "code",
      "metadata": {
        "id": "eVSVcieb9vou"
      },
      "source": [
        "blob=TextBlob(text)"
      ],
      "execution_count": 3,
      "outputs": []
    },
    {
      "cell_type": "code",
      "metadata": {
        "colab": {
          "base_uri": "https://localhost:8080/"
        },
        "id": "p5HbIH5H9vou",
        "outputId": "df5c1992-7b09-42f4-f463-a9821f4a5db5"
      },
      "source": [
        "blob"
      ],
      "execution_count": 4,
      "outputs": [
        {
          "output_type": "execute_result",
          "data": {
            "text/plain": [
              "TextBlob(\"Today is a beautiful day. Tomorrow looks like bad weather\")"
            ]
          },
          "metadata": {
            "tags": []
          },
          "execution_count": 4
        }
      ]
    },
    {
      "cell_type": "code",
      "metadata": {
        "colab": {
          "base_uri": "https://localhost:8080/"
        },
        "id": "KfAta3wS9vou",
        "outputId": "1d76dac5-ffc3-4a5f-cd71-ec004c9b037b"
      },
      "source": [
        "# TextBl0b does supports various methods and comparisons - Senstences, words\n",
        "import nltk\n",
        "nltk.download('punkt')\n",
        "  "
      ],
      "execution_count": 5,
      "outputs": [
        {
          "output_type": "stream",
          "text": [
            "[nltk_data] Downloading package punkt to /root/nltk_data...\n",
            "[nltk_data]   Unzipping tokenizers/punkt.zip.\n"
          ],
          "name": "stdout"
        },
        {
          "output_type": "execute_result",
          "data": {
            "text/plain": [
              "True"
            ]
          },
          "metadata": {
            "tags": []
          },
          "execution_count": 5
        }
      ]
    },
    {
      "cell_type": "code",
      "metadata": {
        "colab": {
          "base_uri": "https://localhost:8080/"
        },
        "id": "nH0qKwXJ9vou",
        "outputId": "dada87aa-7e76-439a-8587-51bcd3aa3f37"
      },
      "source": [
        "blob.sentences"
      ],
      "execution_count": 6,
      "outputs": [
        {
          "output_type": "execute_result",
          "data": {
            "text/plain": [
              "[Sentence(\"Today is a beautiful day.\"),\n",
              " Sentence(\"Tomorrow looks like bad weather\")]"
            ]
          },
          "metadata": {
            "tags": []
          },
          "execution_count": 6
        }
      ]
    },
    {
      "cell_type": "code",
      "metadata": {
        "colab": {
          "base_uri": "https://localhost:8080/"
        },
        "id": "GNAHmMVP9vov",
        "outputId": "ca11e68f-a067-438a-a151-4ce9425127b4"
      },
      "source": [
        "blob.words"
      ],
      "execution_count": 7,
      "outputs": [
        {
          "output_type": "execute_result",
          "data": {
            "text/plain": [
              "WordList(['Today', 'is', 'a', 'beautiful', 'day', 'Tomorrow', 'looks', 'like', 'bad', 'weather'])"
            ]
          },
          "metadata": {
            "tags": []
          },
          "execution_count": 7
        }
      ]
    },
    {
      "cell_type": "code",
      "metadata": {
        "colab": {
          "base_uri": "https://localhost:8080/"
        },
        "id": "JmxJAAQ19vov",
        "outputId": "c4d42c3f-1bc7-4f97-a04f-e7cad764c630"
      },
      "source": [
        "blob.word_counts"
      ],
      "execution_count": 8,
      "outputs": [
        {
          "output_type": "execute_result",
          "data": {
            "text/plain": [
              "defaultdict(int,\n",
              "            {'a': 1,\n",
              "             'bad': 1,\n",
              "             'beautiful': 1,\n",
              "             'day': 1,\n",
              "             'is': 1,\n",
              "             'like': 1,\n",
              "             'looks': 1,\n",
              "             'today': 1,\n",
              "             'tomorrow': 1,\n",
              "             'weather': 1})"
            ]
          },
          "metadata": {
            "tags": []
          },
          "execution_count": 8
        }
      ]
    },
    {
      "cell_type": "markdown",
      "metadata": {
        "id": "_m2bYNzS9vov"
      },
      "source": [
        "# Part of Speech Tagging\n",
        "\n",
        "- Evaluate words based on context - determine POS - determining the meaning\n",
        "- Nouns, Pronouns, Verbs, Adjectives, Adverbs, Prepositions, Conjuctions and   Interjection - {HA!, Yes!}\n",
        "- Sub-Categories -\n",
        "     - Meaning of words - `Set` and `Run`"
      ]
    },
    {
      "cell_type": "code",
      "metadata": {
        "colab": {
          "base_uri": "https://localhost:8080/"
        },
        "id": "w7pMOv0L9vov",
        "outputId": "bf2c2fc3-4825-4428-8a00-cf382683c852"
      },
      "source": [
        "blob"
      ],
      "execution_count": 9,
      "outputs": [
        {
          "output_type": "execute_result",
          "data": {
            "text/plain": [
              "TextBlob(\"Today is a beautiful day. Tomorrow looks like bad weather\")"
            ]
          },
          "metadata": {
            "tags": []
          },
          "execution_count": 9
        }
      ]
    },
    {
      "cell_type": "code",
      "metadata": {
        "colab": {
          "base_uri": "https://localhost:8080/"
        },
        "id": "wmseXo8lSmwP",
        "outputId": "69628270-131f-439d-b475-215ddc172029"
      },
      "source": [
        "import nltk\n",
        "nltk.download('averaged_perceptron_tagger')"
      ],
      "execution_count": 10,
      "outputs": [
        {
          "output_type": "stream",
          "text": [
            "[nltk_data] Downloading package averaged_perceptron_tagger to\n",
            "[nltk_data]     /root/nltk_data...\n",
            "[nltk_data]   Unzipping taggers/averaged_perceptron_tagger.zip.\n"
          ],
          "name": "stdout"
        },
        {
          "output_type": "execute_result",
          "data": {
            "text/plain": [
              "True"
            ]
          },
          "metadata": {
            "tags": []
          },
          "execution_count": 10
        }
      ]
    },
    {
      "cell_type": "code",
      "metadata": {
        "colab": {
          "base_uri": "https://localhost:8080/"
        },
        "id": "U41RHR7a9vov",
        "outputId": "a86e95f6-f00b-4841-bdce-88df79d3221f"
      },
      "source": [
        "blob.tags"
      ],
      "execution_count": 11,
      "outputs": [
        {
          "output_type": "execute_result",
          "data": {
            "text/plain": [
              "[('Today', 'NN'),\n",
              " ('is', 'VBZ'),\n",
              " ('a', 'DT'),\n",
              " ('beautiful', 'JJ'),\n",
              " ('day', 'NN'),\n",
              " ('Tomorrow', 'NNP'),\n",
              " ('looks', 'VBZ'),\n",
              " ('like', 'IN'),\n",
              " ('bad', 'JJ'),\n",
              " ('weather', 'NN')]"
            ]
          },
          "metadata": {
            "tags": []
          },
          "execution_count": 11
        }
      ]
    },
    {
      "cell_type": "markdown",
      "metadata": {
        "id": "_B3h-0TU9vov"
      },
      "source": [
        "- TextBlob - patternTagger 63 parts of speech tags\n",
        "     - NN - Sindular or mass noun\n",
        "     - VBZZ- third person singular present verb\n",
        "     - DT- determiner- (The an that my this their)\n",
        "     - JJ- Adjective\n",
        "     - NNP-Proper Singular Noun\n",
        "     - IN- Subbordinating conjunction or preposition"
      ]
    },
    {
      "cell_type": "markdown",
      "metadata": {
        "id": "vRJ_pTxX9vov"
      },
      "source": [
        "# Extracting Noun Phrases\n",
        "\n"
      ]
    },
    {
      "cell_type": "code",
      "metadata": {
        "id": "1lPogfuS9vov",
        "colab": {
          "base_uri": "https://localhost:8080/"
        },
        "outputId": "007dbe2b-938c-43a1-d241-8c2b65b4c5b3"
      },
      "source": [
        "blob"
      ],
      "execution_count": 12,
      "outputs": [
        {
          "output_type": "execute_result",
          "data": {
            "text/plain": [
              "TextBlob(\"Today is a beautiful day. Tomorrow looks like bad weather\")"
            ]
          },
          "metadata": {
            "tags": []
          },
          "execution_count": 12
        }
      ]
    },
    {
      "cell_type": "code",
      "metadata": {
        "colab": {
          "base_uri": "https://localhost:8080/"
        },
        "id": "IGHdlGzLSy3z",
        "outputId": "a5053cc2-fcc3-4f91-970a-0c71e6d0510d"
      },
      "source": [
        " import nltk\n",
        " nltk.download('brown')"
      ],
      "execution_count": 13,
      "outputs": [
        {
          "output_type": "stream",
          "text": [
            "[nltk_data] Downloading package brown to /root/nltk_data...\n",
            "[nltk_data]   Unzipping corpora/brown.zip.\n"
          ],
          "name": "stdout"
        },
        {
          "output_type": "execute_result",
          "data": {
            "text/plain": [
              "True"
            ]
          },
          "metadata": {
            "tags": []
          },
          "execution_count": 13
        }
      ]
    },
    {
      "cell_type": "code",
      "metadata": {
        "id": "nk8iFL_Y9vov",
        "colab": {
          "base_uri": "https://localhost:8080/"
        },
        "outputId": "d1a8a945-7ad1-457e-c991-d31846c8bddc"
      },
      "source": [
        "blob.noun_phrases"
      ],
      "execution_count": 14,
      "outputs": [
        {
          "output_type": "execute_result",
          "data": {
            "text/plain": [
              "WordList(['beautiful day', 'tomorrow', 'bad weather'])"
            ]
          },
          "metadata": {
            "tags": []
          },
          "execution_count": 14
        }
      ]
    },
    {
      "cell_type": "markdown",
      "metadata": {
        "id": "Khfvkl4T9vov"
      },
      "source": [
        "# Sentiment Analysis with the TextBlob Default Sentiment Analyzer\n",
        "- Positive, Negative, Neutral\n",
        "- Food is not good, the movie was excellent, the movie was not bad\n",
        "- Deep Learninng\n"
      ]
    },
    {
      "cell_type": "code",
      "metadata": {
        "id": "1ZliHk6_9vov",
        "colab": {
          "base_uri": "https://localhost:8080/"
        },
        "outputId": "76677338-94cb-41f9-9e08-7e99bba8f7d0"
      },
      "source": [
        "blob"
      ],
      "execution_count": 15,
      "outputs": [
        {
          "output_type": "execute_result",
          "data": {
            "text/plain": [
              "TextBlob(\"Today is a beautiful day. Tomorrow looks like bad weather\")"
            ]
          },
          "metadata": {
            "tags": []
          },
          "execution_count": 15
        }
      ]
    },
    {
      "cell_type": "code",
      "metadata": {
        "id": "o5zE3rSc9vov",
        "colab": {
          "base_uri": "https://localhost:8080/"
        },
        "outputId": "12b49077-1fb6-4745-d612-8a4a6bbb4b45"
      },
      "source": [
        "blob.sentiment"
      ],
      "execution_count": 16,
      "outputs": [
        {
          "output_type": "execute_result",
          "data": {
            "text/plain": [
              "Sentiment(polarity=0.07500000000000007, subjectivity=0.8333333333333333)"
            ]
          },
          "metadata": {
            "tags": []
          },
          "execution_count": 16
        }
      ]
    },
    {
      "cell_type": "markdown",
      "metadata": {
        "id": "AiBe_MeB9vow"
      },
      "source": [
        "- Polarity -> (-1 Neg),(1Pos), (0Neu)\n",
        "- Subjectivity -> 0.0 - Objective , 1.0 - Subjective"
      ]
    },
    {
      "cell_type": "code",
      "metadata": {
        "id": "kcI1zWPL9vow"
      },
      "source": [
        "text2=\"I will be making a statement tonight. A big WIN!\"\n",
        "blob2=TextBlob(text2)"
      ],
      "execution_count": 17,
      "outputs": []
    },
    {
      "cell_type": "code",
      "metadata": {
        "id": "kBGwhN8n9vow"
      },
      "source": [
        "text3=\"My #AmericanDreamPlan is a promise to Hispanic Americans to fuel a thriving economy, provide education opportunity for all, preserve freedom, and support faith, family, and community! \"\n",
        "blob3=TextBlob(text3)"
      ],
      "execution_count": 18,
      "outputs": []
    },
    {
      "cell_type": "code",
      "metadata": {
        "id": "Tl5DdrDX9vow",
        "colab": {
          "base_uri": "https://localhost:8080/"
        },
        "outputId": "cf1d2f47-2b4d-482a-e57d-d89403942880"
      },
      "source": [
        "blob3"
      ],
      "execution_count": 19,
      "outputs": [
        {
          "output_type": "execute_result",
          "data": {
            "text/plain": [
              "TextBlob(\"My #AmericanDreamPlan is a promise to Hispanic Americans to fuel a thriving economy, provide education opportunity for all, preserve freedom, and support faith, family, and community! \")"
            ]
          },
          "metadata": {
            "tags": []
          },
          "execution_count": 19
        }
      ]
    },
    {
      "cell_type": "code",
      "metadata": {
        "id": "CmAZv1zm9vow",
        "colab": {
          "base_uri": "https://localhost:8080/"
        },
        "outputId": "09668de7-579c-49f4-a0aa-03b66feb858d"
      },
      "source": [
        "blob.sentiment"
      ],
      "execution_count": 20,
      "outputs": [
        {
          "output_type": "execute_result",
          "data": {
            "text/plain": [
              "Sentiment(polarity=0.07500000000000007, subjectivity=0.8333333333333333)"
            ]
          },
          "metadata": {
            "tags": []
          },
          "execution_count": 20
        }
      ]
    },
    {
      "cell_type": "code",
      "metadata": {
        "id": "CVAhFh5L9vow",
        "colab": {
          "base_uri": "https://localhost:8080/",
          "height": 0
        },
        "outputId": "6585ad09-0f46-41ac-cdcd-2c42def63837"
      },
      "source": [
        "%precision 3"
      ],
      "execution_count": 21,
      "outputs": [
        {
          "output_type": "execute_result",
          "data": {
            "application/vnd.google.colaboratory.intrinsic+json": {
              "type": "string"
            },
            "text/plain": [
              "'%.3f'"
            ]
          },
          "metadata": {
            "tags": []
          },
          "execution_count": 21
        }
      ]
    },
    {
      "cell_type": "code",
      "metadata": {
        "id": "pTUVyd9h9vow",
        "colab": {
          "base_uri": "https://localhost:8080/"
        },
        "outputId": "46278417-5b7f-4618-82d2-0fae6a2ef0db"
      },
      "source": [
        "blob.sentiment.polarity"
      ],
      "execution_count": 22,
      "outputs": [
        {
          "output_type": "execute_result",
          "data": {
            "text/plain": [
              "0.075"
            ]
          },
          "metadata": {
            "tags": []
          },
          "execution_count": 22
        }
      ]
    },
    {
      "cell_type": "code",
      "metadata": {
        "id": "J3QgNajC9vow",
        "colab": {
          "base_uri": "https://localhost:8080/"
        },
        "outputId": "649c91d0-4a55-4f3b-933a-8ca3c71b0f0b"
      },
      "source": [
        "blob.sentiment.subjectivity"
      ],
      "execution_count": 23,
      "outputs": [
        {
          "output_type": "execute_result",
          "data": {
            "text/plain": [
              "0.833"
            ]
          },
          "metadata": {
            "tags": []
          },
          "execution_count": 23
        }
      ]
    },
    {
      "cell_type": "code",
      "metadata": {
        "id": "oknNHaIb9vow",
        "colab": {
          "base_uri": "https://localhost:8080/"
        },
        "outputId": "4ac1530f-ccd4-4a46-b004-68d840dbb546"
      },
      "source": [
        "blob3"
      ],
      "execution_count": 24,
      "outputs": [
        {
          "output_type": "execute_result",
          "data": {
            "text/plain": [
              "TextBlob(\"My #AmericanDreamPlan is a promise to Hispanic Americans to fuel a thriving economy, provide education opportunity for all, preserve freedom, and support faith, family, and community! \")"
            ]
          },
          "metadata": {
            "tags": []
          },
          "execution_count": 24
        }
      ]
    },
    {
      "cell_type": "code",
      "metadata": {
        "id": "lj5VzYw99vow",
        "colab": {
          "base_uri": "https://localhost:8080/"
        },
        "outputId": "81c81a8c-206a-4735-8f09-9089de9da0f9"
      },
      "source": [
        "for sentences in blob.sentences:\n",
        "    print(sentences.sentiment)"
      ],
      "execution_count": 25,
      "outputs": [
        {
          "output_type": "stream",
          "text": [
            "Sentiment(polarity=0.85, subjectivity=1.0)\n",
            "Sentiment(polarity=-0.6999999999999998, subjectivity=0.6666666666666666)\n"
          ],
          "name": "stdout"
        }
      ]
    },
    {
      "cell_type": "markdown",
      "metadata": {
        "id": "Rdq3A1Gy9vow"
      },
      "source": [
        "# Sentiment Analysis with the NaiveBayesAnalyzer"
      ]
    },
    {
      "cell_type": "code",
      "metadata": {
        "id": "7cKncuvQ9vox"
      },
      "source": [
        "from textblob.sentiments import NaiveBayesAnalyzer"
      ],
      "execution_count": 26,
      "outputs": []
    },
    {
      "cell_type": "code",
      "metadata": {
        "id": "lA6I1iNb9vox",
        "colab": {
          "base_uri": "https://localhost:8080/",
          "height": 0
        },
        "outputId": "d525e98d-2627-436d-c38d-becb94f075f6"
      },
      "source": [
        "text"
      ],
      "execution_count": 27,
      "outputs": [
        {
          "output_type": "execute_result",
          "data": {
            "application/vnd.google.colaboratory.intrinsic+json": {
              "type": "string"
            },
            "text/plain": [
              "'Today is a beautiful day. Tomorrow looks like bad weather'"
            ]
          },
          "metadata": {
            "tags": []
          },
          "execution_count": 27
        }
      ]
    },
    {
      "cell_type": "code",
      "metadata": {
        "id": "Z6IvxehF9vox"
      },
      "source": [
        "blob=TextBlob(text, analyzer=NaiveBayesAnalyzer())"
      ],
      "execution_count": 28,
      "outputs": []
    },
    {
      "cell_type": "code",
      "metadata": {
        "id": "8qFRgEFU9vox",
        "colab": {
          "base_uri": "https://localhost:8080/"
        },
        "outputId": "2c2c8b77-a7e0-4cfa-805c-b4cc5a367227"
      },
      "source": [
        "blob"
      ],
      "execution_count": 29,
      "outputs": [
        {
          "output_type": "execute_result",
          "data": {
            "text/plain": [
              "TextBlob(\"Today is a beautiful day. Tomorrow looks like bad weather\")"
            ]
          },
          "metadata": {
            "tags": []
          },
          "execution_count": 29
        }
      ]
    },
    {
      "cell_type": "code",
      "metadata": {
        "colab": {
          "base_uri": "https://localhost:8080/"
        },
        "id": "0nuEWp4KS-uo",
        "outputId": "9b774969-2295-4f78-b4dc-101df9e63b10"
      },
      "source": [
        " import nltk\n",
        " nltk.download('movie_reviews')"
      ],
      "execution_count": 30,
      "outputs": [
        {
          "output_type": "stream",
          "text": [
            "[nltk_data] Downloading package movie_reviews to /root/nltk_data...\n",
            "[nltk_data]   Unzipping corpora/movie_reviews.zip.\n"
          ],
          "name": "stdout"
        },
        {
          "output_type": "execute_result",
          "data": {
            "text/plain": [
              "True"
            ]
          },
          "metadata": {
            "tags": []
          },
          "execution_count": 30
        }
      ]
    },
    {
      "cell_type": "code",
      "metadata": {
        "id": "-p9sCtO19vox",
        "colab": {
          "base_uri": "https://localhost:8080/"
        },
        "outputId": "6fe3fdf2-518a-4b9b-d830-a5c771d90a75"
      },
      "source": [
        "blob.sentiment"
      ],
      "execution_count": 31,
      "outputs": [
        {
          "output_type": "execute_result",
          "data": {
            "text/plain": [
              "Sentiment(classification='neg', p_pos=0.47662917962091056, p_neg=0.5233708203790892)"
            ]
          },
          "metadata": {
            "tags": []
          },
          "execution_count": 31
        }
      ]
    },
    {
      "cell_type": "code",
      "metadata": {
        "id": "DQJmPbWn9vox",
        "colab": {
          "base_uri": "https://localhost:8080/"
        },
        "outputId": "93a4f266-0670-4d98-b4fa-d514392037ca"
      },
      "source": [
        "for sentences in blob.sentences:\n",
        "    print(sentences.sentiment)"
      ],
      "execution_count": 32,
      "outputs": [
        {
          "output_type": "stream",
          "text": [
            "Sentiment(classification='pos', p_pos=0.8117563121751951, p_neg=0.18824368782480477)\n",
            "Sentiment(classification='neg', p_pos=0.174363226578349, p_neg=0.8256367734216521)\n"
          ],
          "name": "stdout"
        }
      ]
    },
    {
      "cell_type": "markdown",
      "metadata": {
        "id": "VipZtgpn9vox"
      },
      "source": [
        " # Language Detection and Translation\n",
        "\n",
        "- Near Real-Time Translation\n",
        "- IBM Watson - Inter-Language Translation"
      ]
    },
    {
      "cell_type": "code",
      "metadata": {
        "id": "9xY_YUnD9vox",
        "colab": {
          "base_uri": "https://localhost:8080/"
        },
        "outputId": "6c18b1e1-e6b1-4540-e1d8-07279e124bc4"
      },
      "source": [
        "blob"
      ],
      "execution_count": 33,
      "outputs": [
        {
          "output_type": "execute_result",
          "data": {
            "text/plain": [
              "TextBlob(\"Today is a beautiful day. Tomorrow looks like bad weather\")"
            ]
          },
          "metadata": {
            "tags": []
          },
          "execution_count": 33
        }
      ]
    },
    {
      "cell_type": "code",
      "metadata": {
        "id": "vFEbVdC79vox",
        "colab": {
          "base_uri": "https://localhost:8080/",
          "height": 0
        },
        "outputId": "38f69fab-f12f-4b15-8cac-725828683160"
      },
      "source": [
        "blob.detect_language()"
      ],
      "execution_count": 34,
      "outputs": [
        {
          "output_type": "execute_result",
          "data": {
            "application/vnd.google.colaboratory.intrinsic+json": {
              "type": "string"
            },
            "text/plain": [
              "'en'"
            ]
          },
          "metadata": {
            "tags": []
          },
          "execution_count": 34
        }
      ]
    },
    {
      "cell_type": "code",
      "metadata": {
        "id": "jqOhBO4L9vox"
      },
      "source": [
        "spanish= blob.translate(to='es')"
      ],
      "execution_count": 35,
      "outputs": []
    },
    {
      "cell_type": "code",
      "metadata": {
        "id": "zc1nbrk09vox",
        "colab": {
          "base_uri": "https://localhost:8080/"
        },
        "outputId": "41a27d5f-47a3-4013-b985-139f7064e5bf"
      },
      "source": [
        "blob"
      ],
      "execution_count": 36,
      "outputs": [
        {
          "output_type": "execute_result",
          "data": {
            "text/plain": [
              "TextBlob(\"Today is a beautiful day. Tomorrow looks like bad weather\")"
            ]
          },
          "metadata": {
            "tags": []
          },
          "execution_count": 36
        }
      ]
    },
    {
      "cell_type": "code",
      "metadata": {
        "id": "Nc_RAF5W9vox",
        "colab": {
          "base_uri": "https://localhost:8080/"
        },
        "outputId": "e94b5560-eb10-41ea-d118-52e13e82f266"
      },
      "source": [
        "spanish"
      ],
      "execution_count": 37,
      "outputs": [
        {
          "output_type": "execute_result",
          "data": {
            "text/plain": [
              "TextBlob(\"Hoy es un hermoso dia. Mañana parece mal tiempo\")"
            ]
          },
          "metadata": {
            "tags": []
          },
          "execution_count": 37
        }
      ]
    },
    {
      "cell_type": "code",
      "metadata": {
        "id": "TO9cYEms9vox",
        "colab": {
          "base_uri": "https://localhost:8080/",
          "height": 0
        },
        "outputId": "8412ba25-3a9e-462a-ad2b-f48cfc22a66f"
      },
      "source": [
        "spanish.detect_language()"
      ],
      "execution_count": 38,
      "outputs": [
        {
          "output_type": "execute_result",
          "data": {
            "application/vnd.google.colaboratory.intrinsic+json": {
              "type": "string"
            },
            "text/plain": [
              "'es'"
            ]
          },
          "metadata": {
            "tags": []
          },
          "execution_count": 38
        }
      ]
    },
    {
      "cell_type": "code",
      "metadata": {
        "id": "ktNT5usx9vox"
      },
      "source": [
        "chinese=blob.translate(to='zh')"
      ],
      "execution_count": 39,
      "outputs": []
    },
    {
      "cell_type": "code",
      "metadata": {
        "id": "SI9fNK-I9vox",
        "colab": {
          "base_uri": "https://localhost:8080/"
        },
        "outputId": "7269f043-f1a4-4721-e57f-e8a6e8c5e9cc"
      },
      "source": [
        "chinese"
      ],
      "execution_count": 40,
      "outputs": [
        {
          "output_type": "execute_result",
          "data": {
            "text/plain": [
              "TextBlob(\"今天是美好的一天。明天看起来天气不好\")"
            ]
          },
          "metadata": {
            "tags": []
          },
          "execution_count": 40
        }
      ]
    },
    {
      "cell_type": "code",
      "metadata": {
        "id": "jlu1vGWF9vox"
      },
      "source": [
        "swahili=blob.translate(to='sw')"
      ],
      "execution_count": 41,
      "outputs": []
    },
    {
      "cell_type": "code",
      "metadata": {
        "id": "aQOEHLsj9vox",
        "colab": {
          "base_uri": "https://localhost:8080/"
        },
        "outputId": "dc5657f2-4394-4853-80c2-feacd1f54e58"
      },
      "source": [
        "swahili"
      ],
      "execution_count": 42,
      "outputs": [
        {
          "output_type": "execute_result",
          "data": {
            "text/plain": [
              "TextBlob(\"Leo ni siku nzuri. Kesho inaonekana kama hali mbaya ya hewa\")"
            ]
          },
          "metadata": {
            "tags": []
          },
          "execution_count": 42
        }
      ]
    },
    {
      "cell_type": "code",
      "metadata": {
        "id": "p9_2fJkf9vox",
        "colab": {
          "base_uri": "https://localhost:8080/"
        },
        "outputId": "981aa04e-7731-476b-c4ef-f02496cc6b9b"
      },
      "source": [
        "\n",
        "chinese.translate()"
      ],
      "execution_count": 43,
      "outputs": [
        {
          "output_type": "execute_result",
          "data": {
            "text/plain": [
              "TextBlob(\"Today is a beautiful day. It looks bad tomorrow\")"
            ]
          },
          "metadata": {
            "tags": []
          },
          "execution_count": 43
        }
      ]
    },
    {
      "cell_type": "code",
      "metadata": {
        "id": "pYTPReXv9vox",
        "colab": {
          "base_uri": "https://localhost:8080/"
        },
        "outputId": "2e844bd7-bf90-4aa0-9024-6ea2e1de21d1"
      },
      "source": [
        "swahili.translate()"
      ],
      "execution_count": 44,
      "outputs": [
        {
          "output_type": "execute_result",
          "data": {
            "text/plain": [
              "TextBlob(\"Today is a beautiful day. Tomorrow looks like bad weather\")"
            ]
          },
          "metadata": {
            "tags": []
          },
          "execution_count": 44
        }
      ]
    },
    {
      "cell_type": "code",
      "metadata": {
        "id": "4ccyyWCy9vox",
        "colab": {
          "base_uri": "https://localhost:8080/"
        },
        "outputId": "076f57a8-3a8c-436f-ac44-f8bf90faabf6"
      },
      "source": [
        "spanish.translate()"
      ],
      "execution_count": 45,
      "outputs": [
        {
          "output_type": "execute_result",
          "data": {
            "text/plain": [
              "TextBlob(\"Today is a beautiful day. Tomorrow looks like bad weather\")"
            ]
          },
          "metadata": {
            "tags": []
          },
          "execution_count": 45
        }
      ]
    },
    {
      "cell_type": "markdown",
      "metadata": {
        "id": "WJwxleNo9vox"
      },
      "source": [
        "# Infleation: Pluralization and Singularization\n",
        "- Infletions are diffrent forms of the same words, such as singular and  plural, - people person and different verbs tenses - run ran\n",
        "- Word Freq - wadnt to convert all the inflected wordds to the same form -- more accurate word frequencies"
      ]
    },
    {
      "cell_type": "code",
      "metadata": {
        "id": "ZeAvHyiI9vox"
      },
      "source": [
        "from textblob import Word"
      ],
      "execution_count": 46,
      "outputs": []
    },
    {
      "cell_type": "code",
      "metadata": {
        "id": "i_otS04l9voy"
      },
      "source": [
        "index = Word('index')"
      ],
      "execution_count": 47,
      "outputs": []
    },
    {
      "cell_type": "code",
      "metadata": {
        "id": "hm8vdohj9voy",
        "colab": {
          "base_uri": "https://localhost:8080/",
          "height": 0
        },
        "outputId": "2f2bff80-87f5-4466-f97a-47b6e375ca14"
      },
      "source": [
        "index"
      ],
      "execution_count": 48,
      "outputs": [
        {
          "output_type": "execute_result",
          "data": {
            "application/vnd.google.colaboratory.intrinsic+json": {
              "type": "string"
            },
            "text/plain": [
              "'index'"
            ]
          },
          "metadata": {
            "tags": []
          },
          "execution_count": 48
        }
      ]
    },
    {
      "cell_type": "code",
      "metadata": {
        "id": "x5OcHBCF9voy",
        "colab": {
          "base_uri": "https://localhost:8080/",
          "height": 0
        },
        "outputId": "b9e67354-8dcf-4e02-cb1a-589196e002bb"
      },
      "source": [
        "index.pluralize()"
      ],
      "execution_count": 49,
      "outputs": [
        {
          "output_type": "execute_result",
          "data": {
            "application/vnd.google.colaboratory.intrinsic+json": {
              "type": "string"
            },
            "text/plain": [
              "'indices'"
            ]
          },
          "metadata": {
            "tags": []
          },
          "execution_count": 49
        }
      ]
    },
    {
      "cell_type": "code",
      "metadata": {
        "id": "Q6HLJkaM9voy"
      },
      "source": [
        "cacti=Word('cacti')"
      ],
      "execution_count": 50,
      "outputs": []
    },
    {
      "cell_type": "code",
      "metadata": {
        "id": "Fy7_RRe69voy",
        "colab": {
          "base_uri": "https://localhost:8080/",
          "height": 0
        },
        "outputId": "33874211-36bb-41cd-a9a2-656b94dc941b"
      },
      "source": [
        "cacti.singularize()"
      ],
      "execution_count": 51,
      "outputs": [
        {
          "output_type": "execute_result",
          "data": {
            "application/vnd.google.colaboratory.intrinsic+json": {
              "type": "string"
            },
            "text/plain": [
              "'cactus'"
            ]
          },
          "metadata": {
            "tags": []
          },
          "execution_count": 51
        }
      ]
    },
    {
      "cell_type": "code",
      "metadata": {
        "id": "gfSGJ4e69voy"
      },
      "source": [
        "cactus=Word('cactus')"
      ],
      "execution_count": 52,
      "outputs": []
    },
    {
      "cell_type": "code",
      "metadata": {
        "id": "ZmYxNYIy9voy",
        "colab": {
          "base_uri": "https://localhost:8080/",
          "height": 0
        },
        "outputId": "235ac954-1977-4a7d-eb23-3fb3b0f5669f"
      },
      "source": [
        "cactus.pluralize()"
      ],
      "execution_count": 53,
      "outputs": [
        {
          "output_type": "execute_result",
          "data": {
            "application/vnd.google.colaboratory.intrinsic+json": {
              "type": "string"
            },
            "text/plain": [
              "'cactuss'"
            ]
          },
          "metadata": {
            "tags": []
          },
          "execution_count": 53
        }
      ]
    },
    {
      "cell_type": "code",
      "metadata": {
        "id": "rNy_cFFa9voy"
      },
      "source": [
        "from textblob import TextBlob"
      ],
      "execution_count": 54,
      "outputs": []
    },
    {
      "cell_type": "code",
      "metadata": {
        "id": "l6PO7Jk39voy"
      },
      "source": [
        "animals=TextBlob('Dog Cat Fish Bird').words\n"
      ],
      "execution_count": 55,
      "outputs": []
    },
    {
      "cell_type": "code",
      "metadata": {
        "id": "xxWvRpCT9voy",
        "colab": {
          "base_uri": "https://localhost:8080/"
        },
        "outputId": "5eb73e91-cf29-4efe-b1d9-56d7178d23c5"
      },
      "source": [
        "animals.pluralize()"
      ],
      "execution_count": 56,
      "outputs": [
        {
          "output_type": "execute_result",
          "data": {
            "text/plain": [
              "WordList(['Dogs', 'Cats', 'Fishes', 'Birds'])"
            ]
          },
          "metadata": {
            "tags": []
          },
          "execution_count": 56
        }
      ]
    },
    {
      "cell_type": "markdown",
      "metadata": {
        "id": "x9EnuCx59voy"
      },
      "source": [
        "# Harvesting Data from Twitter\n",
        "- Tweepy > 3.7\n",
        "- geopy\n"
      ]
    },
    {
      "cell_type": "code",
      "metadata": {
        "id": "-LbIbsx89voy"
      },
      "source": [
        "import tweepy #This is the Gateway to using Twitter APIs"
      ],
      "execution_count": 57,
      "outputs": []
    },
    {
      "cell_type": "markdown",
      "metadata": {
        "id": "RFV1awUq9voy"
      },
      "source": [
        "- Authenticate with the Twitter"
      ]
    },
    {
      "cell_type": "code",
      "metadata": {
        "id": "5H9hriM09voy"
      },
      "source": [
        "import keys"
      ],
      "execution_count": 58,
      "outputs": []
    },
    {
      "cell_type": "markdown",
      "metadata": {
        "id": "BQL6bYjT9voy"
      },
      "source": [
        "   - We need to create and configure an OAuthHandler to Authenticate Twitter "
      ]
    },
    {
      "cell_type": "code",
      "metadata": {
        "id": "4ZSBDpVz9voy"
      },
      "source": [
        "auth=tweepy.OAuthHandler(keys.consumer_key,keys.consumer_secret)"
      ],
      "execution_count": 59,
      "outputs": []
    },
    {
      "cell_type": "code",
      "metadata": {
        "id": "hHjTNCsY9voy"
      },
      "source": [
        "auth.set_access_token(keys.access_token,keys.access_token_secret)"
      ],
      "execution_count": 60,
      "outputs": []
    },
    {
      "cell_type": "markdown",
      "metadata": {
        "id": "4bOvUnEL9voy"
      },
      "source": [
        "# We must take note of two methods:\n",
        "- `wait_on_rate_limit=True` -- tweepy wait for 15 minutes each time gets to the limit -- violation\n",
        "- `wait_on_rate_limit_notify=True` -- displaya command line message -- hit the rate timit "
      ]
    },
    {
      "cell_type": "code",
      "metadata": {
        "id": "02qYYxi-9voy"
      },
      "source": [
        "api=tweepy.API(auth,wait_on_rate_limit=True,wait_on_rate_limit_notify=True)"
      ],
      "execution_count": 61,
      "outputs": []
    },
    {
      "cell_type": "code",
      "metadata": {
        "id": "BTyEoOXC9voy"
      },
      "source": [
        "# Getting Information About Twitter Account\n",
        "\n"
      ],
      "execution_count": 62,
      "outputs": []
    },
    {
      "cell_type": "code",
      "metadata": {
        "id": "yE1qfsyV9voy"
      },
      "source": [
        "trump=api.get_user('realDonaldTrump')"
      ],
      "execution_count": 63,
      "outputs": []
    },
    {
      "cell_type": "code",
      "metadata": {
        "id": "ZuLuPmWz9voy"
      },
      "source": [
        "nasa=api.get_user('nasa')"
      ],
      "execution_count": 64,
      "outputs": []
    },
    {
      "cell_type": "code",
      "metadata": {
        "id": "XjOuPspy9voy",
        "colab": {
          "base_uri": "https://localhost:8080/"
        },
        "outputId": "8c8b7657-8737-46e0-bb34-fe5f10effa5e"
      },
      "source": [
        "nasa.id"
      ],
      "execution_count": 65,
      "outputs": [
        {
          "output_type": "execute_result",
          "data": {
            "text/plain": [
              "11348282"
            ]
          },
          "metadata": {
            "tags": []
          },
          "execution_count": 65
        }
      ]
    },
    {
      "cell_type": "code",
      "metadata": {
        "id": "_BQ4-NfI9voy",
        "colab": {
          "base_uri": "https://localhost:8080/"
        },
        "outputId": "ae5343e3-a136-4ac8-8be1-fc493a559618"
      },
      "source": [
        "trump.id"
      ],
      "execution_count": 66,
      "outputs": [
        {
          "output_type": "execute_result",
          "data": {
            "text/plain": [
              "25073877"
            ]
          },
          "metadata": {
            "tags": []
          },
          "execution_count": 66
        }
      ]
    },
    {
      "cell_type": "code",
      "metadata": {
        "id": "0krpQHBj9voy",
        "colab": {
          "base_uri": "https://localhost:8080/",
          "height": 0
        },
        "outputId": "77adb62f-91d9-4cdf-98bf-c57aa1f9c40d"
      },
      "source": [
        "trump.name"
      ],
      "execution_count": 67,
      "outputs": [
        {
          "output_type": "execute_result",
          "data": {
            "application/vnd.google.colaboratory.intrinsic+json": {
              "type": "string"
            },
            "text/plain": [
              "'Donald J. Trump'"
            ]
          },
          "metadata": {
            "tags": []
          },
          "execution_count": 67
        }
      ]
    },
    {
      "cell_type": "code",
      "metadata": {
        "id": "jamT7rb-9voy",
        "colab": {
          "base_uri": "https://localhost:8080/",
          "height": 0
        },
        "outputId": "7786a58f-145d-4aac-80e5-1a3b5fe6cc47"
      },
      "source": [
        "nasa.name"
      ],
      "execution_count": 68,
      "outputs": [
        {
          "output_type": "execute_result",
          "data": {
            "application/vnd.google.colaboratory.intrinsic+json": {
              "type": "string"
            },
            "text/plain": [
              "'NASA'"
            ]
          },
          "metadata": {
            "tags": []
          },
          "execution_count": 68
        }
      ]
    },
    {
      "cell_type": "code",
      "metadata": {
        "id": "ELdRjdhT9voy",
        "colab": {
          "base_uri": "https://localhost:8080/",
          "height": 0
        },
        "outputId": "ee120aa4-2ee9-41cd-96ad-3a86d6186f38"
      },
      "source": [
        "nasa.description"
      ],
      "execution_count": 69,
      "outputs": [
        {
          "output_type": "execute_result",
          "data": {
            "application/vnd.google.colaboratory.intrinsic+json": {
              "type": "string"
            },
            "text/plain": [
              "'🚀 Just launched: the Sentinel-6 Michael Freilich satellite lifted off Nov. 21 at 12:17pm ET (5:17pm UTC) to measure the global ocean.'"
            ]
          },
          "metadata": {
            "tags": []
          },
          "execution_count": 69
        }
      ]
    },
    {
      "cell_type": "code",
      "metadata": {
        "id": "49BJizoo9voy",
        "colab": {
          "base_uri": "https://localhost:8080/",
          "height": 0
        },
        "outputId": "85e21ba8-9411-4693-acbe-27772c4f4035"
      },
      "source": [
        "trump.description"
      ],
      "execution_count": 70,
      "outputs": [
        {
          "output_type": "execute_result",
          "data": {
            "application/vnd.google.colaboratory.intrinsic+json": {
              "type": "string"
            },
            "text/plain": [
              "'45th President of the United States of America🇺🇸'"
            ]
          },
          "metadata": {
            "tags": []
          },
          "execution_count": 70
        }
      ]
    },
    {
      "cell_type": "code",
      "metadata": {
        "id": "8sGKkn6I9voz",
        "colab": {
          "base_uri": "https://localhost:8080/",
          "height": 0
        },
        "outputId": "6512ae99-0291-4425-9252-c429a082cf82"
      },
      "source": [
        "trump.status.text"
      ],
      "execution_count": 71,
      "outputs": [
        {
          "output_type": "execute_result",
          "data": {
            "application/vnd.google.colaboratory.intrinsic+json": {
              "type": "string"
            },
            "text/plain": [
              "'Data: Trump‘s Anti-Globalism, Pro-Police Message Wins Over Hispanics https://t.co/syiQ2cwuwU via @BreitbartNews Gre… https://t.co/Sgf2SCgfje'"
            ]
          },
          "metadata": {
            "tags": []
          },
          "execution_count": 71
        }
      ]
    },
    {
      "cell_type": "code",
      "metadata": {
        "id": "01K1CsIT9voz",
        "colab": {
          "base_uri": "https://localhost:8080/",
          "height": 0
        },
        "outputId": "46013926-f1e5-4cf3-8f75-9b0de06b2cd5"
      },
      "source": [
        "nasa.status.text"
      ],
      "execution_count": 72,
      "outputs": [
        {
          "output_type": "execute_result",
          "data": {
            "application/vnd.google.colaboratory.intrinsic+json": {
              "type": "string"
            },
            "text/plain": [
              "'Engineers recently simulated the all-important fueling process for our @NASA_SLS rocket that will power the first… https://t.co/72ordM66k5'"
            ]
          },
          "metadata": {
            "tags": []
          },
          "execution_count": 72
        }
      ]
    },
    {
      "cell_type": "code",
      "metadata": {
        "id": "q7JK8G7V9voz",
        "colab": {
          "base_uri": "https://localhost:8080/"
        },
        "outputId": "91a5bb25-592f-4eac-c797-ab3e81b8d6d3"
      },
      "source": [
        "nasa.followers_count"
      ],
      "execution_count": 73,
      "outputs": [
        {
          "output_type": "execute_result",
          "data": {
            "text/plain": [
              "42018195"
            ]
          },
          "metadata": {
            "tags": []
          },
          "execution_count": 73
        }
      ]
    },
    {
      "cell_type": "code",
      "metadata": {
        "id": "gr8AjoGW9voz",
        "colab": {
          "base_uri": "https://localhost:8080/"
        },
        "outputId": "90b3c1c6-4415-48fe-8cbc-207beec3de49"
      },
      "source": [
        "trump.followers_count"
      ],
      "execution_count": 74,
      "outputs": [
        {
          "output_type": "execute_result",
          "data": {
            "text/plain": [
              "88911646"
            ]
          },
          "metadata": {
            "tags": []
          },
          "execution_count": 74
        }
      ]
    },
    {
      "cell_type": "code",
      "metadata": {
        "id": "nlPRL_b39voz"
      },
      "source": [
        "obama=api.get_user('BarackObama')"
      ],
      "execution_count": 75,
      "outputs": []
    },
    {
      "cell_type": "code",
      "metadata": {
        "id": "2kHAfoBB9voz",
        "colab": {
          "base_uri": "https://localhost:8080/",
          "height": 0
        },
        "outputId": "014b61f5-2a29-42af-fadc-b12b954b67eb"
      },
      "source": [
        "obama.status.text"
      ],
      "execution_count": 76,
      "outputs": [
        {
          "output_type": "execute_result",
          "data": {
            "application/vnd.google.colaboratory.intrinsic+json": {
              "type": "string"
            },
            "text/plain": [
              "'Michelle and I are eager to bring the Obama Presidential Center to our hometown—a way to honor the city we love, al… https://t.co/OTncHo0ydA'"
            ]
          },
          "metadata": {
            "tags": []
          },
          "execution_count": 76
        }
      ]
    },
    {
      "cell_type": "code",
      "metadata": {
        "id": "pYaxj9Y19voz",
        "colab": {
          "base_uri": "https://localhost:8080/"
        },
        "outputId": "a5607bc1-c8cb-4774-9e12-5852ecb45c3a"
      },
      "source": [
        "obama.followers_count"
      ],
      "execution_count": 77,
      "outputs": [
        {
          "output_type": "execute_result",
          "data": {
            "text/plain": [
              "126585525"
            ]
          },
          "metadata": {
            "tags": []
          },
          "execution_count": 77
        }
      ]
    },
    {
      "cell_type": "code",
      "metadata": {
        "id": "KUPYueLn9voz",
        "colab": {
          "base_uri": "https://localhost:8080/"
        },
        "outputId": "a96fcac1-f3a1-400c-9c0c-4ec3082552af"
      },
      "source": [
        "obama.friends_count"
      ],
      "execution_count": 78,
      "outputs": [
        {
          "output_type": "execute_result",
          "data": {
            "text/plain": [
              "598543"
            ]
          },
          "metadata": {
            "tags": []
          },
          "execution_count": 78
        }
      ]
    },
    {
      "cell_type": "code",
      "metadata": {
        "id": "C3nZQ2BA9voz"
      },
      "source": [
        "me=api.me()"
      ],
      "execution_count": 79,
      "outputs": []
    },
    {
      "cell_type": "code",
      "metadata": {
        "id": "tFHKERsE9voz",
        "colab": {
          "base_uri": "https://localhost:8080/",
          "height": 0
        },
        "outputId": "acb92931-723d-4d11-aca0-a1a6c975f9b9"
      },
      "source": [
        "me.description"
      ],
      "execution_count": 80,
      "outputs": [
        {
          "output_type": "execute_result",
          "data": {
            "application/vnd.google.colaboratory.intrinsic+json": {
              "type": "string"
            },
            "text/plain": [
              "'patelriya1321@gmail.com'"
            ]
          },
          "metadata": {
            "tags": []
          },
          "execution_count": 80
        }
      ]
    },
    {
      "cell_type": "code",
      "metadata": {
        "id": "aU537-sl9voz",
        "colab": {
          "base_uri": "https://localhost:8080/",
          "height": 0
        },
        "outputId": "58616a82-c501-425a-9e6c-126f1c64d1b2"
      },
      "source": [
        "me.name"
      ],
      "execution_count": 81,
      "outputs": [
        {
          "output_type": "execute_result",
          "data": {
            "application/vnd.google.colaboratory.intrinsic+json": {
              "type": "string"
            },
            "text/plain": [
              "'Riya'"
            ]
          },
          "metadata": {
            "tags": []
          },
          "execution_count": 81
        }
      ]
    },
    {
      "cell_type": "markdown",
      "metadata": {
        "id": "OCAr2Mis9voz"
      },
      "source": [
        "#Excercise\n",
        "-- Status\n",
        "-- 4 accounts\n",
        "-- sentiment analysis-inbuilt one and nayebayesclasifier"
      ]
    },
    {
      "cell_type": "markdown",
      "metadata": {
        "id": "sGWYKjXP9voz"
      },
      "source": [
        "# Spell Checking"
      ]
    },
    {
      "cell_type": "markdown",
      "metadata": {
        "id": "RTED3YIW9voz"
      },
      "source": [
        "- Free of spelling errors.\n",
        "- Word's spellchech method - list of tuples - correct spelling- confidence values\n",
        "- Theyr for They"
      ]
    },
    {
      "cell_type": "code",
      "metadata": {
        "id": "uY3HNohP9voz"
      },
      "source": [
        "from textblob import Word"
      ],
      "execution_count": 82,
      "outputs": []
    },
    {
      "cell_type": "code",
      "metadata": {
        "id": "B_XAVwaa9voz"
      },
      "source": [
        "word=Word('massanger')"
      ],
      "execution_count": 83,
      "outputs": []
    },
    {
      "cell_type": "code",
      "metadata": {
        "id": "3BFrKzCv9voz",
        "colab": {
          "base_uri": "https://localhost:8080/"
        },
        "outputId": "39bfe1c4-a9c1-4227-f9a3-535dd6fe5f6d"
      },
      "source": [
        "word.spellcheck()"
      ],
      "execution_count": 84,
      "outputs": [
        {
          "output_type": "execute_result",
          "data": {
            "text/plain": [
              "[('massage', 0.412),\n",
              " ('messenger', 0.368),\n",
              " ('passenger', 0.118),\n",
              " ('massaged', 0.103)]"
            ]
          },
          "metadata": {
            "tags": []
          },
          "execution_count": 84
        }
      ]
    },
    {
      "cell_type": "code",
      "metadata": {
        "id": "ucxng9yz9voz",
        "colab": {
          "base_uri": "https://localhost:8080/",
          "height": 0
        },
        "outputId": "e8106c66-9fec-4035-d61a-cd3266781e0d"
      },
      "source": [
        "word.correct()"
      ],
      "execution_count": 85,
      "outputs": [
        {
          "output_type": "execute_result",
          "data": {
            "application/vnd.google.colaboratory.intrinsic+json": {
              "type": "string"
            },
            "text/plain": [
              "'massage'"
            ]
          },
          "metadata": {
            "tags": []
          },
          "execution_count": 85
        }
      ]
    },
    {
      "cell_type": "code",
      "metadata": {
        "id": "QGLviP-R9voz"
      },
      "source": [
        "from textblob import TextBlob"
      ],
      "execution_count": 86,
      "outputs": []
    },
    {
      "cell_type": "code",
      "metadata": {
        "id": "-JfLzGF-9voz"
      },
      "source": [
        "sentence = TextBlob(\"This is an importnt session, since it loks at natural languag\")"
      ],
      "execution_count": 87,
      "outputs": []
    },
    {
      "cell_type": "code",
      "metadata": {
        "id": "XPwmQpE49voz",
        "colab": {
          "base_uri": "https://localhost:8080/"
        },
        "outputId": "97f9587f-ba91-44a8-c465-feb164155d7d"
      },
      "source": [
        "sentence.correct()"
      ],
      "execution_count": 88,
      "outputs": [
        {
          "output_type": "execute_result",
          "data": {
            "text/plain": [
              "TextBlob(\"His is an important session, since it loss at natural language\")"
            ]
          },
          "metadata": {
            "tags": []
          },
          "execution_count": 88
        }
      ]
    },
    {
      "cell_type": "markdown",
      "metadata": {
        "id": "gbuE0D0D9vo0"
      },
      "source": [
        "# Normalization: Stemming and Lemmatization\n",
        "    - Stemming - Removing the prefix and the surfix -Not a real word meaning\n",
        "    - Lemmatization - Same- result - Real World Meaning\n",
        "    \n",
        "    - Normalization - program, programs, Programming"
      ]
    },
    {
      "cell_type": "code",
      "metadata": {
        "id": "kjtGFZck9vo0"
      },
      "source": [
        "from textblob import Word"
      ],
      "execution_count": 89,
      "outputs": []
    },
    {
      "cell_type": "code",
      "metadata": {
        "id": "PuiWjiCH9vo0"
      },
      "source": [
        "word = Word('Varieties')"
      ],
      "execution_count": 90,
      "outputs": []
    },
    {
      "cell_type": "code",
      "metadata": {
        "id": "ucirYRtH9vo0",
        "colab": {
          "base_uri": "https://localhost:8080/",
          "height": 0
        },
        "outputId": "e13483ec-a540-4892-94a3-708394f8a695"
      },
      "source": [
        "word.stem()"
      ],
      "execution_count": 91,
      "outputs": [
        {
          "output_type": "execute_result",
          "data": {
            "application/vnd.google.colaboratory.intrinsic+json": {
              "type": "string"
            },
            "text/plain": [
              "'varieti'"
            ]
          },
          "metadata": {
            "tags": []
          },
          "execution_count": 91
        }
      ]
    },
    {
      "cell_type": "code",
      "metadata": {
        "colab": {
          "base_uri": "https://localhost:8080/"
        },
        "id": "EPAQNY3lTX6o",
        "outputId": "38cf9e0b-040a-4b54-f467-46bd61eb24c5"
      },
      "source": [
        "import nltk\n",
        "nltk.download('wordnet')"
      ],
      "execution_count": 92,
      "outputs": [
        {
          "output_type": "stream",
          "text": [
            "[nltk_data] Downloading package wordnet to /root/nltk_data...\n",
            "[nltk_data]   Unzipping corpora/wordnet.zip.\n"
          ],
          "name": "stdout"
        },
        {
          "output_type": "execute_result",
          "data": {
            "text/plain": [
              "True"
            ]
          },
          "metadata": {
            "tags": []
          },
          "execution_count": 92
        }
      ]
    },
    {
      "cell_type": "code",
      "metadata": {
        "id": "9fbUujtv9vo0",
        "colab": {
          "base_uri": "https://localhost:8080/",
          "height": 0
        },
        "outputId": "c3163aa1-56af-459c-9bba-9722987e3fc7"
      },
      "source": [
        "word.lemmatize()"
      ],
      "execution_count": 93,
      "outputs": [
        {
          "output_type": "execute_result",
          "data": {
            "application/vnd.google.colaboratory.intrinsic+json": {
              "type": "string"
            },
            "text/plain": [
              "'Varieties'"
            ]
          },
          "metadata": {
            "tags": []
          },
          "execution_count": 93
        }
      ]
    },
    {
      "cell_type": "markdown",
      "metadata": {
        "id": "1ewYVm7F9vo0"
      },
      "source": [
        "# Word Frequencies\n",
        "\n",
        "- Get Similarities between documents - word frequencies\n",
        "- TextBlob can count the word frequencies for you\n",
        "- Path's read_text() - reads closes"
      ]
    },
    {
      "cell_type": "code",
      "metadata": {
        "id": "wOKZL7Yw9vo0"
      },
      "source": [
        "from pathlib import Path"
      ],
      "execution_count": 94,
      "outputs": []
    },
    {
      "cell_type": "code",
      "metadata": {
        "id": "v--axIQQ9vo0"
      },
      "source": [
        "from textblob import TextBlob"
      ],
      "execution_count": 95,
      "outputs": []
    },
    {
      "cell_type": "code",
      "metadata": {
        "id": "FiEONQJK9vo0"
      },
      "source": [
        "blob = TextBlob(Path('Romeo and Juliet.txt').read_text())"
      ],
      "execution_count": 96,
      "outputs": []
    },
    {
      "cell_type": "code",
      "metadata": {
        "id": "hB1IL3B99vo0",
        "colab": {
          "base_uri": "https://localhost:8080/"
        },
        "outputId": "65ee7f62-43b7-480c-980c-1604027f54e2"
      },
      "source": [
        "blob.word_counts['juliet']"
      ],
      "execution_count": 97,
      "outputs": [
        {
          "output_type": "execute_result",
          "data": {
            "text/plain": [
              "189"
            ]
          },
          "metadata": {
            "tags": []
          },
          "execution_count": 97
        }
      ]
    },
    {
      "cell_type": "code",
      "metadata": {
        "id": "jks9D5E49vo0",
        "colab": {
          "base_uri": "https://localhost:8080/"
        },
        "outputId": "8bafbb40-ef71-496e-ba68-8dce099e6bcb"
      },
      "source": [
        "blob.words.count('Juliet')"
      ],
      "execution_count": 98,
      "outputs": [
        {
          "output_type": "execute_result",
          "data": {
            "text/plain": [
              "189"
            ]
          },
          "metadata": {
            "tags": []
          },
          "execution_count": 98
        }
      ]
    },
    {
      "cell_type": "code",
      "metadata": {
        "id": "qXLEJESM9vo0",
        "colab": {
          "base_uri": "https://localhost:8080/"
        },
        "outputId": "fc642685-ff70-496b-e7f6-98c8e7a95e18"
      },
      "source": [
        "blob.word_counts['romeo']"
      ],
      "execution_count": 99,
      "outputs": [
        {
          "output_type": "execute_result",
          "data": {
            "text/plain": [
              "314"
            ]
          },
          "metadata": {
            "tags": []
          },
          "execution_count": 99
        }
      ]
    },
    {
      "cell_type": "code",
      "metadata": {
        "id": "6admF_OY9vo0",
        "colab": {
          "base_uri": "https://localhost:8080/"
        },
        "outputId": "6c90d205-c560-4e78-8b4b-da92fd642719"
      },
      "source": [
        "blob.words.count('Romeo')"
      ],
      "execution_count": 100,
      "outputs": [
        {
          "output_type": "execute_result",
          "data": {
            "text/plain": [
              "314"
            ]
          },
          "metadata": {
            "tags": []
          },
          "execution_count": 100
        }
      ]
    },
    {
      "cell_type": "code",
      "metadata": {
        "id": "fxlWzYxP9vo0",
        "colab": {
          "base_uri": "https://localhost:8080/"
        },
        "outputId": "099a4505-a383-4c40-8dab-d62600154a0f"
      },
      "source": [
        "blob.noun_phrases.count('lady capulet')"
      ],
      "execution_count": 101,
      "outputs": [
        {
          "output_type": "execute_result",
          "data": {
            "text/plain": [
              "46"
            ]
          },
          "metadata": {
            "tags": []
          },
          "execution_count": 101
        }
      ]
    },
    {
      "cell_type": "markdown",
      "metadata": {
        "id": "Rpm9Y19h9vo0"
      },
      "source": [
        "# Getting Definitions, Synonyms,and Antonyms from WordNet\n",
        " - Using the WordNet -English word Datasabe - Definitions sunonyms ans antonyms"
      ]
    },
    {
      "cell_type": "code",
      "metadata": {
        "id": "jlOX-m-a9vo0"
      },
      "source": [
        "from textblob import Word"
      ],
      "execution_count": 102,
      "outputs": []
    },
    {
      "cell_type": "code",
      "metadata": {
        "id": "cLYSYkeH9vo0"
      },
      "source": [
        "happy = Word('happy')"
      ],
      "execution_count": 103,
      "outputs": []
    },
    {
      "cell_type": "code",
      "metadata": {
        "id": "ZlIV4Hr79vo0",
        "colab": {
          "base_uri": "https://localhost:8080/"
        },
        "outputId": "1ce5dd98-8229-4a75-d9df-f542601d0fdf"
      },
      "source": [
        "happy.definitions"
      ],
      "execution_count": 104,
      "outputs": [
        {
          "output_type": "execute_result",
          "data": {
            "text/plain": [
              "['enjoying or showing or marked by joy or pleasure',\n",
              " 'marked by good fortune',\n",
              " 'eagerly disposed to act or to be of service',\n",
              " 'well expressed and to the point']"
            ]
          },
          "metadata": {
            "tags": []
          },
          "execution_count": 104
        }
      ]
    },
    {
      "cell_type": "code",
      "metadata": {
        "id": "pHDh9sna9vo0",
        "colab": {
          "base_uri": "https://localhost:8080/"
        },
        "outputId": "fb311ced-9f17-40ba-a173-a282bbba1f57"
      },
      "source": [
        "happy.define()"
      ],
      "execution_count": 105,
      "outputs": [
        {
          "output_type": "execute_result",
          "data": {
            "text/plain": [
              "['enjoying or showing or marked by joy or pleasure',\n",
              " 'marked by good fortune',\n",
              " 'eagerly disposed to act or to be of service',\n",
              " 'well expressed and to the point']"
            ]
          },
          "metadata": {
            "tags": []
          },
          "execution_count": 105
        }
      ]
    },
    {
      "cell_type": "code",
      "metadata": {
        "id": "yPmJWUhv9vo0",
        "colab": {
          "base_uri": "https://localhost:8080/"
        },
        "outputId": "6396ff66-8aba-4f04-ed20-b0d271df3b73"
      },
      "source": [
        "happy.synsets"
      ],
      "execution_count": 106,
      "outputs": [
        {
          "output_type": "execute_result",
          "data": {
            "text/plain": [
              "[Synset('happy.a.01'),\n",
              " Synset('felicitous.s.02'),\n",
              " Synset('glad.s.02'),\n",
              " Synset('happy.s.04')]"
            ]
          },
          "metadata": {
            "tags": []
          },
          "execution_count": 106
        }
      ]
    },
    {
      "cell_type": "markdown",
      "metadata": {
        "id": "CwLce0tG9vo0"
      },
      "source": [
        "synset - Group of synonyms\n",
        "- Word's lemmitized form\n",
        "- a - Adjectives n- Nouns V-Verbs r- Adverbs s- Adjectivr satellite"
      ]
    },
    {
      "cell_type": "code",
      "metadata": {
        "id": "gHpH-nZO9vo0"
      },
      "source": [
        "synonyms=set()"
      ],
      "execution_count": 107,
      "outputs": []
    },
    {
      "cell_type": "code",
      "metadata": {
        "id": "xrts6xLQ9vo0"
      },
      "source": [
        "for synset in happy.synsets:\n",
        "    for lemma in synset.lemmas():\n",
        "        synonyms.add(lemma.name())"
      ],
      "execution_count": 108,
      "outputs": []
    },
    {
      "cell_type": "code",
      "metadata": {
        "id": "FprHKVzj9vo1",
        "colab": {
          "base_uri": "https://localhost:8080/"
        },
        "outputId": "0ad4cb8a-cc71-4175-84a6-ed8ec9f864ce"
      },
      "source": [
        "synonyms"
      ],
      "execution_count": 109,
      "outputs": [
        {
          "output_type": "execute_result",
          "data": {
            "text/plain": [
              "{'felicitous', 'glad', 'happy', 'well-chosen'}"
            ]
          },
          "metadata": {
            "tags": []
          },
          "execution_count": 109
        }
      ]
    },
    {
      "cell_type": "code",
      "metadata": {
        "id": "d1vwemac9vo1"
      },
      "source": [
        "lemmas = happy.synsets[0].lemmas()"
      ],
      "execution_count": 110,
      "outputs": []
    },
    {
      "cell_type": "code",
      "metadata": {
        "id": "Bv8KesWZ9vo1",
        "colab": {
          "base_uri": "https://localhost:8080/"
        },
        "outputId": "53b04e06-dc92-4789-bc4f-2114fe1f6ca6"
      },
      "source": [
        "lemmas"
      ],
      "execution_count": 111,
      "outputs": [
        {
          "output_type": "execute_result",
          "data": {
            "text/plain": [
              "[Lemma('happy.a.01.happy')]"
            ]
          },
          "metadata": {
            "tags": []
          },
          "execution_count": 111
        }
      ]
    },
    {
      "cell_type": "code",
      "metadata": {
        "id": "CCddKGzQ9vo1",
        "colab": {
          "base_uri": "https://localhost:8080/"
        },
        "outputId": "752c015f-447f-4dd1-a308-9197646726fc"
      },
      "source": [
        "lemmas[0].antonyms()"
      ],
      "execution_count": 112,
      "outputs": [
        {
          "output_type": "execute_result",
          "data": {
            "text/plain": [
              "[Lemma('unhappy.a.01.unhappy')]"
            ]
          },
          "metadata": {
            "tags": []
          },
          "execution_count": 112
        }
      ]
    },
    {
      "cell_type": "code",
      "metadata": {
        "id": "e4JOvA4o9vo1"
      },
      "source": [
        "#lemmas[2].antonyms()"
      ],
      "execution_count": 113,
      "outputs": []
    },
    {
      "cell_type": "markdown",
      "metadata": {
        "id": "WkThga1-9vo1"
      },
      "source": [
        "# Stop Words\n",
        "- Common Words taht are often removed before analysis -> useful iinformation\n",
        "- nlth - stopwords"
      ]
    },
    {
      "cell_type": "code",
      "metadata": {
        "id": "YgnD3BB09vo1"
      },
      "source": [
        "import nltk"
      ],
      "execution_count": 114,
      "outputs": []
    },
    {
      "cell_type": "code",
      "metadata": {
        "id": "8x04AUeW9vo1",
        "colab": {
          "base_uri": "https://localhost:8080/"
        },
        "outputId": "ccf80c1c-5f28-4f20-9863-92a1bb663885"
      },
      "source": [
        "nltk.download('stopwords')"
      ],
      "execution_count": 115,
      "outputs": [
        {
          "output_type": "stream",
          "text": [
            "[nltk_data] Downloading package stopwords to /root/nltk_data...\n",
            "[nltk_data]   Unzipping corpora/stopwords.zip.\n"
          ],
          "name": "stdout"
        },
        {
          "output_type": "execute_result",
          "data": {
            "text/plain": [
              "True"
            ]
          },
          "metadata": {
            "tags": []
          },
          "execution_count": 115
        }
      ]
    },
    {
      "cell_type": "code",
      "metadata": {
        "id": "LX8Gzk0T9vo1"
      },
      "source": [
        "from nltk.corpus import stopwords"
      ],
      "execution_count": 116,
      "outputs": []
    },
    {
      "cell_type": "code",
      "metadata": {
        "id": "QolDXOuh9vo1"
      },
      "source": [
        "stops = stopwords.words('english')"
      ],
      "execution_count": 117,
      "outputs": []
    },
    {
      "cell_type": "code",
      "metadata": {
        "id": "k5Wg4vWr9vo1"
      },
      "source": [
        "stopsFrench= stopwords.words('french')"
      ],
      "execution_count": 118,
      "outputs": []
    },
    {
      "cell_type": "code",
      "metadata": {
        "id": "And81Hz29vo1",
        "colab": {
          "base_uri": "https://localhost:8080/"
        },
        "outputId": "f1b2c6a6-7682-4299-829d-6e2c374fd04b"
      },
      "source": [
        "stops"
      ],
      "execution_count": 119,
      "outputs": [
        {
          "output_type": "execute_result",
          "data": {
            "text/plain": [
              "['i',\n",
              " 'me',\n",
              " 'my',\n",
              " 'myself',\n",
              " 'we',\n",
              " 'our',\n",
              " 'ours',\n",
              " 'ourselves',\n",
              " 'you',\n",
              " \"you're\",\n",
              " \"you've\",\n",
              " \"you'll\",\n",
              " \"you'd\",\n",
              " 'your',\n",
              " 'yours',\n",
              " 'yourself',\n",
              " 'yourselves',\n",
              " 'he',\n",
              " 'him',\n",
              " 'his',\n",
              " 'himself',\n",
              " 'she',\n",
              " \"she's\",\n",
              " 'her',\n",
              " 'hers',\n",
              " 'herself',\n",
              " 'it',\n",
              " \"it's\",\n",
              " 'its',\n",
              " 'itself',\n",
              " 'they',\n",
              " 'them',\n",
              " 'their',\n",
              " 'theirs',\n",
              " 'themselves',\n",
              " 'what',\n",
              " 'which',\n",
              " 'who',\n",
              " 'whom',\n",
              " 'this',\n",
              " 'that',\n",
              " \"that'll\",\n",
              " 'these',\n",
              " 'those',\n",
              " 'am',\n",
              " 'is',\n",
              " 'are',\n",
              " 'was',\n",
              " 'were',\n",
              " 'be',\n",
              " 'been',\n",
              " 'being',\n",
              " 'have',\n",
              " 'has',\n",
              " 'had',\n",
              " 'having',\n",
              " 'do',\n",
              " 'does',\n",
              " 'did',\n",
              " 'doing',\n",
              " 'a',\n",
              " 'an',\n",
              " 'the',\n",
              " 'and',\n",
              " 'but',\n",
              " 'if',\n",
              " 'or',\n",
              " 'because',\n",
              " 'as',\n",
              " 'until',\n",
              " 'while',\n",
              " 'of',\n",
              " 'at',\n",
              " 'by',\n",
              " 'for',\n",
              " 'with',\n",
              " 'about',\n",
              " 'against',\n",
              " 'between',\n",
              " 'into',\n",
              " 'through',\n",
              " 'during',\n",
              " 'before',\n",
              " 'after',\n",
              " 'above',\n",
              " 'below',\n",
              " 'to',\n",
              " 'from',\n",
              " 'up',\n",
              " 'down',\n",
              " 'in',\n",
              " 'out',\n",
              " 'on',\n",
              " 'off',\n",
              " 'over',\n",
              " 'under',\n",
              " 'again',\n",
              " 'further',\n",
              " 'then',\n",
              " 'once',\n",
              " 'here',\n",
              " 'there',\n",
              " 'when',\n",
              " 'where',\n",
              " 'why',\n",
              " 'how',\n",
              " 'all',\n",
              " 'any',\n",
              " 'both',\n",
              " 'each',\n",
              " 'few',\n",
              " 'more',\n",
              " 'most',\n",
              " 'other',\n",
              " 'some',\n",
              " 'such',\n",
              " 'no',\n",
              " 'nor',\n",
              " 'not',\n",
              " 'only',\n",
              " 'own',\n",
              " 'same',\n",
              " 'so',\n",
              " 'than',\n",
              " 'too',\n",
              " 'very',\n",
              " 's',\n",
              " 't',\n",
              " 'can',\n",
              " 'will',\n",
              " 'just',\n",
              " 'don',\n",
              " \"don't\",\n",
              " 'should',\n",
              " \"should've\",\n",
              " 'now',\n",
              " 'd',\n",
              " 'll',\n",
              " 'm',\n",
              " 'o',\n",
              " 're',\n",
              " 've',\n",
              " 'y',\n",
              " 'ain',\n",
              " 'aren',\n",
              " \"aren't\",\n",
              " 'couldn',\n",
              " \"couldn't\",\n",
              " 'didn',\n",
              " \"didn't\",\n",
              " 'doesn',\n",
              " \"doesn't\",\n",
              " 'hadn',\n",
              " \"hadn't\",\n",
              " 'hasn',\n",
              " \"hasn't\",\n",
              " 'haven',\n",
              " \"haven't\",\n",
              " 'isn',\n",
              " \"isn't\",\n",
              " 'ma',\n",
              " 'mightn',\n",
              " \"mightn't\",\n",
              " 'mustn',\n",
              " \"mustn't\",\n",
              " 'needn',\n",
              " \"needn't\",\n",
              " 'shan',\n",
              " \"shan't\",\n",
              " 'shouldn',\n",
              " \"shouldn't\",\n",
              " 'wasn',\n",
              " \"wasn't\",\n",
              " 'weren',\n",
              " \"weren't\",\n",
              " 'won',\n",
              " \"won't\",\n",
              " 'wouldn',\n",
              " \"wouldn't\"]"
            ]
          },
          "metadata": {
            "tags": []
          },
          "execution_count": 119
        }
      ]
    },
    {
      "cell_type": "code",
      "metadata": {
        "id": "XYlrqetV9vo1",
        "colab": {
          "base_uri": "https://localhost:8080/"
        },
        "outputId": "a4a274b8-b78a-448e-86a6-63ddccb3ce21"
      },
      "source": [
        "stopsFrench"
      ],
      "execution_count": 120,
      "outputs": [
        {
          "output_type": "execute_result",
          "data": {
            "text/plain": [
              "['au',\n",
              " 'aux',\n",
              " 'avec',\n",
              " 'ce',\n",
              " 'ces',\n",
              " 'dans',\n",
              " 'de',\n",
              " 'des',\n",
              " 'du',\n",
              " 'elle',\n",
              " 'en',\n",
              " 'et',\n",
              " 'eux',\n",
              " 'il',\n",
              " 'ils',\n",
              " 'je',\n",
              " 'la',\n",
              " 'le',\n",
              " 'les',\n",
              " 'leur',\n",
              " 'lui',\n",
              " 'ma',\n",
              " 'mais',\n",
              " 'me',\n",
              " 'même',\n",
              " 'mes',\n",
              " 'moi',\n",
              " 'mon',\n",
              " 'ne',\n",
              " 'nos',\n",
              " 'notre',\n",
              " 'nous',\n",
              " 'on',\n",
              " 'ou',\n",
              " 'par',\n",
              " 'pas',\n",
              " 'pour',\n",
              " 'qu',\n",
              " 'que',\n",
              " 'qui',\n",
              " 'sa',\n",
              " 'se',\n",
              " 'ses',\n",
              " 'son',\n",
              " 'sur',\n",
              " 'ta',\n",
              " 'te',\n",
              " 'tes',\n",
              " 'toi',\n",
              " 'ton',\n",
              " 'tu',\n",
              " 'un',\n",
              " 'une',\n",
              " 'vos',\n",
              " 'votre',\n",
              " 'vous',\n",
              " 'c',\n",
              " 'd',\n",
              " 'j',\n",
              " 'l',\n",
              " 'à',\n",
              " 'm',\n",
              " 'n',\n",
              " 's',\n",
              " 't',\n",
              " 'y',\n",
              " 'été',\n",
              " 'étée',\n",
              " 'étées',\n",
              " 'étés',\n",
              " 'étant',\n",
              " 'étante',\n",
              " 'étants',\n",
              " 'étantes',\n",
              " 'suis',\n",
              " 'es',\n",
              " 'est',\n",
              " 'sommes',\n",
              " 'êtes',\n",
              " 'sont',\n",
              " 'serai',\n",
              " 'seras',\n",
              " 'sera',\n",
              " 'serons',\n",
              " 'serez',\n",
              " 'seront',\n",
              " 'serais',\n",
              " 'serait',\n",
              " 'serions',\n",
              " 'seriez',\n",
              " 'seraient',\n",
              " 'étais',\n",
              " 'était',\n",
              " 'étions',\n",
              " 'étiez',\n",
              " 'étaient',\n",
              " 'fus',\n",
              " 'fut',\n",
              " 'fûmes',\n",
              " 'fûtes',\n",
              " 'furent',\n",
              " 'sois',\n",
              " 'soit',\n",
              " 'soyons',\n",
              " 'soyez',\n",
              " 'soient',\n",
              " 'fusse',\n",
              " 'fusses',\n",
              " 'fût',\n",
              " 'fussions',\n",
              " 'fussiez',\n",
              " 'fussent',\n",
              " 'ayant',\n",
              " 'ayante',\n",
              " 'ayantes',\n",
              " 'ayants',\n",
              " 'eu',\n",
              " 'eue',\n",
              " 'eues',\n",
              " 'eus',\n",
              " 'ai',\n",
              " 'as',\n",
              " 'avons',\n",
              " 'avez',\n",
              " 'ont',\n",
              " 'aurai',\n",
              " 'auras',\n",
              " 'aura',\n",
              " 'aurons',\n",
              " 'aurez',\n",
              " 'auront',\n",
              " 'aurais',\n",
              " 'aurait',\n",
              " 'aurions',\n",
              " 'auriez',\n",
              " 'auraient',\n",
              " 'avais',\n",
              " 'avait',\n",
              " 'avions',\n",
              " 'aviez',\n",
              " 'avaient',\n",
              " 'eut',\n",
              " 'eûmes',\n",
              " 'eûtes',\n",
              " 'eurent',\n",
              " 'aie',\n",
              " 'aies',\n",
              " 'ait',\n",
              " 'ayons',\n",
              " 'ayez',\n",
              " 'aient',\n",
              " 'eusse',\n",
              " 'eusses',\n",
              " 'eût',\n",
              " 'eussions',\n",
              " 'eussiez',\n",
              " 'eussent']"
            ]
          },
          "metadata": {
            "tags": []
          },
          "execution_count": 120
        }
      ]
    },
    {
      "cell_type": "code",
      "metadata": {
        "id": "srCn1qN79vo1"
      },
      "source": [
        "from textblob import TextBlob"
      ],
      "execution_count": 121,
      "outputs": []
    },
    {
      "cell_type": "code",
      "metadata": {
        "id": "aXsSUdXt9vo1"
      },
      "source": [
        "blob = TextBlob('Today is a beautiful day.')"
      ],
      "execution_count": 122,
      "outputs": []
    },
    {
      "cell_type": "code",
      "metadata": {
        "id": "rao1cjik9vo1",
        "colab": {
          "base_uri": "https://localhost:8080/"
        },
        "outputId": "3c992d78-def6-4b2f-9331-3319f6ac43f8"
      },
      "source": [
        "[words for words in blob.words if words not in stops]"
      ],
      "execution_count": 123,
      "outputs": [
        {
          "output_type": "execute_result",
          "data": {
            "text/plain": [
              "['Today', 'beautiful', 'day']"
            ]
          },
          "metadata": {
            "tags": []
          },
          "execution_count": 123
        }
      ]
    },
    {
      "cell_type": "markdown",
      "metadata": {
        "id": "F5qch-MQ9vo1"
      },
      "source": [
        "# N-Grams\n",
        "\n",
        " - A sequence of n text items - letters in words or words in sentences\n",
        " - Identify Letters or words that appear frequently \n",
        "     - Predictive text input\n",
        "     - speech to text input \n",
        "     "
      ]
    },
    {
      "cell_type": "code",
      "metadata": {
        "id": "-LJ86SS89vo1"
      },
      "source": [
        "text = 'Today is a beautiful day. Tomorrow looks bad weather.'"
      ],
      "execution_count": 124,
      "outputs": []
    },
    {
      "cell_type": "code",
      "metadata": {
        "id": "GS1Iam2k9vo1"
      },
      "source": [
        "blob =TextBlob(text)"
      ],
      "execution_count": 125,
      "outputs": []
    },
    {
      "cell_type": "code",
      "metadata": {
        "id": "_rCceT6D9vo1"
      },
      "source": [
        "#ngrams() n=4 = 6 default is 3"
      ],
      "execution_count": 126,
      "outputs": []
    },
    {
      "cell_type": "code",
      "metadata": {
        "id": "3FGeCOJ99vo1",
        "colab": {
          "base_uri": "https://localhost:8080/"
        },
        "outputId": "993f2f21-3ff7-4bb1-ddec-7f335b159a70"
      },
      "source": [
        "blob.ngrams(n=3)"
      ],
      "execution_count": 127,
      "outputs": [
        {
          "output_type": "execute_result",
          "data": {
            "text/plain": [
              "[WordList(['Today', 'is', 'a']),\n",
              " WordList(['is', 'a', 'beautiful']),\n",
              " WordList(['a', 'beautiful', 'day']),\n",
              " WordList(['beautiful', 'day', 'Tomorrow']),\n",
              " WordList(['day', 'Tomorrow', 'looks']),\n",
              " WordList(['Tomorrow', 'looks', 'bad']),\n",
              " WordList(['looks', 'bad', 'weather'])]"
            ]
          },
          "metadata": {
            "tags": []
          },
          "execution_count": 127
        }
      ]
    },
    {
      "cell_type": "markdown",
      "metadata": {
        "id": "cLr1Mc3R9vo1"
      },
      "source": [
        "# Visualizing Word Frequencies with Bar Chart and Word Clouds\n",
        "\n",
        "* top 20 words - remove the stopwords"
      ]
    },
    {
      "cell_type": "code",
      "metadata": {
        "id": "C_ycYg7R9vo1"
      },
      "source": [
        "%matplotlib inline"
      ],
      "execution_count": 128,
      "outputs": []
    },
    {
      "cell_type": "code",
      "metadata": {
        "id": "zpWsSVC19vo1"
      },
      "source": [
        "#Load the Data\n",
        "from pathlib import Path"
      ],
      "execution_count": 129,
      "outputs": []
    },
    {
      "cell_type": "code",
      "metadata": {
        "id": "avE9-Uc-9vo2"
      },
      "source": [
        "from textblob import TextBlob"
      ],
      "execution_count": 130,
      "outputs": []
    },
    {
      "cell_type": "code",
      "metadata": {
        "id": "iQyboYEy9vo2"
      },
      "source": [
        "blob = TextBlob(Path('Romeo and Juliet.txt').read_text())"
      ],
      "execution_count": 131,
      "outputs": []
    },
    {
      "cell_type": "code",
      "metadata": {
        "id": "3QiFl91h9vo2"
      },
      "source": [
        "from nltk.corpus import stopwords"
      ],
      "execution_count": 132,
      "outputs": []
    },
    {
      "cell_type": "code",
      "metadata": {
        "id": "pMm1FX2B9vo2"
      },
      "source": [
        "#get the frequencies of the words"
      ],
      "execution_count": 133,
      "outputs": []
    },
    {
      "cell_type": "code",
      "metadata": {
        "id": "y9dCfGTV9vo2"
      },
      "source": [
        "items=blob.word_counts.items()"
      ],
      "execution_count": 134,
      "outputs": []
    },
    {
      "cell_type": "code",
      "metadata": {
        "id": "2LrFzRCD9vo2"
      },
      "source": [
        "stop_words=stopwords.words('english')"
      ],
      "execution_count": 135,
      "outputs": []
    },
    {
      "cell_type": "code",
      "metadata": {
        "id": "g0Iek7p39vo2"
      },
      "source": [
        "#elimiate stop words\n",
        "items =[item for item in items if item[0] not in stop_words]"
      ],
      "execution_count": 136,
      "outputs": []
    },
    {
      "cell_type": "markdown",
      "metadata": {
        "id": "r4CuyAfG9vo2"
      },
      "source": [
        "# Sorting the words Frequency\n",
        "- Descrending order\n",
        "- to specify the tuple element we use the itemgetter function - operator module"
      ]
    },
    {
      "cell_type": "code",
      "metadata": {
        "id": "_Ry4jkLI9vo2"
      },
      "source": [
        "from operator import itemgetter"
      ],
      "execution_count": 137,
      "outputs": []
    },
    {
      "cell_type": "code",
      "metadata": {
        "id": "RPPWbsjo9vo2"
      },
      "source": [
        "sorted_items=sorted(items, key=itemgetter(1), reverse=True)"
      ],
      "execution_count": 138,
      "outputs": []
    },
    {
      "cell_type": "code",
      "metadata": {
        "id": "Vl3FygB09vo2",
        "colab": {
          "base_uri": "https://localhost:8080/"
        },
        "outputId": "84ad8178-dd0c-4ff8-f4a3-7f039383226c"
      },
      "source": [
        "sorted_items[len(sorted_items)-1]"
      ],
      "execution_count": 139,
      "outputs": [
        {
          "output_type": "execute_result",
          "data": {
            "text/plain": [
              "('punished', 1)"
            ]
          },
          "metadata": {
            "tags": []
          },
          "execution_count": 139
        }
      ]
    },
    {
      "cell_type": "code",
      "metadata": {
        "id": "71nEw7Pu9vo2",
        "colab": {
          "base_uri": "https://localhost:8080/"
        },
        "outputId": "81e625e1-303b-4e53-d2a4-79a214765b27"
      },
      "source": [
        "len(sorted_items)"
      ],
      "execution_count": 140,
      "outputs": [
        {
          "output_type": "execute_result",
          "data": {
            "text/plain": [
              "3520"
            ]
          },
          "metadata": {
            "tags": []
          },
          "execution_count": 140
        }
      ]
    },
    {
      "cell_type": "code",
      "metadata": {
        "id": "8OjjHHmF9vo2"
      },
      "source": [
        "top20=sorted_items[:20]"
      ],
      "execution_count": 141,
      "outputs": []
    },
    {
      "cell_type": "code",
      "metadata": {
        "id": "_Yzz8ORY9vo2",
        "colab": {
          "base_uri": "https://localhost:8080/"
        },
        "outputId": "a3e179ef-f806-4467-c348-215e2de390c3"
      },
      "source": [
        "sorted_items[0]"
      ],
      "execution_count": 142,
      "outputs": [
        {
          "output_type": "execute_result",
          "data": {
            "text/plain": [
              "('’', 867)"
            ]
          },
          "metadata": {
            "tags": []
          },
          "execution_count": 142
        }
      ]
    },
    {
      "cell_type": "code",
      "metadata": {
        "id": "LfNkM12z9vo2"
      },
      "source": [
        "#convert to dataframe\n",
        "\n",
        "import pandas as pd"
      ],
      "execution_count": 143,
      "outputs": []
    },
    {
      "cell_type": "code",
      "metadata": {
        "id": "fpPL2sgv9vo2"
      },
      "source": [
        "df=pd.DataFrame(top20, columns=['words','count'])"
      ],
      "execution_count": 144,
      "outputs": []
    },
    {
      "cell_type": "code",
      "metadata": {
        "id": "Ne1G250c9vo2",
        "colab": {
          "base_uri": "https://localhost:8080/",
          "height": 0
        },
        "outputId": "d80ebf4d-6cb8-4521-bf6e-c584b90fb749"
      },
      "source": [
        "df"
      ],
      "execution_count": 145,
      "outputs": [
        {
          "output_type": "execute_result",
          "data": {
            "text/html": [
              "<div>\n",
              "<style scoped>\n",
              "    .dataframe tbody tr th:only-of-type {\n",
              "        vertical-align: middle;\n",
              "    }\n",
              "\n",
              "    .dataframe tbody tr th {\n",
              "        vertical-align: top;\n",
              "    }\n",
              "\n",
              "    .dataframe thead th {\n",
              "        text-align: right;\n",
              "    }\n",
              "</style>\n",
              "<table border=\"1\" class=\"dataframe\">\n",
              "  <thead>\n",
              "    <tr style=\"text-align: right;\">\n",
              "      <th></th>\n",
              "      <th>words</th>\n",
              "      <th>count</th>\n",
              "    </tr>\n",
              "  </thead>\n",
              "  <tbody>\n",
              "    <tr>\n",
              "      <th>0</th>\n",
              "      <td>’</td>\n",
              "      <td>867</td>\n",
              "    </tr>\n",
              "    <tr>\n",
              "      <th>1</th>\n",
              "      <td>romeo</td>\n",
              "      <td>314</td>\n",
              "    </tr>\n",
              "    <tr>\n",
              "      <th>2</th>\n",
              "      <td>thou</td>\n",
              "      <td>278</td>\n",
              "    </tr>\n",
              "    <tr>\n",
              "      <th>3</th>\n",
              "      <td>juliet</td>\n",
              "      <td>189</td>\n",
              "    </tr>\n",
              "    <tr>\n",
              "      <th>4</th>\n",
              "      <td>thy</td>\n",
              "      <td>170</td>\n",
              "    </tr>\n",
              "    <tr>\n",
              "      <th>5</th>\n",
              "      <td>capulet</td>\n",
              "      <td>163</td>\n",
              "    </tr>\n",
              "    <tr>\n",
              "      <th>6</th>\n",
              "      <td>nurse</td>\n",
              "      <td>149</td>\n",
              "    </tr>\n",
              "    <tr>\n",
              "      <th>7</th>\n",
              "      <td>love</td>\n",
              "      <td>148</td>\n",
              "    </tr>\n",
              "    <tr>\n",
              "      <th>8</th>\n",
              "      <td>thee</td>\n",
              "      <td>138</td>\n",
              "    </tr>\n",
              "    <tr>\n",
              "      <th>9</th>\n",
              "      <td>lady</td>\n",
              "      <td>117</td>\n",
              "    </tr>\n",
              "    <tr>\n",
              "      <th>10</th>\n",
              "      <td>shall</td>\n",
              "      <td>110</td>\n",
              "    </tr>\n",
              "    <tr>\n",
              "      <th>11</th>\n",
              "      <td>friar</td>\n",
              "      <td>105</td>\n",
              "    </tr>\n",
              "    <tr>\n",
              "      <th>12</th>\n",
              "      <td>come</td>\n",
              "      <td>94</td>\n",
              "    </tr>\n",
              "    <tr>\n",
              "      <th>13</th>\n",
              "      <td>mercutio</td>\n",
              "      <td>88</td>\n",
              "    </tr>\n",
              "    <tr>\n",
              "      <th>14</th>\n",
              "      <td>lawrence</td>\n",
              "      <td>82</td>\n",
              "    </tr>\n",
              "    <tr>\n",
              "      <th>15</th>\n",
              "      <td>good</td>\n",
              "      <td>80</td>\n",
              "    </tr>\n",
              "    <tr>\n",
              "      <th>16</th>\n",
              "      <td>benvolio</td>\n",
              "      <td>79</td>\n",
              "    </tr>\n",
              "    <tr>\n",
              "      <th>17</th>\n",
              "      <td>tybalt</td>\n",
              "      <td>79</td>\n",
              "    </tr>\n",
              "    <tr>\n",
              "      <th>18</th>\n",
              "      <td>enter</td>\n",
              "      <td>75</td>\n",
              "    </tr>\n",
              "    <tr>\n",
              "      <th>19</th>\n",
              "      <td>go</td>\n",
              "      <td>75</td>\n",
              "    </tr>\n",
              "  </tbody>\n",
              "</table>\n",
              "</div>"
            ],
            "text/plain": [
              "       words  count\n",
              "0          ’    867\n",
              "1      romeo    314\n",
              "2       thou    278\n",
              "3     juliet    189\n",
              "4        thy    170\n",
              "5    capulet    163\n",
              "6      nurse    149\n",
              "7       love    148\n",
              "8       thee    138\n",
              "9       lady    117\n",
              "10     shall    110\n",
              "11     friar    105\n",
              "12      come     94\n",
              "13  mercutio     88\n",
              "14  lawrence     82\n",
              "15      good     80\n",
              "16  benvolio     79\n",
              "17    tybalt     79\n",
              "18     enter     75\n",
              "19        go     75"
            ]
          },
          "metadata": {
            "tags": []
          },
          "execution_count": 145
        }
      ]
    },
    {
      "cell_type": "code",
      "metadata": {
        "id": "nIIvTv0n9vo2"
      },
      "source": [
        "import matplotlib.pyplot as plt"
      ],
      "execution_count": 146,
      "outputs": []
    },
    {
      "cell_type": "code",
      "metadata": {
        "id": "JOY6gMoX9vo2",
        "colab": {
          "base_uri": "https://localhost:8080/",
          "height": 0
        },
        "outputId": "c01ec1a1-3481-4868-df58-da915104504d"
      },
      "source": [
        "axes=df.plot.bar(x='words',y='count', legend=False)"
      ],
      "execution_count": 147,
      "outputs": [
        {
          "output_type": "display_data",
          "data": {
            "image/png": "[encoded data removed]",
            "text/plain": [
              "<Figure size 432x288 with 1 Axes>"
            ]
          },
          "metadata": {
            "tags": [],
            "needs_background": "light"
          }
        }
      ]
    },
    {
      "cell_type": "markdown",
      "metadata": {
        "id": "tm0WEHrU9vo2"
      },
      "source": [
        "`Assignment_03` - project Guternburg - (2 books) analysis - bar plot of the top 30 words == cloud\n",
        "\n"
      ]
    },
    {
      "cell_type": "markdown",
      "metadata": {
        "id": "LsWQQfNY9vo2"
      },
      "source": [
        "# Visualizing Word Frequencies with Word Cloud\n",
        "\n",
        "- Open source wordcloud module -> word clouds\n",
        "- matplot lib for ploting"
      ]
    },
    {
      "cell_type": "markdown",
      "metadata": {
        "id": "fap7Fjyu9vo2"
      },
      "source": [
        "# Loading of the Text"
      ]
    },
    {
      "cell_type": "code",
      "metadata": {
        "id": "GUK44xsT9vo3"
      },
      "source": [
        "from pathlib import Path"
      ],
      "execution_count": 148,
      "outputs": []
    },
    {
      "cell_type": "code",
      "metadata": {
        "id": "iLBUaInJk_sz"
      },
      "source": [
        ""
      ],
      "execution_count": 148,
      "outputs": []
    },
    {
      "cell_type": "code",
      "metadata": {
        "id": "9x9AFzdV9vo3"
      },
      "source": [
        "text = Path('Romeo and Juliet.txt').read_text()"
      ],
      "execution_count": 149,
      "outputs": []
    },
    {
      "cell_type": "code",
      "metadata": {
        "id": "UUf6t8Qh9vo3",
        "colab": {
          "base_uri": "https://localhost:8080/",
          "height": 0
        },
        "outputId": "2511ce18-69b3-430e-ca7f-5f3d5e388a0b"
      },
      "source": [
        "text"
      ],
      "execution_count": 150,
      "outputs": [
        {
          "output_type": "execute_result",
          "data": {
            "application/vnd.google.colaboratory.intrinsic+json": {
              "type": "string"
            },
            "text/plain": [
              "'\\ufeff\\n\\n\\n\\n\\n\\n\\n\\n\\n\\nContents\\n\\nTHE PROLOGUE.\\n\\nACT I\\nScene I. A public place.\\nScene II. A Street.\\nScene III. Room in Capulet’s House.\\nScene IV. A Street.\\nScene V. A Hall in Capulet’s House.\\n\\n\\nACT II\\nCHORUS.\\nScene I. An open place adjoining Capulet’s Garden.\\nScene II. Capulet’s Garden.\\nScene III. Friar Lawrence’s Cell.\\nScene IV. A Street.\\nScene V. Capulet’s Garden.\\nScene VI. Friar Lawrence’s Cell.\\n\\n\\nACT III\\nScene I. A public Place.\\nScene II. A Room in Capulet’s House.\\nScene III. Friar Lawrence’s cell.\\nScene IV. A Room in Capulet’s House.\\nScene V. An open Gallery to Juliet’s Chamber, overlooking the Garden.\\n\\n\\nACT IV\\nScene I. Friar Lawrence’s Cell.\\nScene II. Hall in Capulet’s House.\\nScene III. Juliet’s Chamber.\\nScene IV. Hall in Capulet’s House.\\nScene V. Juliet’s Chamber; Juliet on the bed.\\n\\n\\nACT V\\nScene I. Mantua. A Street.\\nScene II. Friar Lawrence’s Cell.\\nScene III. A churchyard; in it a Monument belonging to the Capulets.\\n\\n\\n\\n\\n Dramatis Personæ\\n\\nESCALUS, Prince of Verona.\\nMERCUTIO, kinsman to the Prince, and friend to Romeo.\\nPARIS, a young Nobleman, kinsman to the Prince.\\nPage to Paris.\\n\\nMONTAGUE, head of a Veronese family at feud with the Capulets.\\nLADY MONTAGUE, wife to Montague.\\nROMEO, son to Montague.\\nBENVOLIO, nephew to Montague, and friend to Romeo.\\nABRAM, servant to Montague.\\nBALTHASAR, servant to Romeo.\\n\\nCAPULET, head of a Veronese family at feud with the Montagues.\\nLADY CAPULET, wife to Capulet.\\nJULIET, daughter to Capulet.\\nTYBALT, nephew to Lady Capulet.\\nCAPULET’S COUSIN, an old man.\\nNURSE to Juliet.\\nPETER, servant to Juliet’s Nurse.\\nSAMPSON, servant to Capulet.\\nGREGORY, servant to Capulet.\\nServants.\\n\\nFRIAR LAWRENCE, a Franciscan.\\nFRIAR JOHN, of the same Order.\\nAn Apothecary.\\nCHORUS.\\nThree Musicians.\\nAn Officer.\\nCitizens of Verona; several Men and Women, relations to both houses;\\nMaskers, Guards, Watchmen and Attendants.\\n\\nSCENE. During the greater part of the Play in Verona; once, in the\\nFifth Act, at Mantua.\\n\\n\\nTHE PROLOGUE\\n\\n Enter Chorus.\\n\\nCHORUS.\\nTwo households, both alike in dignity,\\nIn fair Verona, where we lay our scene,\\nFrom ancient grudge break to new mutiny,\\nWhere civil blood makes civil hands unclean.\\nFrom forth the fatal loins of these two foes\\nA pair of star-cross’d lovers take their life;\\nWhose misadventur’d piteous overthrows\\nDoth with their death bury their parents’ strife.\\nThe fearful passage of their death-mark’d love,\\nAnd the continuance of their parents’ rage,\\nWhich, but their children’s end, nought could remove,\\nIs now the two hours’ traffic of our stage;\\nThe which, if you with patient ears attend,\\nWhat here shall miss, our toil shall strive to mend.\\n\\n [_Exit._]\\n\\n\\n\\nACT I\\n\\nSCENE I. A public place.\\n\\n Enter Sampson and Gregory armed with swords and bucklers.\\n\\nSAMPSON.\\nGregory, on my word, we’ll not carry coals.\\n\\nGREGORY.\\nNo, for then we should be colliers.\\n\\nSAMPSON.\\nI mean, if we be in choler, we’ll draw.\\n\\nGREGORY.\\nAy, while you live, draw your neck out o’ the collar.\\n\\nSAMPSON.\\nI strike quickly, being moved.\\n\\nGREGORY.\\nBut thou art not quickly moved to strike.\\n\\nSAMPSON.\\nA dog of the house of Montague moves me.\\n\\nGREGORY.\\nTo move is to stir; and to be valiant is to stand: therefore, if thou\\nart moved, thou runn’st away.\\n\\nSAMPSON.\\nA dog of that house shall move me to stand.\\nI will take the wall of any man or maid of Montague’s.\\n\\nGREGORY.\\nThat shows thee a weak slave, for the weakest goes to the wall.\\n\\nSAMPSON.\\nTrue, and therefore women, being the weaker vessels, are ever thrust to\\nthe wall: therefore I will push Montague’s men from the wall, and\\nthrust his maids to the wall.\\n\\nGREGORY.\\nThe quarrel is between our masters and us their men.\\n\\nSAMPSON.\\n’Tis all one, I will show myself a tyrant: when I have fought with the\\nmen I will be civil with the maids, I will cut off their heads.\\n\\nGREGORY.\\nThe heads of the maids?\\n\\nSAMPSON.\\nAy, the heads of the maids, or their maidenheads; take it in what sense\\nthou wilt.\\n\\nGREGORY.\\nThey must take it in sense that feel it.\\n\\nSAMPSON.\\nMe they shall feel while I am able to stand: and ’tis known I am a\\npretty piece of flesh.\\n\\nGREGORY.\\n’Tis well thou art not fish; if thou hadst, thou hadst been poor John.\\nDraw thy tool; here comes of the house of Montagues.\\n\\n Enter Abram and Balthasar.\\n\\nSAMPSON.\\nMy naked weapon is out: quarrel, I will back thee.\\n\\nGREGORY.\\nHow? Turn thy back and run?\\n\\nSAMPSON.\\nFear me not.\\n\\nGREGORY.\\nNo, marry; I fear thee!\\n\\nSAMPSON.\\nLet us take the law of our sides; let them begin.\\n\\nGREGORY.\\nI will frown as I pass by, and let them take it as they list.\\n\\nSAMPSON.\\nNay, as they dare. I will bite my thumb at them, which is disgrace to\\nthem if they bear it.\\n\\nABRAM.\\nDo you bite your thumb at us, sir?\\n\\nSAMPSON.\\nI do bite my thumb, sir.\\n\\nABRAM.\\nDo you bite your thumb at us, sir?\\n\\nSAMPSON.\\nIs the law of our side if I say ay?\\n\\nGREGORY.\\nNo.\\n\\nSAMPSON.\\nNo sir, I do not bite my thumb at you, sir; but I bite my thumb, sir.\\n\\nGREGORY.\\nDo you quarrel, sir?\\n\\nABRAM.\\nQuarrel, sir? No, sir.\\n\\nSAMPSON.\\nBut if you do, sir, am for you. I serve as good a man as you.\\n\\nABRAM.\\nNo better.\\n\\nSAMPSON.\\nWell, sir.\\n\\n Enter Benvolio.\\n\\nGREGORY.\\nSay better; here comes one of my master’s kinsmen.\\n\\nSAMPSON.\\nYes, better, sir.\\n\\nABRAM.\\nYou lie.\\n\\nSAMPSON.\\nDraw, if you be men. Gregory, remember thy washing blow.\\n\\n [_They fight._]\\n\\nBENVOLIO.\\nPart, fools! put up your swords, you know not what you do.\\n\\n [_Beats down their swords._]\\n\\n Enter Tybalt.\\n\\nTYBALT.\\nWhat, art thou drawn among these heartless hinds?\\nTurn thee Benvolio, look upon thy death.\\n\\nBENVOLIO.\\nI do but keep the peace, put up thy sword,\\nOr manage it to part these men with me.\\n\\nTYBALT.\\nWhat, drawn, and talk of peace? I hate the word\\nAs I hate hell, all Montagues, and thee:\\nHave at thee, coward.\\n\\n [_They fight._]\\n\\n Enter three or four Citizens with clubs.\\n\\nFIRST CITIZEN.\\nClubs, bills and partisans! Strike! Beat them down!\\nDown with the Capulets! Down with the Montagues!\\n\\n Enter Capulet in his gown, and Lady Capulet.\\n\\nCAPULET.\\nWhat noise is this? Give me my long sword, ho!\\n\\nLADY CAPULET.\\nA crutch, a crutch! Why call you for a sword?\\n\\nCAPULET.\\nMy sword, I say! Old Montague is come,\\nAnd flourishes his blade in spite of me.\\n\\n Enter Montague and his Lady Montague.\\n\\nMONTAGUE.\\nThou villain Capulet! Hold me not, let me go.\\n\\nLADY MONTAGUE.\\nThou shalt not stir one foot to seek a foe.\\n\\n Enter Prince Escalus, with Attendants.\\n\\nPRINCE.\\nRebellious subjects, enemies to peace,\\nProfaners of this neighbour-stained steel,—\\nWill they not hear? What, ho! You men, you beasts,\\nThat quench the fire of your pernicious rage\\nWith purple fountains issuing from your veins,\\nOn pain of torture, from those bloody hands\\nThrow your mistemper’d weapons to the ground\\nAnd hear the sentence of your moved prince.\\nThree civil brawls, bred of an airy word,\\nBy thee, old Capulet, and Montague,\\nHave thrice disturb’d the quiet of our streets,\\nAnd made Verona’s ancient citizens\\nCast by their grave beseeming ornaments,\\nTo wield old partisans, in hands as old,\\nCanker’d with peace, to part your canker’d hate.\\nIf ever you disturb our streets again,\\nYour lives shall pay the forfeit of the peace.\\nFor this time all the rest depart away:\\nYou, Capulet, shall go along with me,\\nAnd Montague, come you this afternoon,\\nTo know our farther pleasure in this case,\\nTo old Free-town, our common judgement-place.\\nOnce more, on pain of death, all men depart.\\n\\n [_Exeunt Prince and Attendants; Capulet, Lady Capulet, Tybalt,\\n Citizens and Servants._]\\n\\nMONTAGUE.\\nWho set this ancient quarrel new abroach?\\nSpeak, nephew, were you by when it began?\\n\\nBENVOLIO.\\nHere were the servants of your adversary\\nAnd yours, close fighting ere I did approach.\\nI drew to part them, in the instant came\\nThe fiery Tybalt, with his sword prepar’d,\\nWhich, as he breath’d defiance to my ears,\\nHe swung about his head, and cut the winds,\\nWho nothing hurt withal, hiss’d him in scorn.\\nWhile we were interchanging thrusts and blows\\nCame more and more, and fought on part and part,\\nTill the Prince came, who parted either part.\\n\\nLADY MONTAGUE.\\nO where is Romeo, saw you him today?\\nRight glad I am he was not at this fray.\\n\\nBENVOLIO.\\nMadam, an hour before the worshipp’d sun\\nPeer’d forth the golden window of the east,\\nA troubled mind drave me to walk abroad,\\nWhere underneath the grove of sycamore\\nThat westward rooteth from this city side,\\nSo early walking did I see your son.\\nTowards him I made, but he was ware of me,\\nAnd stole into the covert of the wood.\\nI, measuring his affections by my own,\\nWhich then most sought where most might not be found,\\nBeing one too many by my weary self,\\nPursu’d my humour, not pursuing his,\\nAnd gladly shunn’d who gladly fled from me.\\n\\nMONTAGUE.\\nMany a morning hath he there been seen,\\nWith tears augmenting the fresh morning’s dew,\\nAdding to clouds more clouds with his deep sighs;\\nBut all so soon as the all-cheering sun\\nShould in the farthest east begin to draw\\nThe shady curtains from Aurora’s bed,\\nAway from light steals home my heavy son,\\nAnd private in his chamber pens himself,\\nShuts up his windows, locks fair daylight out\\nAnd makes himself an artificial night.\\nBlack and portentous must this humour prove,\\nUnless good counsel may the cause remove.\\n\\nBENVOLIO.\\nMy noble uncle, do you know the cause?\\n\\nMONTAGUE.\\nI neither know it nor can learn of him.\\n\\nBENVOLIO.\\nHave you importun’d him by any means?\\n\\nMONTAGUE.\\nBoth by myself and many other friends;\\nBut he, his own affections’ counsellor,\\nIs to himself—I will not say how true—\\nBut to himself so secret and so close,\\nSo far from sounding and discovery,\\nAs is the bud bit with an envious worm\\nEre he can spread his sweet leaves to the air,\\nOr dedicate his beauty to the sun.\\nCould we but learn from whence his sorrows grow,\\nWe would as willingly give cure as know.\\n\\n Enter Romeo.\\n\\nBENVOLIO.\\nSee, where he comes. So please you step aside;\\nI’ll know his grievance or be much denied.\\n\\nMONTAGUE.\\nI would thou wert so happy by thy stay\\nTo hear true shrift. Come, madam, let’s away,\\n\\n [_Exeunt Montague and Lady Montague._]\\n\\nBENVOLIO.\\nGood morrow, cousin.\\n\\nROMEO.\\nIs the day so young?\\n\\nBENVOLIO.\\nBut new struck nine.\\n\\nROMEO.\\nAy me, sad hours seem long.\\nWas that my father that went hence so fast?\\n\\nBENVOLIO.\\nIt was. What sadness lengthens Romeo’s hours?\\n\\nROMEO.\\nNot having that which, having, makes them short.\\n\\nBENVOLIO.\\nIn love?\\n\\nROMEO.\\nOut.\\n\\nBENVOLIO.\\nOf love?\\n\\nROMEO.\\nOut of her favour where I am in love.\\n\\nBENVOLIO.\\nAlas that love so gentle in his view,\\nShould be so tyrannous and rough in proof.\\n\\nROMEO.\\nAlas that love, whose view is muffled still,\\nShould, without eyes, see pathways to his will!\\nWhere shall we dine? O me! What fray was here?\\nYet tell me not, for I have heard it all.\\nHere’s much to do with hate, but more with love:\\nWhy, then, O brawling love! O loving hate!\\nO anything, of nothing first create!\\nO heavy lightness! serious vanity!\\nMisshapen chaos of well-seeming forms!\\nFeather of lead, bright smoke, cold fire, sick health!\\nStill-waking sleep, that is not what it is!\\nThis love feel I, that feel no love in this.\\nDost thou not laugh?\\n\\nBENVOLIO.\\nNo coz, I rather weep.\\n\\nROMEO.\\nGood heart, at what?\\n\\nBENVOLIO.\\nAt thy good heart’s oppression.\\n\\nROMEO.\\nWhy such is love’s transgression.\\nGriefs of mine own lie heavy in my breast,\\nWhich thou wilt propagate to have it prest\\nWith more of thine. This love that thou hast shown\\nDoth add more grief to too much of mine own.\\nLove is a smoke made with the fume of sighs;\\nBeing purg’d, a fire sparkling in lovers’ eyes;\\nBeing vex’d, a sea nourish’d with lovers’ tears:\\nWhat is it else? A madness most discreet,\\nA choking gall, and a preserving sweet.\\nFarewell, my coz.\\n\\n [_Going._]\\n\\nBENVOLIO.\\nSoft! I will go along:\\nAnd if you leave me so, you do me wrong.\\n\\nROMEO.\\nTut! I have lost myself; I am not here.\\nThis is not Romeo, he’s some other where.\\n\\nBENVOLIO.\\nTell me in sadness who is that you love?\\n\\nROMEO.\\nWhat, shall I groan and tell thee?\\n\\nBENVOLIO.\\nGroan! Why, no; but sadly tell me who.\\n\\nROMEO.\\nBid a sick man in sadness make his will,\\nA word ill urg’d to one that is so ill.\\nIn sadness, cousin, I do love a woman.\\n\\nBENVOLIO.\\nI aim’d so near when I suppos’d you lov’d.\\n\\nROMEO.\\nA right good markman, and she’s fair I love.\\n\\nBENVOLIO.\\nA right fair mark, fair coz, is soonest hit.\\n\\nROMEO.\\nWell, in that hit you miss: she’ll not be hit\\nWith Cupid’s arrow, she hath Dian’s wit;\\nAnd in strong proof of chastity well arm’d,\\nFrom love’s weak childish bow she lives uncharm’d.\\nShe will not stay the siege of loving terms\\nNor bide th’encounter of assailing eyes,\\nNor ope her lap to saint-seducing gold:\\nO she’s rich in beauty, only poor\\nThat when she dies, with beauty dies her store.\\n\\nBENVOLIO.\\nThen she hath sworn that she will still live chaste?\\n\\nROMEO.\\nShe hath, and in that sparing makes huge waste;\\nFor beauty starv’d with her severity,\\nCuts beauty off from all posterity.\\nShe is too fair, too wise; wisely too fair,\\nTo merit bliss by making me despair.\\nShe hath forsworn to love, and in that vow\\nDo I live dead, that live to tell it now.\\n\\nBENVOLIO.\\nBe rul’d by me, forget to think of her.\\n\\nROMEO.\\nO teach me how I should forget to think.\\n\\nBENVOLIO.\\nBy giving liberty unto thine eyes;\\nExamine other beauties.\\n\\nROMEO.\\n’Tis the way\\nTo call hers, exquisite, in question more.\\nThese happy masks that kiss fair ladies’ brows,\\nBeing black, puts us in mind they hide the fair;\\nHe that is strucken blind cannot forget\\nThe precious treasure of his eyesight lost.\\nShow me a mistress that is passing fair,\\nWhat doth her beauty serve but as a note\\nWhere I may read who pass’d that passing fair?\\nFarewell, thou canst not teach me to forget.\\n\\nBENVOLIO.\\nI’ll pay that doctrine, or else die in debt.\\n\\n [_Exeunt._]\\n\\nSCENE II. A Street.\\n\\n Enter Capulet, Paris and Servant.\\n\\nCAPULET.\\nBut Montague is bound as well as I,\\nIn penalty alike; and ’tis not hard, I think,\\nFor men so old as we to keep the peace.\\n\\nPARIS.\\nOf honourable reckoning are you both,\\nAnd pity ’tis you liv’d at odds so long.\\nBut now my lord, what say you to my suit?\\n\\nCAPULET.\\nBut saying o’er what I have said before.\\nMy child is yet a stranger in the world,\\nShe hath not seen the change of fourteen years;\\nLet two more summers wither in their pride\\nEre we may think her ripe to be a bride.\\n\\nPARIS.\\nYounger than she are happy mothers made.\\n\\nCAPULET.\\nAnd too soon marr’d are those so early made.\\nThe earth hath swallowed all my hopes but she,\\nShe is the hopeful lady of my earth:\\nBut woo her, gentle Paris, get her heart,\\nMy will to her consent is but a part;\\nAnd she agree, within her scope of choice\\nLies my consent and fair according voice.\\nThis night I hold an old accustom’d feast,\\nWhereto I have invited many a guest,\\nSuch as I love, and you among the store,\\nOne more, most welcome, makes my number more.\\nAt my poor house look to behold this night\\nEarth-treading stars that make dark heaven light:\\nSuch comfort as do lusty young men feel\\nWhen well apparell’d April on the heel\\nOf limping winter treads, even such delight\\nAmong fresh female buds shall you this night\\nInherit at my house. Hear all, all see,\\nAnd like her most whose merit most shall be:\\nWhich, on more view of many, mine, being one,\\nMay stand in number, though in reckoning none.\\nCome, go with me. Go, sirrah, trudge about\\nThrough fair Verona; find those persons out\\nWhose names are written there, [_gives a paper_] and to them say,\\nMy house and welcome on their pleasure stay.\\n\\n [_Exeunt Capulet and Paris._]\\n\\nSERVANT.\\nFind them out whose names are written here! It is written that the\\nshoemaker should meddle with his yard and the tailor with his last, the\\nfisher with his pencil, and the painter with his nets; but I am sent to\\nfind those persons whose names are here writ, and can never find what\\nnames the writing person hath here writ. I must to the learned. In good\\ntime!\\n\\n Enter Benvolio and Romeo.\\n\\nBENVOLIO.\\nTut, man, one fire burns out another’s burning,\\nOne pain is lessen’d by another’s anguish;\\nTurn giddy, and be holp by backward turning;\\nOne desperate grief cures with another’s languish:\\nTake thou some new infection to thy eye,\\nAnd the rank poison of the old will die.\\n\\nROMEO.\\nYour plantain leaf is excellent for that.\\n\\nBENVOLIO.\\nFor what, I pray thee?\\n\\nROMEO.\\nFor your broken shin.\\n\\nBENVOLIO.\\nWhy, Romeo, art thou mad?\\n\\nROMEO.\\nNot mad, but bound more than a madman is:\\nShut up in prison, kept without my food,\\nWhipp’d and tormented and—God-den, good fellow.\\n\\nSERVANT.\\nGod gi’ go-den. I pray, sir, can you read?\\n\\nROMEO.\\nAy, mine own fortune in my misery.\\n\\nSERVANT.\\nPerhaps you have learned it without book.\\nBut I pray, can you read anything you see?\\n\\nROMEO.\\nAy, If I know the letters and the language.\\n\\nSERVANT.\\nYe say honestly, rest you merry!\\n\\nROMEO.\\nStay, fellow; I can read.\\n\\n [_He reads the letter._]\\n\\n_Signior Martino and his wife and daughters;\\nCounty Anselmo and his beauteous sisters;\\nThe lady widow of Utruvio;\\nSignior Placentio and his lovely nieces;\\nMercutio and his brother Valentine;\\nMine uncle Capulet, his wife, and daughters;\\nMy fair niece Rosaline and Livia;\\nSignior Valentio and his cousin Tybalt;\\nLucio and the lively Helena. _\\n\\n\\nA fair assembly. [_Gives back the paper_] Whither should they come?\\n\\nSERVANT.\\nUp.\\n\\nROMEO.\\nWhither to supper?\\n\\nSERVANT.\\nTo our house.\\n\\nROMEO.\\nWhose house?\\n\\nSERVANT.\\nMy master’s.\\n\\nROMEO.\\nIndeed I should have ask’d you that before.\\n\\nSERVANT.\\nNow I’ll tell you without asking. My master is the great rich Capulet,\\nand if you be not of the house of Montagues, I pray come and crush a\\ncup of wine. Rest you merry.\\n\\n [_Exit._]\\n\\nBENVOLIO.\\nAt this same ancient feast of Capulet’s\\nSups the fair Rosaline whom thou so lov’st;\\nWith all the admired beauties of Verona.\\nGo thither and with unattainted eye,\\nCompare her face with some that I shall show,\\nAnd I will make thee think thy swan a crow.\\n\\nROMEO.\\nWhen the devout religion of mine eye\\nMaintains such falsehood, then turn tears to fire;\\nAnd these who, often drown’d, could never die,\\nTransparent heretics, be burnt for liars.\\nOne fairer than my love? The all-seeing sun\\nNe’er saw her match since first the world begun.\\n\\nBENVOLIO.\\nTut, you saw her fair, none else being by,\\nHerself pois’d with herself in either eye:\\nBut in that crystal scales let there be weigh’d\\nYour lady’s love against some other maid\\nThat I will show you shining at this feast,\\nAnd she shall scant show well that now shows best.\\n\\nROMEO.\\nI’ll go along, no such sight to be shown,\\nBut to rejoice in splendour of my own.\\n\\n [_Exeunt._]\\n\\nSCENE III. Room in Capulet’s House.\\n\\n Enter Lady Capulet and Nurse.\\n\\nLADY CAPULET.\\nNurse, where’s my daughter? Call her forth to me.\\n\\nNURSE.\\nNow, by my maidenhead, at twelve year old,\\nI bade her come. What, lamb! What ladybird!\\nGod forbid! Where’s this girl? What, Juliet!\\n\\n Enter Juliet.\\n\\nJULIET.\\nHow now, who calls?\\n\\nNURSE.\\nYour mother.\\n\\nJULIET.\\nMadam, I am here. What is your will?\\n\\nLADY CAPULET.\\nThis is the matter. Nurse, give leave awhile,\\nWe must talk in secret. Nurse, come back again,\\nI have remember’d me, thou’s hear our counsel.\\nThou knowest my daughter’s of a pretty age.\\n\\nNURSE.\\nFaith, I can tell her age unto an hour.\\n\\nLADY CAPULET.\\nShe’s not fourteen.\\n\\nNURSE.\\nI’ll lay fourteen of my teeth,\\nAnd yet, to my teen be it spoken, I have but four,\\nShe is not fourteen. How long is it now\\nTo Lammas-tide?\\n\\nLADY CAPULET.\\nA fortnight and odd days.\\n\\nNURSE.\\nEven or odd, of all days in the year,\\nCome Lammas Eve at night shall she be fourteen.\\nSusan and she,—God rest all Christian souls!—\\nWere of an age. Well, Susan is with God;\\nShe was too good for me. But as I said,\\nOn Lammas Eve at night shall she be fourteen;\\nThat shall she, marry; I remember it well.\\n’Tis since the earthquake now eleven years;\\nAnd she was wean’d,—I never shall forget it—,\\nOf all the days of the year, upon that day:\\nFor I had then laid wormwood to my dug,\\nSitting in the sun under the dovehouse wall;\\nMy lord and you were then at Mantua:\\nNay, I do bear a brain. But as I said,\\nWhen it did taste the wormwood on the nipple\\nOf my dug and felt it bitter, pretty fool,\\nTo see it tetchy, and fall out with the dug!\\nShake, quoth the dovehouse: ’twas no need, I trow,\\nTo bid me trudge.\\nAnd since that time it is eleven years;\\nFor then she could stand alone; nay, by th’rood\\nShe could have run and waddled all about;\\nFor even the day before she broke her brow,\\nAnd then my husband,—God be with his soul!\\nA was a merry man,—took up the child:\\n‘Yea,’ quoth he, ‘dost thou fall upon thy face?\\nThou wilt fall backward when thou hast more wit;\\nWilt thou not, Jule?’ and, by my holidame,\\nThe pretty wretch left crying, and said ‘Ay’.\\nTo see now how a jest shall come about.\\nI warrant, and I should live a thousand years,\\nI never should forget it. ‘Wilt thou not, Jule?’ quoth he;\\nAnd, pretty fool, it stinted, and said ‘Ay.’\\n\\nLADY CAPULET.\\nEnough of this; I pray thee hold thy peace.\\n\\nNURSE.\\nYes, madam, yet I cannot choose but laugh,\\nTo think it should leave crying, and say ‘Ay’;\\nAnd yet I warrant it had upon it brow\\nA bump as big as a young cockerel’s stone;\\nA perilous knock, and it cried bitterly.\\n‘Yea,’ quoth my husband, ‘fall’st upon thy face?\\nThou wilt fall backward when thou comest to age;\\nWilt thou not, Jule?’ it stinted, and said ‘Ay’.\\n\\nJULIET.\\nAnd stint thou too, I pray thee, Nurse, say I.\\n\\nNURSE.\\nPeace, I have done. God mark thee to his grace\\nThou wast the prettiest babe that e’er I nurs’d:\\nAnd I might live to see thee married once, I have my wish.\\n\\nLADY CAPULET.\\nMarry, that marry is the very theme\\nI came to talk of. Tell me, daughter Juliet,\\nHow stands your disposition to be married?\\n\\nJULIET.\\nIt is an honour that I dream not of.\\n\\nNURSE.\\nAn honour! Were not I thine only nurse,\\nI would say thou hadst suck’d wisdom from thy teat.\\n\\nLADY CAPULET.\\nWell, think of marriage now: younger than you,\\nHere in Verona, ladies of esteem,\\nAre made already mothers. By my count\\nI was your mother much upon these years\\nThat you are now a maid. Thus, then, in brief;\\nThe valiant Paris seeks you for his love.\\n\\nNURSE.\\nA man, young lady! Lady, such a man\\nAs all the world—why he’s a man of wax.\\n\\nLADY CAPULET.\\nVerona’s summer hath not such a flower.\\n\\nNURSE.\\nNay, he’s a flower, in faith a very flower.\\n\\nLADY CAPULET.\\nWhat say you, can you love the gentleman?\\nThis night you shall behold him at our feast;\\nRead o’er the volume of young Paris’ face,\\nAnd find delight writ there with beauty’s pen.\\nExamine every married lineament,\\nAnd see how one another lends content;\\nAnd what obscur’d in this fair volume lies,\\nFind written in the margent of his eyes.\\nThis precious book of love, this unbound lover,\\nTo beautify him, only lacks a cover:\\nThe fish lives in the sea; and ’tis much pride\\nFor fair without the fair within to hide.\\nThat book in many’s eyes doth share the glory,\\nThat in gold clasps locks in the golden story;\\nSo shall you share all that he doth possess,\\nBy having him, making yourself no less.\\n\\nNURSE.\\nNo less, nay bigger. Women grow by men.\\n\\nLADY CAPULET.\\nSpeak briefly, can you like of Paris’ love?\\n\\nJULIET.\\nI’ll look to like, if looking liking move:\\nBut no more deep will I endart mine eye\\nThan your consent gives strength to make it fly.\\n\\n Enter a Servant.\\n\\nSERVANT.\\nMadam, the guests are come, supper served up, you called, my young lady\\nasked for, the Nurse cursed in the pantry, and everything in extremity.\\nI must hence to wait, I beseech you follow straight.\\n\\nLADY CAPULET.\\nWe follow thee.\\n\\n [_Exit Servant._]\\n\\nJuliet, the County stays.\\n\\nNURSE.\\nGo, girl, seek happy nights to happy days.\\n\\n [_Exeunt._]\\n\\nSCENE IV. A Street.\\n\\n Enter Romeo, Mercutio, Benvolio, with five or six Maskers;\\n Torch-bearers and others.\\n\\nROMEO.\\nWhat, shall this speech be spoke for our excuse?\\nOr shall we on without apology?\\n\\nBENVOLIO.\\nThe date is out of such prolixity:\\nWe’ll have no Cupid hoodwink’d with a scarf,\\nBearing a Tartar’s painted bow of lath,\\nScaring the ladies like a crow-keeper;\\nNor no without-book prologue, faintly spoke\\nAfter the prompter, for our entrance:\\nBut let them measure us by what they will,\\nWe’ll measure them a measure, and be gone.\\n\\nROMEO.\\nGive me a torch, I am not for this ambling;\\nBeing but heavy I will bear the light.\\n\\nMERCUTIO.\\nNay, gentle Romeo, we must have you dance.\\n\\nROMEO.\\nNot I, believe me, you have dancing shoes,\\nWith nimble soles, I have a soul of lead\\nSo stakes me to the ground I cannot move.\\n\\nMERCUTIO.\\nYou are a lover, borrow Cupid’s wings,\\nAnd soar with them above a common bound.\\n\\nROMEO.\\nI am too sore enpierced with his shaft\\nTo soar with his light feathers, and so bound,\\nI cannot bound a pitch above dull woe.\\nUnder love’s heavy burden do I sink.\\n\\nMERCUTIO.\\nAnd, to sink in it, should you burden love;\\nToo great oppression for a tender thing.\\n\\nROMEO.\\nIs love a tender thing? It is too rough,\\nToo rude, too boisterous; and it pricks like thorn.\\n\\nMERCUTIO.\\nIf love be rough with you, be rough with love;\\nPrick love for pricking, and you beat love down.\\nGive me a case to put my visage in: [_Putting on a mask._]\\nA visor for a visor. What care I\\nWhat curious eye doth quote deformities?\\nHere are the beetle-brows shall blush for me.\\n\\nBENVOLIO.\\nCome, knock and enter; and no sooner in\\nBut every man betake him to his legs.\\n\\nROMEO.\\nA torch for me: let wantons, light of heart,\\nTickle the senseless rushes with their heels;\\nFor I am proverb’d with a grandsire phrase,\\nI’ll be a candle-holder and look on,\\nThe game was ne’er so fair, and I am done.\\n\\nMERCUTIO.\\nTut, dun’s the mouse, the constable’s own word:\\nIf thou art dun, we’ll draw thee from the mire\\nOr save your reverence love, wherein thou stickest\\nUp to the ears. Come, we burn daylight, ho.\\n\\nROMEO.\\nNay, that’s not so.\\n\\nMERCUTIO.\\nI mean sir, in delay\\nWe waste our lights in vain, light lights by day.\\nTake our good meaning, for our judgment sits\\nFive times in that ere once in our five wits.\\n\\nROMEO.\\nAnd we mean well in going to this mask;\\nBut ’tis no wit to go.\\n\\nMERCUTIO.\\nWhy, may one ask?\\n\\nROMEO.\\nI dreamt a dream tonight.\\n\\nMERCUTIO.\\nAnd so did I.\\n\\nROMEO.\\nWell what was yours?\\n\\nMERCUTIO.\\nThat dreamers often lie.\\n\\nROMEO.\\nIn bed asleep, while they do dream things true.\\n\\nMERCUTIO.\\nO, then, I see Queen Mab hath been with you.\\nShe is the fairies’ midwife, and she comes\\nIn shape no bigger than an agate-stone\\nOn the fore-finger of an alderman,\\nDrawn with a team of little atomies\\nOver men’s noses as they lie asleep:\\nHer waggon-spokes made of long spinners’ legs;\\nThe cover, of the wings of grasshoppers;\\nHer traces, of the smallest spider’s web;\\nThe collars, of the moonshine’s watery beams;\\nHer whip of cricket’s bone; the lash, of film;\\nHer waggoner, a small grey-coated gnat,\\nNot half so big as a round little worm\\nPrick’d from the lazy finger of a maid:\\nHer chariot is an empty hazelnut,\\nMade by the joiner squirrel or old grub,\\nTime out o’ mind the fairies’ coachmakers.\\nAnd in this state she gallops night by night\\nThrough lovers’ brains, and then they dream of love;\\nO’er courtiers’ knees, that dream on curtsies straight;\\nO’er lawyers’ fingers, who straight dream on fees;\\nO’er ladies’ lips, who straight on kisses dream,\\nWhich oft the angry Mab with blisters plagues,\\nBecause their breaths with sweetmeats tainted are:\\nSometime she gallops o’er a courtier’s nose,\\nAnd then dreams he of smelling out a suit;\\nAnd sometime comes she with a tithe-pig’s tail,\\nTickling a parson’s nose as a lies asleep,\\nThen dreams he of another benefice:\\nSometime she driveth o’er a soldier’s neck,\\nAnd then dreams he of cutting foreign throats,\\nOf breaches, ambuscados, Spanish blades,\\nOf healths five fathom deep; and then anon\\nDrums in his ear, at which he starts and wakes;\\nAnd, being thus frighted, swears a prayer or two,\\nAnd sleeps again. This is that very Mab\\nThat plats the manes of horses in the night;\\nAnd bakes the elf-locks in foul sluttish hairs,\\nWhich, once untangled, much misfortune bodes:\\nThis is the hag, when maids lie on their backs,\\nThat presses them, and learns them first to bear,\\nMaking them women of good carriage:\\nThis is she,—\\n\\nROMEO.\\nPeace, peace, Mercutio, peace,\\nThou talk’st of nothing.\\n\\nMERCUTIO.\\nTrue, I talk of dreams,\\nWhich are the children of an idle brain,\\nBegot of nothing but vain fantasy,\\nWhich is as thin of substance as the air,\\nAnd more inconstant than the wind, who wooes\\nEven now the frozen bosom of the north,\\nAnd, being anger’d, puffs away from thence,\\nTurning his side to the dew-dropping south.\\n\\nBENVOLIO.\\nThis wind you talk of blows us from ourselves:\\nSupper is done, and we shall come too late.\\n\\nROMEO.\\nI fear too early: for my mind misgives\\nSome consequence yet hanging in the stars,\\nShall bitterly begin his fearful date\\nWith this night’s revels; and expire the term\\nOf a despised life, clos’d in my breast\\nBy some vile forfeit of untimely death.\\nBut he that hath the steerage of my course\\nDirect my suit. On, lusty gentlemen!\\n\\nBENVOLIO.\\nStrike, drum.\\n\\n [_Exeunt._]\\n\\nSCENE V. A Hall in Capulet’s House.\\n\\n Musicians waiting. Enter Servants.\\n\\nFIRST SERVANT.\\nWhere’s Potpan, that he helps not to take away?\\nHe shift a trencher! He scrape a trencher!\\n\\nSECOND SERVANT.\\nWhen good manners shall lie all in one or two men’s hands, and they\\nunwash’d too, ’tis a foul thing.\\n\\nFIRST SERVANT.\\nAway with the join-stools, remove the court-cupboard, look to the\\nplate. Good thou, save me a piece of marchpane; and as thou loves me,\\nlet the porter let in Susan Grindstone and Nell. Antony and Potpan!\\n\\nSECOND SERVANT.\\nAy, boy, ready.\\n\\nFIRST SERVANT.\\nYou are looked for and called for, asked for and sought for, in the\\ngreat chamber.\\n\\nSECOND SERVANT.\\nWe cannot be here and there too. Cheerly, boys. Be brisk awhile, and\\nthe longer liver take all.\\n\\n [_Exeunt._]\\n\\n Enter Capulet, &c. with the Guests and Gentlewomen to the Maskers.\\n\\nCAPULET.\\nWelcome, gentlemen, ladies that have their toes\\nUnplagu’d with corns will have a bout with you.\\nAh my mistresses, which of you all\\nWill now deny to dance? She that makes dainty,\\nShe I’ll swear hath corns. Am I come near ye now?\\nWelcome, gentlemen! I have seen the day\\nThat I have worn a visor, and could tell\\nA whispering tale in a fair lady’s ear,\\nSuch as would please; ’tis gone, ’tis gone, ’tis gone,\\nYou are welcome, gentlemen! Come, musicians, play.\\nA hall, a hall, give room! And foot it, girls.\\n\\n [_Music plays, and they dance._]\\n\\nMore light, you knaves; and turn the tables up,\\nAnd quench the fire, the room is grown too hot.\\nAh sirrah, this unlook’d-for sport comes well.\\nNay sit, nay sit, good cousin Capulet,\\nFor you and I are past our dancing days;\\nHow long is’t now since last yourself and I\\nWere in a mask?\\n\\nCAPULET’S COUSIN.\\nBy’r Lady, thirty years.\\n\\nCAPULET.\\nWhat, man, ’tis not so much, ’tis not so much:\\n’Tis since the nuptial of Lucentio,\\nCome Pentecost as quickly as it will,\\nSome five and twenty years; and then we mask’d.\\n\\nCAPULET’S COUSIN.\\n’Tis more, ’tis more, his son is elder, sir;\\nHis son is thirty.\\n\\nCAPULET.\\nWill you tell me that?\\nHis son was but a ward two years ago.\\n\\nROMEO.\\nWhat lady is that, which doth enrich the hand\\nOf yonder knight?\\n\\nSERVANT.\\nI know not, sir.\\n\\nROMEO.\\nO, she doth teach the torches to burn bright!\\nIt seems she hangs upon the cheek of night\\nAs a rich jewel in an Ethiop’s ear;\\nBeauty too rich for use, for earth too dear!\\nSo shows a snowy dove trooping with crows\\nAs yonder lady o’er her fellows shows.\\nThe measure done, I’ll watch her place of stand,\\nAnd touching hers, make blessed my rude hand.\\nDid my heart love till now? Forswear it, sight!\\nFor I ne’er saw true beauty till this night.\\n\\nTYBALT.\\nThis by his voice, should be a Montague.\\nFetch me my rapier, boy. What, dares the slave\\nCome hither, cover’d with an antic face,\\nTo fleer and scorn at our solemnity?\\nNow by the stock and honour of my kin,\\nTo strike him dead I hold it not a sin.\\n\\nCAPULET.\\nWhy how now, kinsman!\\nWherefore storm you so?\\n\\nTYBALT.\\nUncle, this is a Montague, our foe;\\nA villain that is hither come in spite,\\nTo scorn at our solemnity this night.\\n\\nCAPULET.\\nYoung Romeo, is it?\\n\\nTYBALT.\\n’Tis he, that villain Romeo.\\n\\nCAPULET.\\nContent thee, gentle coz, let him alone,\\nA bears him like a portly gentleman;\\nAnd, to say truth, Verona brags of him\\nTo be a virtuous and well-govern’d youth.\\nI would not for the wealth of all the town\\nHere in my house do him disparagement.\\nTherefore be patient, take no note of him,\\nIt is my will; the which if thou respect,\\nShow a fair presence and put off these frowns,\\nAn ill-beseeming semblance for a feast.\\n\\nTYBALT.\\nIt fits when such a villain is a guest:\\nI’ll not endure him.\\n\\nCAPULET.\\nHe shall be endur’d.\\nWhat, goodman boy! I say he shall, go to;\\nAm I the master here, or you? Go to.\\nYou’ll not endure him! God shall mend my soul,\\nYou’ll make a mutiny among my guests!\\nYou will set cock-a-hoop, you’ll be the man!\\n\\nTYBALT.\\nWhy, uncle, ’tis a shame.\\n\\nCAPULET.\\nGo to, go to!\\nYou are a saucy boy. Is’t so, indeed?\\nThis trick may chance to scathe you, I know what.\\nYou must contrary me! Marry, ’tis time.\\nWell said, my hearts!—You are a princox; go:\\nBe quiet, or—More light, more light!—For shame!\\nI’ll make you quiet. What, cheerly, my hearts.\\n\\nTYBALT.\\nPatience perforce with wilful choler meeting\\nMakes my flesh tremble in their different greeting.\\nI will withdraw: but this intrusion shall,\\nNow seeming sweet, convert to bitter gall.\\n\\n [_Exit._]\\n\\nROMEO.\\n[_To Juliet._] If I profane with my unworthiest hand\\nThis holy shrine, the gentle sin is this,\\nMy lips, two blushing pilgrims, ready stand\\nTo smooth that rough touch with a tender kiss.\\n\\nJULIET.\\nGood pilgrim, you do wrong your hand too much,\\nWhich mannerly devotion shows in this;\\nFor saints have hands that pilgrims’ hands do touch,\\nAnd palm to palm is holy palmers’ kiss.\\n\\nROMEO.\\nHave not saints lips, and holy palmers too?\\n\\nJULIET.\\nAy, pilgrim, lips that they must use in prayer.\\n\\nROMEO.\\nO, then, dear saint, let lips do what hands do:\\nThey pray, grant thou, lest faith turn to despair.\\n\\nJULIET.\\nSaints do not move, though grant for prayers’ sake.\\n\\nROMEO.\\nThen move not while my prayer’s effect I take.\\nThus from my lips, by thine my sin is purg’d.\\n[_Kissing her._]\\n\\nJULIET.\\nThen have my lips the sin that they have took.\\n\\nROMEO.\\nSin from my lips? O trespass sweetly urg’d!\\nGive me my sin again.\\n\\nJULIET.\\nYou kiss by the book.\\n\\nNURSE.\\nMadam, your mother craves a word with you.\\n\\nROMEO.\\nWhat is her mother?\\n\\nNURSE.\\nMarry, bachelor,\\nHer mother is the lady of the house,\\nAnd a good lady, and a wise and virtuous.\\nI nurs’d her daughter that you talk’d withal.\\nI tell you, he that can lay hold of her\\nShall have the chinks.\\n\\nROMEO.\\nIs she a Capulet?\\nO dear account! My life is my foe’s debt.\\n\\nBENVOLIO.\\nAway, be gone; the sport is at the best.\\n\\nROMEO.\\nAy, so I fear; the more is my unrest.\\n\\nCAPULET.\\nNay, gentlemen, prepare not to be gone,\\nWe have a trifling foolish banquet towards.\\nIs it e’en so? Why then, I thank you all;\\nI thank you, honest gentlemen; good night.\\nMore torches here! Come on then, let’s to bed.\\nAh, sirrah, by my fay, it waxes late,\\nI’ll to my rest.\\n\\n [_Exeunt all but Juliet and Nurse._]\\n\\nJULIET.\\nCome hither, Nurse. What is yond gentleman?\\n\\nNURSE.\\nThe son and heir of old Tiberio.\\n\\nJULIET.\\nWhat’s he that now is going out of door?\\n\\nNURSE.\\nMarry, that I think be young Petruchio.\\n\\nJULIET.\\nWhat’s he that follows here, that would not dance?\\n\\nNURSE.\\nI know not.\\n\\nJULIET.\\nGo ask his name. If he be married,\\nMy grave is like to be my wedding bed.\\n\\nNURSE.\\nHis name is Romeo, and a Montague,\\nThe only son of your great enemy.\\n\\nJULIET.\\nMy only love sprung from my only hate!\\nToo early seen unknown, and known too late!\\nProdigious birth of love it is to me,\\nThat I must love a loathed enemy.\\n\\nNURSE.\\nWhat’s this? What’s this?\\n\\nJULIET.\\nA rhyme I learn’d even now\\nOf one I danc’d withal.\\n\\n [_One calls within, ‘Juliet’._]\\n\\nNURSE.\\nAnon, anon!\\nCome let’s away, the strangers all are gone.\\n\\n [_Exeunt._]\\n\\n\\n\\nACT II\\n\\n Enter Chorus.\\n\\nCHORUS.\\nNow old desire doth in his deathbed lie,\\nAnd young affection gapes to be his heir;\\nThat fair for which love groan’d for and would die,\\nWith tender Juliet match’d, is now not fair.\\nNow Romeo is belov’d, and loves again,\\nAlike bewitched by the charm of looks;\\nBut to his foe suppos’d he must complain,\\nAnd she steal love’s sweet bait from fearful hooks:\\nBeing held a foe, he may not have access\\nTo breathe such vows as lovers use to swear;\\nAnd she as much in love, her means much less\\nTo meet her new beloved anywhere.\\nBut passion lends them power, time means, to meet,\\nTempering extremities with extreme sweet.\\n\\n [_Exit._]\\n\\nSCENE I. An open place adjoining Capulet’s Garden.\\n\\n Enter Romeo.\\n\\nROMEO.\\nCan I go forward when my heart is here?\\nTurn back, dull earth, and find thy centre out.\\n\\n [_He climbs the wall and leaps down within it._]\\n\\n Enter Benvolio and Mercutio.\\n\\nBENVOLIO.\\nRomeo! My cousin Romeo! Romeo!\\n\\nMERCUTIO.\\nHe is wise,\\nAnd on my life hath stol’n him home to bed.\\n\\nBENVOLIO.\\nHe ran this way, and leap’d this orchard wall:\\nCall, good Mercutio.\\n\\nMERCUTIO.\\nNay, I’ll conjure too.\\nRomeo! Humours! Madman! Passion! Lover!\\nAppear thou in the likeness of a sigh,\\nSpeak but one rhyme, and I am satisfied;\\nCry but ‘Ah me!’ Pronounce but Love and dove;\\nSpeak to my gossip Venus one fair word,\\nOne nickname for her purblind son and heir,\\nYoung Abraham Cupid, he that shot so trim\\nWhen King Cophetua lov’d the beggar-maid.\\nHe heareth not, he stirreth not, he moveth not;\\nThe ape is dead, and I must conjure him.\\nI conjure thee by Rosaline’s bright eyes,\\nBy her high forehead and her scarlet lip,\\nBy her fine foot, straight leg, and quivering thigh,\\nAnd the demesnes that there adjacent lie,\\nThat in thy likeness thou appear to us.\\n\\nBENVOLIO.\\nAn if he hear thee, thou wilt anger him.\\n\\nMERCUTIO.\\nThis cannot anger him. ’Twould anger him\\nTo raise a spirit in his mistress’ circle,\\nOf some strange nature, letting it there stand\\nTill she had laid it, and conjur’d it down;\\nThat were some spite. My invocation\\nIs fair and honest, and, in his mistress’ name,\\nI conjure only but to raise up him.\\n\\nBENVOLIO.\\nCome, he hath hid himself among these trees\\nTo be consorted with the humorous night.\\nBlind is his love, and best befits the dark.\\n\\nMERCUTIO.\\nIf love be blind, love cannot hit the mark.\\nNow will he sit under a medlar tree,\\nAnd wish his mistress were that kind of fruit\\nAs maids call medlars when they laugh alone.\\nO Romeo, that she were, O that she were\\nAn open-arse and thou a poperin pear!\\nRomeo, good night. I’ll to my truckle-bed.\\nThis field-bed is too cold for me to sleep.\\nCome, shall we go?\\n\\nBENVOLIO.\\nGo then; for ’tis in vain\\nTo seek him here that means not to be found.\\n\\n [_Exeunt._]\\n\\nSCENE II. Capulet’s Garden.\\n\\n Enter Romeo.\\n\\nROMEO.\\nHe jests at scars that never felt a wound.\\n\\n Juliet appears above at a window.\\n\\nBut soft, what light through yonder window breaks?\\nIt is the east, and Juliet is the sun!\\nArise fair sun and kill the envious moon,\\nWho is already sick and pale with grief,\\nThat thou her maid art far more fair than she.\\nBe not her maid since she is envious;\\nHer vestal livery is but sick and green,\\nAnd none but fools do wear it; cast it off.\\nIt is my lady, O it is my love!\\nO, that she knew she were!\\nShe speaks, yet she says nothing. What of that?\\nHer eye discourses, I will answer it.\\nI am too bold, ’tis not to me she speaks.\\nTwo of the fairest stars in all the heaven,\\nHaving some business, do entreat her eyes\\nTo twinkle in their spheres till they return.\\nWhat if her eyes were there, they in her head?\\nThe brightness of her cheek would shame those stars,\\nAs daylight doth a lamp; her eyes in heaven\\nWould through the airy region stream so bright\\nThat birds would sing and think it were not night.\\nSee how she leans her cheek upon her hand.\\nO that I were a glove upon that hand,\\nThat I might touch that cheek.\\n\\nJULIET.\\nAy me.\\n\\nROMEO.\\nShe speaks.\\nO speak again bright angel, for thou art\\nAs glorious to this night, being o’er my head,\\nAs is a winged messenger of heaven\\nUnto the white-upturned wondering eyes\\nOf mortals that fall back to gaze on him\\nWhen he bestrides the lazy-puffing clouds\\nAnd sails upon the bosom of the air.\\n\\nJULIET.\\nO Romeo, Romeo, wherefore art thou Romeo?\\nDeny thy father and refuse thy name.\\nOr if thou wilt not, be but sworn my love,\\nAnd I’ll no longer be a Capulet.\\n\\nROMEO.\\n[_Aside._] Shall I hear more, or shall I speak at this?\\n\\nJULIET.\\n’Tis but thy name that is my enemy;\\nThou art thyself, though not a Montague.\\nWhat’s Montague? It is nor hand nor foot,\\nNor arm, nor face, nor any other part\\nBelonging to a man. O be some other name.\\nWhat’s in a name? That which we call a rose\\nBy any other name would smell as sweet;\\nSo Romeo would, were he not Romeo call’d,\\nRetain that dear perfection which he owes\\nWithout that title. Romeo, doff thy name,\\nAnd for thy name, which is no part of thee,\\nTake all myself.\\n\\nROMEO.\\nI take thee at thy word.\\nCall me but love, and I’ll be new baptis’d;\\nHenceforth I never will be Romeo.\\n\\nJULIET.\\nWhat man art thou that, thus bescreen’d in night\\nSo stumblest on my counsel?\\n\\nROMEO.\\nBy a name\\nI know not how to tell thee who I am:\\nMy name, dear saint, is hateful to myself,\\nBecause it is an enemy to thee.\\nHad I it written, I would tear the word.\\n\\nJULIET.\\nMy ears have yet not drunk a hundred words\\nOf thy tongue’s utterance, yet I know the sound.\\nArt thou not Romeo, and a Montague?\\n\\nROMEO.\\nNeither, fair maid, if either thee dislike.\\n\\nJULIET.\\nHow cam’st thou hither, tell me, and wherefore?\\nThe orchard walls are high and hard to climb,\\nAnd the place death, considering who thou art,\\nIf any of my kinsmen find thee here.\\n\\nROMEO.\\nWith love’s light wings did I o’erperch these walls,\\nFor stony limits cannot hold love out,\\nAnd what love can do, that dares love attempt:\\nTherefore thy kinsmen are no stop to me.\\n\\nJULIET.\\nIf they do see thee, they will murder thee.\\n\\nROMEO.\\nAlack, there lies more peril in thine eye\\nThan twenty of their swords. Look thou but sweet,\\nAnd I am proof against their enmity.\\n\\nJULIET.\\nI would not for the world they saw thee here.\\n\\nROMEO.\\nI have night’s cloak to hide me from their eyes,\\nAnd but thou love me, let them find me here.\\nMy life were better ended by their hate\\nThan death prorogued, wanting of thy love.\\n\\nJULIET.\\nBy whose direction found’st thou out this place?\\n\\nROMEO.\\nBy love, that first did prompt me to enquire;\\nHe lent me counsel, and I lent him eyes.\\nI am no pilot; yet wert thou as far\\nAs that vast shore wash’d with the farthest sea,\\nI should adventure for such merchandise.\\n\\nJULIET.\\nThou knowest the mask of night is on my face,\\nElse would a maiden blush bepaint my cheek\\nFor that which thou hast heard me speak tonight.\\nFain would I dwell on form, fain, fain deny\\nWhat I have spoke; but farewell compliment.\\nDost thou love me? I know thou wilt say Ay,\\nAnd I will take thy word. Yet, if thou swear’st,\\nThou mayst prove false. At lovers’ perjuries,\\nThey say Jove laughs. O gentle Romeo,\\nIf thou dost love, pronounce it faithfully.\\nOr if thou thinkest I am too quickly won,\\nI’ll frown and be perverse, and say thee nay,\\nSo thou wilt woo. But else, not for the world.\\nIn truth, fair Montague, I am too fond;\\nAnd therefore thou mayst think my ’haviour light:\\nBut trust me, gentleman, I’ll prove more true\\nThan those that have more cunning to be strange.\\nI should have been more strange, I must confess,\\nBut that thou overheard’st, ere I was ’ware,\\nMy true-love passion; therefore pardon me,\\nAnd not impute this yielding to light love,\\nWhich the dark night hath so discovered.\\n\\nROMEO.\\nLady, by yonder blessed moon I vow,\\nThat tips with silver all these fruit-tree tops,—\\n\\nJULIET.\\nO swear not by the moon, th’inconstant moon,\\nThat monthly changes in her circled orb,\\nLest that thy love prove likewise variable.\\n\\nROMEO.\\nWhat shall I swear by?\\n\\nJULIET.\\nDo not swear at all.\\nOr if thou wilt, swear by thy gracious self,\\nWhich is the god of my idolatry,\\nAnd I’ll believe thee.\\n\\nROMEO.\\nIf my heart’s dear love,—\\n\\nJULIET.\\nWell, do not swear. Although I joy in thee,\\nI have no joy of this contract tonight;\\nIt is too rash, too unadvis’d, too sudden,\\nToo like the lightning, which doth cease to be\\nEre one can say It lightens. Sweet, good night.\\nThis bud of love, by summer’s ripening breath,\\nMay prove a beauteous flower when next we meet.\\nGood night, good night. As sweet repose and rest\\nCome to thy heart as that within my breast.\\n\\nROMEO.\\nO wilt thou leave me so unsatisfied?\\n\\nJULIET.\\nWhat satisfaction canst thou have tonight?\\n\\nROMEO.\\nTh’exchange of thy love’s faithful vow for mine.\\n\\nJULIET.\\nI gave thee mine before thou didst request it;\\nAnd yet I would it were to give again.\\n\\nROMEO.\\nWould’st thou withdraw it? For what purpose, love?\\n\\nJULIET.\\nBut to be frank and give it thee again.\\nAnd yet I wish but for the thing I have;\\nMy bounty is as boundless as the sea,\\nMy love as deep; the more I give to thee,\\nThe more I have, for both are infinite.\\nI hear some noise within. Dear love, adieu.\\n[_Nurse calls within._]\\nAnon, good Nurse!—Sweet Montague be true.\\nStay but a little, I will come again.\\n\\n [_Exit._]\\n\\nROMEO.\\nO blessed, blessed night. I am afeard,\\nBeing in night, all this is but a dream,\\nToo flattering sweet to be substantial.\\n\\n Enter Juliet above.\\n\\nJULIET.\\nThree words, dear Romeo, and good night indeed.\\nIf that thy bent of love be honourable,\\nThy purpose marriage, send me word tomorrow,\\nBy one that I’ll procure to come to thee,\\nWhere and what time thou wilt perform the rite,\\nAnd all my fortunes at thy foot I’ll lay\\nAnd follow thee my lord throughout the world.\\n\\nNURSE.\\n[_Within._] Madam.\\n\\nJULIET.\\nI come, anon.— But if thou meanest not well,\\nI do beseech thee,—\\n\\nNURSE.\\n[_Within._] Madam.\\n\\nJULIET.\\nBy and by I come—\\nTo cease thy strife and leave me to my grief.\\nTomorrow will I send.\\n\\nROMEO.\\nSo thrive my soul,—\\n\\nJULIET.\\nA thousand times good night.\\n\\n [_Exit._]\\n\\nROMEO.\\nA thousand times the worse, to want thy light.\\nLove goes toward love as schoolboys from their books,\\nBut love from love, towards school with heavy looks.\\n\\n [_Retiring slowly._]\\n\\n Re-enter Juliet, above.\\n\\nJULIET.\\nHist! Romeo, hist! O for a falconer’s voice\\nTo lure this tassel-gentle back again.\\nBondage is hoarse and may not speak aloud,\\nElse would I tear the cave where Echo lies,\\nAnd make her airy tongue more hoarse than mine\\nWith repetition of my Romeo’s name.\\n\\nROMEO.\\nIt is my soul that calls upon my name.\\nHow silver-sweet sound lovers’ tongues by night,\\nLike softest music to attending ears.\\n\\nJULIET.\\nRomeo.\\n\\nROMEO.\\nMy nyas?\\n\\nJULIET.\\nWhat o’clock tomorrow\\nShall I send to thee?\\n\\nROMEO.\\nBy the hour of nine.\\n\\nJULIET.\\nI will not fail. ’Tis twenty years till then.\\nI have forgot why I did call thee back.\\n\\nROMEO.\\nLet me stand here till thou remember it.\\n\\nJULIET.\\nI shall forget, to have thee still stand there,\\nRemembering how I love thy company.\\n\\nROMEO.\\nAnd I’ll still stay, to have thee still forget,\\nForgetting any other home but this.\\n\\nJULIET.\\n’Tis almost morning; I would have thee gone,\\nAnd yet no farther than a wanton’s bird,\\nThat lets it hop a little from her hand,\\nLike a poor prisoner in his twisted gyves,\\nAnd with a silk thread plucks it back again,\\nSo loving-jealous of his liberty.\\n\\nROMEO.\\nI would I were thy bird.\\n\\nJULIET.\\nSweet, so would I:\\nYet I should kill thee with much cherishing.\\nGood night, good night. Parting is such sweet sorrow\\nThat I shall say good night till it be morrow.\\n\\n [_Exit._]\\n\\nROMEO.\\nSleep dwell upon thine eyes, peace in thy breast.\\nWould I were sleep and peace, so sweet to rest.\\nThe grey-ey’d morn smiles on the frowning night,\\nChequering the eastern clouds with streaks of light;\\nAnd darkness fleckled like a drunkard reels\\nFrom forth day’s pathway, made by Titan’s wheels\\nHence will I to my ghostly Sire’s cell,\\nHis help to crave and my dear hap to tell.\\n\\n [_Exit._]\\n\\nSCENE III. Friar Lawrence’s Cell.\\n\\n Enter Friar Lawrence with a basket.\\n\\nFRIAR LAWRENCE.\\nNow, ere the sun advance his burning eye,\\nThe day to cheer, and night’s dank dew to dry,\\nI must upfill this osier cage of ours\\nWith baleful weeds and precious-juiced flowers.\\nThe earth that’s nature’s mother, is her tomb;\\nWhat is her burying grave, that is her womb:\\nAnd from her womb children of divers kind\\nWe sucking on her natural bosom find.\\nMany for many virtues excellent,\\nNone but for some, and yet all different.\\nO, mickle is the powerful grace that lies\\nIn plants, herbs, stones, and their true qualities.\\nFor naught so vile that on the earth doth live\\nBut to the earth some special good doth give;\\nNor aught so good but, strain’d from that fair use,\\nRevolts from true birth, stumbling on abuse.\\nVirtue itself turns vice being misapplied,\\nAnd vice sometime’s by action dignified.\\n\\n Enter Romeo.\\n\\nWithin the infant rind of this weak flower\\nPoison hath residence, and medicine power:\\nFor this, being smelt, with that part cheers each part;\\nBeing tasted, slays all senses with the heart.\\nTwo such opposed kings encamp them still\\nIn man as well as herbs,—grace and rude will;\\nAnd where the worser is predominant,\\nFull soon the canker death eats up that plant.\\n\\nROMEO.\\nGood morrow, father.\\n\\nFRIAR LAWRENCE.\\nBenedicite!\\nWhat early tongue so sweet saluteth me?\\nYoung son, it argues a distemper’d head\\nSo soon to bid good morrow to thy bed.\\nCare keeps his watch in every old man’s eye,\\nAnd where care lodges sleep will never lie;\\nBut where unbruised youth with unstuff’d brain\\nDoth couch his limbs, there golden sleep doth reign.\\nTherefore thy earliness doth me assure\\nThou art uprous’d with some distemperature;\\nOr if not so, then here I hit it right,\\nOur Romeo hath not been in bed tonight.\\n\\nROMEO.\\nThat last is true; the sweeter rest was mine.\\n\\nFRIAR LAWRENCE.\\nGod pardon sin. Wast thou with Rosaline?\\n\\nROMEO.\\nWith Rosaline, my ghostly father? No.\\nI have forgot that name, and that name’s woe.\\n\\nFRIAR LAWRENCE.\\nThat’s my good son. But where hast thou been then?\\n\\nROMEO.\\nI’ll tell thee ere thou ask it me again.\\nI have been feasting with mine enemy,\\nWhere on a sudden one hath wounded me\\nThat’s by me wounded. Both our remedies\\nWithin thy help and holy physic lies.\\nI bear no hatred, blessed man; for lo,\\nMy intercession likewise steads my foe.\\n\\nFRIAR LAWRENCE.\\nBe plain, good son, and homely in thy drift;\\nRiddling confession finds but riddling shrift.\\n\\nROMEO.\\nThen plainly know my heart’s dear love is set\\nOn the fair daughter of rich Capulet.\\nAs mine on hers, so hers is set on mine;\\nAnd all combin’d, save what thou must combine\\nBy holy marriage. When, and where, and how\\nWe met, we woo’d, and made exchange of vow,\\nI’ll tell thee as we pass; but this I pray,\\nThat thou consent to marry us today.\\n\\nFRIAR LAWRENCE.\\nHoly Saint Francis! What a change is here!\\nIs Rosaline, that thou didst love so dear,\\nSo soon forsaken? Young men’s love then lies\\nNot truly in their hearts, but in their eyes.\\nJesu Maria, what a deal of brine\\nHath wash’d thy sallow cheeks for Rosaline!\\nHow much salt water thrown away in waste,\\nTo season love, that of it doth not taste.\\nThe sun not yet thy sighs from heaven clears,\\nThy old groans yet ring in mine ancient ears.\\nLo here upon thy cheek the stain doth sit\\nOf an old tear that is not wash’d off yet.\\nIf ere thou wast thyself, and these woes thine,\\nThou and these woes were all for Rosaline,\\nAnd art thou chang’d? Pronounce this sentence then,\\nWomen may fall, when there’s no strength in men.\\n\\nROMEO.\\nThou chidd’st me oft for loving Rosaline.\\n\\nFRIAR LAWRENCE.\\nFor doting, not for loving, pupil mine.\\n\\nROMEO.\\nAnd bad’st me bury love.\\n\\nFRIAR LAWRENCE.\\nNot in a grave\\nTo lay one in, another out to have.\\n\\nROMEO.\\nI pray thee chide me not, her I love now\\nDoth grace for grace and love for love allow.\\nThe other did not so.\\n\\nFRIAR LAWRENCE.\\nO, she knew well\\nThy love did read by rote, that could not spell.\\nBut come young waverer, come go with me,\\nIn one respect I’ll thy assistant be;\\nFor this alliance may so happy prove,\\nTo turn your households’ rancour to pure love.\\n\\nROMEO.\\nO let us hence; I stand on sudden haste.\\n\\nFRIAR LAWRENCE.\\nWisely and slow; they stumble that run fast.\\n\\n [_Exeunt._]\\n\\nSCENE IV. A Street.\\n\\n Enter Benvolio and Mercutio.\\n\\nMERCUTIO.\\nWhere the devil should this Romeo be? Came he not home tonight?\\n\\nBENVOLIO.\\nNot to his father’s; I spoke with his man.\\n\\nMERCUTIO.\\nWhy, that same pale hard-hearted wench, that Rosaline, torments him so\\nthat he will sure run mad.\\n\\nBENVOLIO.\\nTybalt, the kinsman to old Capulet, hath sent a letter to his father’s\\nhouse.\\n\\nMERCUTIO.\\nA challenge, on my life.\\n\\nBENVOLIO.\\nRomeo will answer it.\\n\\nMERCUTIO.\\nAny man that can write may answer a letter.\\n\\nBENVOLIO.\\nNay, he will answer the letter’s master, how he dares, being dared.\\n\\nMERCUTIO.\\nAlas poor Romeo, he is already dead, stabbed with a white wench’s black\\neye; run through the ear with a love song, the very pin of his heart\\ncleft with the blind bow-boy’s butt-shaft. And is he a man to encounter\\nTybalt?\\n\\nBENVOLIO.\\nWhy, what is Tybalt?\\n\\nMERCUTIO.\\nMore than Prince of cats. O, he’s the courageous captain of\\ncompliments. He fights as you sing prick-song, keeps time, distance,\\nand proportion. He rests his minim rest, one, two, and the third in\\nyour bosom: the very butcher of a silk button, a duellist, a duellist;\\na gentleman of the very first house, of the first and second cause. Ah,\\nthe immortal passado, the punto reverso, the hay.\\n\\nBENVOLIO.\\nThe what?\\n\\nMERCUTIO.\\nThe pox of such antic lisping, affecting phantasies; these new tuners\\nof accent. By Jesu, a very good blade, a very tall man, a very good\\nwhore. Why, is not this a lamentable thing, grandsire, that we should\\nbe thus afflicted with these strange flies, these fashion-mongers,\\nthese pardon-me’s, who stand so much on the new form that they cannot\\nsit at ease on the old bench? O their bones, their bones!\\n\\n Enter Romeo.\\n\\nBENVOLIO.\\nHere comes Romeo, here comes Romeo!\\n\\nMERCUTIO.\\nWithout his roe, like a dried herring. O flesh, flesh, how art thou\\nfishified! Now is he for the numbers that Petrarch flowed in. Laura, to\\nhis lady, was but a kitchen wench,—marry, she had a better love to\\nberhyme her: Dido a dowdy; Cleopatra a gypsy; Helen and Hero hildings\\nand harlots; Thisbe a grey eye or so, but not to the purpose. Signior\\nRomeo, bonjour! There’s a French salutation to your French slop. You\\ngave us the counterfeit fairly last night.\\n\\nROMEO.\\nGood morrow to you both. What counterfeit did I give you?\\n\\nMERCUTIO.\\nThe slip sir, the slip; can you not conceive?\\n\\nROMEO.\\nPardon, good Mercutio, my business was great, and in such a case as\\nmine a man may strain courtesy.\\n\\nMERCUTIO.\\nThat’s as much as to say, such a case as yours constrains a man to bow\\nin the hams.\\n\\nROMEO.\\nMeaning, to curtsy.\\n\\nMERCUTIO.\\nThou hast most kindly hit it.\\n\\nROMEO.\\nA most courteous exposition.\\n\\nMERCUTIO.\\nNay, I am the very pink of courtesy.\\n\\nROMEO.\\nPink for flower.\\n\\nMERCUTIO.\\nRight.\\n\\nROMEO.\\nWhy, then is my pump well flowered.\\n\\nMERCUTIO.\\nSure wit, follow me this jest now, till thou hast worn out thy pump,\\nthat when the single sole of it is worn, the jest may remain after the\\nwearing, solely singular.\\n\\nROMEO.\\nO single-soled jest, solely singular for the singleness!\\n\\nMERCUTIO.\\nCome between us, good Benvolio; my wits faint.\\n\\nROMEO.\\nSwits and spurs, swits and spurs; or I’ll cry a match.\\n\\nMERCUTIO.\\nNay, if thy wits run the wild-goose chase, I am done. For thou hast\\nmore of the wild-goose in one of thy wits, than I am sure, I have in my\\nwhole five. Was I with you there for the goose?\\n\\nROMEO.\\nThou wast never with me for anything, when thou wast not there for the\\ngoose.\\n\\nMERCUTIO.\\nI will bite thee by the ear for that jest.\\n\\nROMEO.\\nNay, good goose, bite not.\\n\\nMERCUTIO.\\nThy wit is a very bitter sweeting, it is a most sharp sauce.\\n\\nROMEO.\\nAnd is it not then well served in to a sweet goose?\\n\\nMERCUTIO.\\nO here’s a wit of cheveril, that stretches from an inch narrow to an\\nell broad.\\n\\nROMEO.\\nI stretch it out for that word broad, which added to the goose, proves\\nthee far and wide a broad goose.\\n\\nMERCUTIO.\\nWhy, is not this better now than groaning for love? Now art thou\\nsociable, now art thou Romeo; not art thou what thou art, by art as\\nwell as by nature. For this drivelling love is like a great natural,\\nthat runs lolling up and down to hide his bauble in a hole.\\n\\nBENVOLIO.\\nStop there, stop there.\\n\\nMERCUTIO.\\nThou desirest me to stop in my tale against the hair.\\n\\nBENVOLIO.\\nThou wouldst else have made thy tale large.\\n\\nMERCUTIO.\\nO, thou art deceived; I would have made it short, for I was come to the\\nwhole depth of my tale, and meant indeed to occupy the argument no\\nlonger.\\n\\n Enter Nurse and Peter.\\n\\nROMEO.\\nHere’s goodly gear!\\nA sail, a sail!\\n\\nMERCUTIO.\\nTwo, two; a shirt and a smock.\\n\\nNURSE.\\nPeter!\\n\\nPETER.\\nAnon.\\n\\nNURSE.\\nMy fan, Peter.\\n\\nMERCUTIO.\\nGood Peter, to hide her face; for her fan’s the fairer face.\\n\\nNURSE.\\nGod ye good morrow, gentlemen.\\n\\nMERCUTIO.\\nGod ye good-den, fair gentlewoman.\\n\\nNURSE.\\nIs it good-den?\\n\\nMERCUTIO.\\n’Tis no less, I tell ye; for the bawdy hand of the dial is now upon the\\nprick of noon.\\n\\nNURSE.\\nOut upon you! What a man are you?\\n\\nROMEO.\\nOne, gentlewoman, that God hath made for himself to mar.\\n\\nNURSE.\\nBy my troth, it is well said; for himself to mar, quoth a? Gentlemen,\\ncan any of you tell me where I may find the young Romeo?\\n\\nROMEO.\\nI can tell you: but young Romeo will be older when you have found him\\nthan he was when you sought him. I am the youngest of that name, for\\nfault of a worse.\\n\\nNURSE.\\nYou say well.\\n\\nMERCUTIO.\\nYea, is the worst well? Very well took, i’faith; wisely, wisely.\\n\\nNURSE.\\nIf you be he, sir, I desire some confidence with you.\\n\\nBENVOLIO.\\nShe will endite him to some supper.\\n\\nMERCUTIO.\\nA bawd, a bawd, a bawd! So ho!\\n\\nROMEO.\\nWhat hast thou found?\\n\\nMERCUTIO.\\nNo hare, sir; unless a hare, sir, in a lenten pie, that is something\\nstale and hoar ere it be spent.\\n[_Sings._]\\n    An old hare hoar,\\n    And an old hare hoar,\\n  Is very good meat in Lent;\\n    But a hare that is hoar\\n    Is too much for a score\\n  When it hoars ere it be spent.\\nRomeo, will you come to your father’s? We’ll to dinner thither.\\n\\nROMEO.\\nI will follow you.\\n\\nMERCUTIO.\\nFarewell, ancient lady; farewell, lady, lady, lady.\\n\\n [_Exeunt Mercutio and Benvolio._]\\n\\nNURSE.\\nI pray you, sir, what saucy merchant was this that was so full of his\\nropery?\\n\\nROMEO.\\nA gentleman, Nurse, that loves to hear himself talk, and will speak\\nmore in a minute than he will stand to in a month.\\n\\nNURSE.\\nAnd a speak anything against me, I’ll take him down, and a were lustier\\nthan he is, and twenty such Jacks. And if I cannot, I’ll find those\\nthat shall. Scurvy knave! I am none of his flirt-gills; I am none of\\nhis skains-mates.—And thou must stand by too and suffer every knave to\\nuse me at his pleasure!\\n\\nPETER.\\nI saw no man use you at his pleasure; if I had, my weapon should\\nquickly have been out. I warrant you, I dare draw as soon as another\\nman, if I see occasion in a good quarrel, and the law on my side.\\n\\nNURSE.\\nNow, afore God, I am so vexed that every part about me quivers. Scurvy\\nknave. Pray you, sir, a word: and as I told you, my young lady bid me\\nenquire you out; what she bade me say, I will keep to myself. But first\\nlet me tell ye, if ye should lead her in a fool’s paradise, as they\\nsay, it were a very gross kind of behaviour, as they say; for the\\ngentlewoman is young. And therefore, if you should deal double with\\nher, truly it were an ill thing to be offered to any gentlewoman, and\\nvery weak dealing.\\n\\nROMEO. Nurse, commend me to thy lady and mistress. I protest unto\\nthee,—\\n\\nNURSE.\\nGood heart, and i’faith I will tell her as much. Lord, Lord, she will\\nbe a joyful woman.\\n\\nROMEO.\\nWhat wilt thou tell her, Nurse? Thou dost not mark me.\\n\\nNURSE.\\nI will tell her, sir, that you do protest, which, as I take it, is a\\ngentlemanlike offer.\\n\\nROMEO.\\nBid her devise\\nSome means to come to shrift this afternoon,\\nAnd there she shall at Friar Lawrence’ cell\\nBe shriv’d and married. Here is for thy pains.\\n\\nNURSE.\\nNo truly, sir; not a penny.\\n\\nROMEO.\\nGo to; I say you shall.\\n\\nNURSE.\\nThis afternoon, sir? Well, she shall be there.\\n\\nROMEO.\\nAnd stay, good Nurse, behind the abbey wall.\\nWithin this hour my man shall be with thee,\\nAnd bring thee cords made like a tackled stair,\\nWhich to the high topgallant of my joy\\nMust be my convoy in the secret night.\\nFarewell, be trusty, and I’ll quit thy pains;\\nFarewell; commend me to thy mistress.\\n\\nNURSE.\\nNow God in heaven bless thee. Hark you, sir.\\n\\nROMEO.\\nWhat say’st thou, my dear Nurse?\\n\\nNURSE.\\nIs your man secret? Did you ne’er hear say,\\nTwo may keep counsel, putting one away?\\n\\nROMEO.\\nI warrant thee my man’s as true as steel.\\n\\nNURSE.\\nWell, sir, my mistress is the sweetest lady. Lord, Lord! When ’twas a\\nlittle prating thing,—O, there is a nobleman in town, one Paris, that\\nwould fain lay knife aboard; but she, good soul, had as lief see a\\ntoad, a very toad, as see him. I anger her sometimes, and tell her that\\nParis is the properer man, but I’ll warrant you, when I say so, she\\nlooks as pale as any clout in the versal world. Doth not rosemary and\\nRomeo begin both with a letter?\\n\\nROMEO.\\nAy, Nurse; what of that? Both with an R.\\n\\nNURSE.\\nAh, mocker! That’s the dog’s name. R is for the—no, I know it begins\\nwith some other letter, and she hath the prettiest sententious of it,\\nof you and rosemary, that it would do you good to hear it.\\n\\nROMEO.\\nCommend me to thy lady.\\n\\nNURSE.\\nAy, a thousand times. Peter!\\n\\n [_Exit Romeo._]\\n\\nPETER.\\nAnon.\\n\\nNURSE.\\nBefore and apace.\\n\\n [_Exeunt._]\\n\\nSCENE V. Capulet’s Garden.\\n\\n Enter Juliet.\\n\\nJULIET.\\nThe clock struck nine when I did send the Nurse,\\nIn half an hour she promised to return.\\nPerchance she cannot meet him. That’s not so.\\nO, she is lame. Love’s heralds should be thoughts,\\nWhich ten times faster glides than the sun’s beams,\\nDriving back shadows over lowering hills:\\nTherefore do nimble-pinion’d doves draw love,\\nAnd therefore hath the wind-swift Cupid wings.\\nNow is the sun upon the highmost hill\\nOf this day’s journey, and from nine till twelve\\nIs three long hours, yet she is not come.\\nHad she affections and warm youthful blood,\\nShe’d be as swift in motion as a ball;\\nMy words would bandy her to my sweet love,\\nAnd his to me.\\nBut old folks, many feign as they were dead;\\nUnwieldy, slow, heavy and pale as lead.\\n\\n Enter Nurse and Peter.\\n\\nO God, she comes. O honey Nurse, what news?\\nHast thou met with him? Send thy man away.\\n\\nNURSE.\\nPeter, stay at the gate.\\n\\n [_Exit Peter._]\\n\\nJULIET.\\nNow, good sweet Nurse,—O Lord, why look’st thou sad?\\nThough news be sad, yet tell them merrily;\\nIf good, thou sham’st the music of sweet news\\nBy playing it to me with so sour a face.\\n\\nNURSE.\\nI am aweary, give me leave awhile;\\nFie, how my bones ache! What a jaunt have I had!\\n\\nJULIET.\\nI would thou hadst my bones, and I thy news:\\nNay come, I pray thee speak; good, good Nurse, speak.\\n\\nNURSE.\\nJesu, what haste? Can you not stay a while? Do you not see that I am\\nout of breath?\\n\\nJULIET.\\nHow art thou out of breath, when thou hast breath\\nTo say to me that thou art out of breath?\\nThe excuse that thou dost make in this delay\\nIs longer than the tale thou dost excuse.\\nIs thy news good or bad? Answer to that;\\nSay either, and I’ll stay the circumstance.\\nLet me be satisfied, is’t good or bad?\\n\\nNURSE.\\nWell, you have made a simple choice; you know not how to choose a man.\\nRomeo? No, not he. Though his face be better than any man’s, yet his\\nleg excels all men’s, and for a hand and a foot, and a body, though\\nthey be not to be talked on, yet they are past compare. He is not the\\nflower of courtesy, but I’ll warrant him as gentle as a lamb. Go thy\\nways, wench, serve God. What, have you dined at home?\\n\\nJULIET.\\nNo, no. But all this did I know before.\\nWhat says he of our marriage? What of that?\\n\\nNURSE.\\nLord, how my head aches! What a head have I!\\nIt beats as it would fall in twenty pieces.\\nMy back o’ t’other side,—O my back, my back!\\nBeshrew your heart for sending me about\\nTo catch my death with jauncing up and down.\\n\\nJULIET.\\nI’faith, I am sorry that thou art not well.\\nSweet, sweet, sweet Nurse, tell me, what says my love?\\n\\nNURSE.\\nYour love says like an honest gentleman,\\nAnd a courteous, and a kind, and a handsome,\\nAnd I warrant a virtuous,—Where is your mother?\\n\\nJULIET.\\nWhere is my mother? Why, she is within.\\nWhere should she be? How oddly thou repliest.\\n‘Your love says, like an honest gentleman,\\n‘Where is your mother?’\\n\\nNURSE.\\nO God’s lady dear,\\nAre you so hot? Marry, come up, I trow.\\nIs this the poultice for my aching bones?\\nHenceforward do your messages yourself.\\n\\nJULIET.\\nHere’s such a coil. Come, what says Romeo?\\n\\nNURSE.\\nHave you got leave to go to shrift today?\\n\\nJULIET.\\nI have.\\n\\nNURSE.\\nThen hie you hence to Friar Lawrence’ cell;\\nThere stays a husband to make you a wife.\\nNow comes the wanton blood up in your cheeks,\\nThey’ll be in scarlet straight at any news.\\nHie you to church. I must another way,\\nTo fetch a ladder by the which your love\\nMust climb a bird’s nest soon when it is dark.\\nI am the drudge, and toil in your delight;\\nBut you shall bear the burden soon at night.\\nGo. I’ll to dinner; hie you to the cell.\\n\\nJULIET.\\nHie to high fortune! Honest Nurse, farewell.\\n\\n [_Exeunt._]\\n\\nSCENE VI. Friar Lawrence’s Cell.\\n\\n Enter Friar Lawrence and Romeo.\\n\\nFRIAR LAWRENCE.\\nSo smile the heavens upon this holy act\\nThat after-hours with sorrow chide us not.\\n\\nROMEO.\\nAmen, amen, but come what sorrow can,\\nIt cannot countervail the exchange of joy\\nThat one short minute gives me in her sight.\\nDo thou but close our hands with holy words,\\nThen love-devouring death do what he dare,\\nIt is enough I may but call her mine.\\n\\nFRIAR LAWRENCE.\\nThese violent delights have violent ends,\\nAnd in their triumph die; like fire and powder,\\nWhich as they kiss consume. The sweetest honey\\nIs loathsome in his own deliciousness,\\nAnd in the taste confounds the appetite.\\nTherefore love moderately: long love doth so;\\nToo swift arrives as tardy as too slow.\\n\\n Enter Juliet.\\n\\nHere comes the lady. O, so light a foot\\nWill ne’er wear out the everlasting flint.\\nA lover may bestride the gossamers\\nThat idles in the wanton summer air\\nAnd yet not fall; so light is vanity.\\n\\nJULIET.\\nGood even to my ghostly confessor.\\n\\nFRIAR LAWRENCE.\\nRomeo shall thank thee, daughter, for us both.\\n\\nJULIET.\\nAs much to him, else is his thanks too much.\\n\\nROMEO.\\nAh, Juliet, if the measure of thy joy\\nBe heap’d like mine, and that thy skill be more\\nTo blazon it, then sweeten with thy breath\\nThis neighbour air, and let rich music’s tongue\\nUnfold the imagin’d happiness that both\\nReceive in either by this dear encounter.\\n\\nJULIET.\\nConceit more rich in matter than in words,\\nBrags of his substance, not of ornament.\\nThey are but beggars that can count their worth;\\nBut my true love is grown to such excess,\\nI cannot sum up sum of half my wealth.\\n\\nFRIAR LAWRENCE.\\nCome, come with me, and we will make short work,\\nFor, by your leaves, you shall not stay alone\\nTill holy church incorporate two in one.\\n\\n [_Exeunt._]\\n\\n\\n\\nACT III\\n\\nSCENE I. A public Place.\\n\\n Enter Mercutio, Benvolio, Page and Servants.\\n\\nBENVOLIO.\\nI pray thee, good Mercutio, let’s retire:\\nThe day is hot, the Capulets abroad,\\nAnd if we meet, we shall not scape a brawl,\\nFor now these hot days, is the mad blood stirring.\\n\\nMERCUTIO.\\nThou art like one of these fellows that, when he enters the confines of\\na tavern, claps me his sword upon the table, and says ‘God send me no\\nneed of thee!’ and by the operation of the second cup draws him on the\\ndrawer, when indeed there is no need.\\n\\nBENVOLIO.\\nAm I like such a fellow?\\n\\nMERCUTIO.\\nCome, come, thou art as hot a Jack in thy mood as any in Italy; and as\\nsoon moved to be moody, and as soon moody to be moved.\\n\\nBENVOLIO.\\nAnd what to?\\n\\nMERCUTIO.\\nNay, an there were two such, we should have none shortly, for one would\\nkill the other. Thou? Why, thou wilt quarrel with a man that hath a\\nhair more or a hair less in his beard than thou hast. Thou wilt quarrel\\nwith a man for cracking nuts, having no other reason but because thou\\nhast hazel eyes. What eye but such an eye would spy out such a quarrel?\\nThy head is as full of quarrels as an egg is full of meat, and yet thy\\nhead hath been beaten as addle as an egg for quarrelling. Thou hast\\nquarrelled with a man for coughing in the street, because he hath\\nwakened thy dog that hath lain asleep in the sun. Didst thou not fall\\nout with a tailor for wearing his new doublet before Easter? with\\nanother for tying his new shoes with an old riband? And yet thou wilt\\ntutor me from quarrelling!\\n\\nBENVOLIO.\\nAnd I were so apt to quarrel as thou art, any man should buy the fee\\nsimple of my life for an hour and a quarter.\\n\\nMERCUTIO.\\nThe fee simple! O simple!\\n\\n Enter Tybalt and others.\\n\\nBENVOLIO.\\nBy my head, here comes the Capulets.\\n\\nMERCUTIO.\\nBy my heel, I care not.\\n\\nTYBALT.\\nFollow me close, for I will speak to them.\\nGentlemen, good-den: a word with one of you.\\n\\nMERCUTIO.\\nAnd but one word with one of us? Couple it with something; make it a\\nword and a blow.\\n\\nTYBALT.\\nYou shall find me apt enough to that, sir, and you will give me\\noccasion.\\n\\nMERCUTIO.\\nCould you not take some occasion without giving?\\n\\nTYBALT.\\nMercutio, thou consortest with Romeo.\\n\\nMERCUTIO.\\nConsort? What, dost thou make us minstrels? And thou make minstrels of\\nus, look to hear nothing but discords. Here’s my fiddlestick, here’s\\nthat shall make you dance. Zounds, consort!\\n\\nBENVOLIO.\\nWe talk here in the public haunt of men.\\nEither withdraw unto some private place,\\nAnd reason coldly of your grievances,\\nOr else depart; here all eyes gaze on us.\\n\\nMERCUTIO.\\nMen’s eyes were made to look, and let them gaze.\\nI will not budge for no man’s pleasure, I.\\n\\n Enter Romeo.\\n\\nTYBALT.\\nWell, peace be with you, sir, here comes my man.\\n\\nMERCUTIO.\\nBut I’ll be hanged, sir, if he wear your livery.\\nMarry, go before to field, he’ll be your follower;\\nYour worship in that sense may call him man.\\n\\nTYBALT.\\nRomeo, the love I bear thee can afford\\nNo better term than this: Thou art a villain.\\n\\nROMEO.\\nTybalt, the reason that I have to love thee\\nDoth much excuse the appertaining rage\\nTo such a greeting. Villain am I none;\\nTherefore farewell; I see thou know’st me not.\\n\\nTYBALT.\\nBoy, this shall not excuse the injuries\\nThat thou hast done me, therefore turn and draw.\\n\\nROMEO.\\nI do protest I never injur’d thee,\\nBut love thee better than thou canst devise\\nTill thou shalt know the reason of my love.\\nAnd so good Capulet, which name I tender\\nAs dearly as mine own, be satisfied.\\n\\nMERCUTIO.\\nO calm, dishonourable, vile submission!\\n[_Draws._] Alla stoccata carries it away.\\nTybalt, you rat-catcher, will you walk?\\n\\nTYBALT.\\nWhat wouldst thou have with me?\\n\\nMERCUTIO.\\nGood King of Cats, nothing but one of your nine lives; that I mean to\\nmake bold withal, and, as you shall use me hereafter, dry-beat the rest\\nof the eight. Will you pluck your sword out of his pilcher by the ears?\\nMake haste, lest mine be about your ears ere it be out.\\n\\nTYBALT.\\n[_Drawing._] I am for you.\\n\\nROMEO.\\nGentle Mercutio, put thy rapier up.\\n\\nMERCUTIO.\\nCome, sir, your passado.\\n\\n [_They fight._]\\n\\nROMEO.\\nDraw, Benvolio; beat down their weapons.\\nGentlemen, for shame, forbear this outrage,\\nTybalt, Mercutio, the Prince expressly hath\\nForbid this bandying in Verona streets.\\nHold, Tybalt! Good Mercutio!\\n\\n [_Exeunt Tybalt with his Partizans._]\\n\\nMERCUTIO.\\nI am hurt.\\nA plague o’ both your houses. I am sped.\\nIs he gone, and hath nothing?\\n\\nBENVOLIO.\\nWhat, art thou hurt?\\n\\nMERCUTIO.\\nAy, ay, a scratch, a scratch. Marry, ’tis enough.\\nWhere is my page? Go villain, fetch a surgeon.\\n\\n [_Exit Page._]\\n\\nROMEO.\\nCourage, man; the hurt cannot be much.\\n\\nMERCUTIO.\\nNo, ’tis not so deep as a well, nor so wide as a church door, but ’tis\\nenough, ’twill serve. Ask for me tomorrow, and you shall find me a\\ngrave man. I am peppered, I warrant, for this world. A plague o’ both\\nyour houses. Zounds, a dog, a rat, a mouse, a cat, to scratch a man to\\ndeath. A braggart, a rogue, a villain, that fights by the book of\\narithmetic!—Why the devil came you between us? I was hurt under your\\narm.\\n\\nROMEO.\\nI thought all for the best.\\n\\nMERCUTIO.\\nHelp me into some house, Benvolio,\\nOr I shall faint. A plague o’ both your houses.\\nThey have made worms’ meat of me.\\nI have it, and soundly too. Your houses!\\n\\n [_Exeunt Mercutio and Benvolio._]\\n\\nROMEO.\\nThis gentleman, the Prince’s near ally,\\nMy very friend, hath got his mortal hurt\\nIn my behalf; my reputation stain’d\\nWith Tybalt’s slander,—Tybalt, that an hour\\nHath been my cousin. O sweet Juliet,\\nThy beauty hath made me effeminate\\nAnd in my temper soften’d valour’s steel.\\n\\n Re-enter Benvolio.\\n\\nBENVOLIO.\\nO Romeo, Romeo, brave Mercutio’s dead,\\nThat gallant spirit hath aspir’d the clouds,\\nWhich too untimely here did scorn the earth.\\n\\nROMEO.\\nThis day’s black fate on mo days doth depend;\\nThis but begins the woe others must end.\\n\\n Re-enter Tybalt.\\n\\nBENVOLIO.\\nHere comes the furious Tybalt back again.\\n\\nROMEO.\\nAgain in triumph, and Mercutio slain?\\nAway to heaven respective lenity,\\nAnd fire-ey’d fury be my conduct now!\\nNow, Tybalt, take the ‘villain’ back again\\nThat late thou gav’st me, for Mercutio’s soul\\nIs but a little way above our heads,\\nStaying for thine to keep him company.\\nEither thou or I, or both, must go with him.\\n\\nTYBALT.\\nThou wretched boy, that didst consort him here,\\nShalt with him hence.\\n\\nROMEO.\\nThis shall determine that.\\n\\n [_They fight; Tybalt falls._]\\n\\nBENVOLIO.\\nRomeo, away, be gone!\\nThe citizens are up, and Tybalt slain.\\nStand not amaz’d. The Prince will doom thee death\\nIf thou art taken. Hence, be gone, away!\\n\\nROMEO.\\nO, I am fortune’s fool!\\n\\nBENVOLIO.\\nWhy dost thou stay?\\n\\n [_Exit Romeo._]\\n\\n Enter Citizens.\\n\\nFIRST CITIZEN.\\nWhich way ran he that kill’d Mercutio?\\nTybalt, that murderer, which way ran he?\\n\\nBENVOLIO.\\nThere lies that Tybalt.\\n\\nFIRST CITIZEN.\\nUp, sir, go with me.\\nI charge thee in the Prince’s name obey.\\n\\n Enter Prince, attended; Montague, Capulet, their Wives and others.\\n\\nPRINCE.\\nWhere are the vile beginners of this fray?\\n\\nBENVOLIO.\\nO noble Prince, I can discover all\\nThe unlucky manage of this fatal brawl.\\nThere lies the man, slain by young Romeo,\\nThat slew thy kinsman, brave Mercutio.\\n\\nLADY CAPULET.\\nTybalt, my cousin! O my brother’s child!\\nO Prince! O husband! O, the blood is spill’d\\nOf my dear kinsman! Prince, as thou art true,\\nFor blood of ours shed blood of Montague.\\nO cousin, cousin.\\n\\nPRINCE.\\nBenvolio, who began this bloody fray?\\n\\nBENVOLIO.\\nTybalt, here slain, whom Romeo’s hand did slay;\\nRomeo, that spoke him fair, bid him bethink\\nHow nice the quarrel was, and urg’d withal\\nYour high displeasure. All this uttered\\nWith gentle breath, calm look, knees humbly bow’d\\nCould not take truce with the unruly spleen\\nOf Tybalt, deaf to peace, but that he tilts\\nWith piercing steel at bold Mercutio’s breast,\\nWho, all as hot, turns deadly point to point,\\nAnd, with a martial scorn, with one hand beats\\nCold death aside, and with the other sends\\nIt back to Tybalt, whose dexterity\\nRetorts it. Romeo he cries aloud,\\n‘Hold, friends! Friends, part!’ and swifter than his tongue,\\nHis agile arm beats down their fatal points,\\nAnd ’twixt them rushes; underneath whose arm\\nAn envious thrust from Tybalt hit the life\\nOf stout Mercutio, and then Tybalt fled.\\nBut by and by comes back to Romeo,\\nWho had but newly entertain’d revenge,\\nAnd to’t they go like lightning; for, ere I\\nCould draw to part them was stout Tybalt slain;\\nAnd as he fell did Romeo turn and fly.\\nThis is the truth, or let Benvolio die.\\n\\nLADY CAPULET.\\nHe is a kinsman to the Montague.\\nAffection makes him false, he speaks not true.\\nSome twenty of them fought in this black strife,\\nAnd all those twenty could but kill one life.\\nI beg for justice, which thou, Prince, must give;\\nRomeo slew Tybalt, Romeo must not live.\\n\\nPRINCE.\\nRomeo slew him, he slew Mercutio.\\nWho now the price of his dear blood doth owe?\\n\\nMONTAGUE.\\nNot Romeo, Prince, he was Mercutio’s friend;\\nHis fault concludes but what the law should end,\\nThe life of Tybalt.\\n\\nPRINCE.\\nAnd for that offence\\nImmediately we do exile him hence.\\nI have an interest in your hate’s proceeding,\\nMy blood for your rude brawls doth lie a-bleeding.\\nBut I’ll amerce you with so strong a fine\\nThat you shall all repent the loss of mine.\\nI will be deaf to pleading and excuses;\\nNor tears nor prayers shall purchase out abuses.\\nTherefore use none. Let Romeo hence in haste,\\nElse, when he is found, that hour is his last.\\nBear hence this body, and attend our will.\\nMercy but murders, pardoning those that kill.\\n\\n [_Exeunt._]\\n\\nSCENE II. A Room in Capulet’s House.\\n\\n Enter Juliet.\\n\\nJULIET.\\nGallop apace, you fiery-footed steeds,\\nTowards Phoebus’ lodging. Such a waggoner\\nAs Phaeton would whip you to the west\\nAnd bring in cloudy night immediately.\\nSpread thy close curtain, love-performing night,\\nThat runaway’s eyes may wink, and Romeo\\nLeap to these arms, untalk’d of and unseen.\\nLovers can see to do their amorous rites\\nBy their own beauties: or, if love be blind,\\nIt best agrees with night. Come, civil night,\\nThou sober-suited matron, all in black,\\nAnd learn me how to lose a winning match,\\nPlay’d for a pair of stainless maidenhoods.\\nHood my unmann’d blood, bating in my cheeks,\\nWith thy black mantle, till strange love, grow bold,\\nThink true love acted simple modesty.\\nCome, night, come Romeo; come, thou day in night;\\nFor thou wilt lie upon the wings of night\\nWhiter than new snow upon a raven’s back.\\nCome gentle night, come loving black-brow’d night,\\nGive me my Romeo, and when I shall die,\\nTake him and cut him out in little stars,\\nAnd he will make the face of heaven so fine\\nThat all the world will be in love with night,\\nAnd pay no worship to the garish sun.\\nO, I have bought the mansion of a love,\\nBut not possess’d it; and though I am sold,\\nNot yet enjoy’d. So tedious is this day\\nAs is the night before some festival\\nTo an impatient child that hath new robes\\nAnd may not wear them. O, here comes my Nurse,\\nAnd she brings news, and every tongue that speaks\\nBut Romeo’s name speaks heavenly eloquence.\\n\\n Enter Nurse, with cords.\\n\\nNow, Nurse, what news? What hast thou there?\\nThe cords that Romeo bid thee fetch?\\n\\nNURSE.\\nAy, ay, the cords.\\n\\n [_Throws them down._]\\n\\nJULIET.\\nAy me, what news? Why dost thou wring thy hands?\\n\\nNURSE.\\nAh, well-a-day, he’s dead, he’s dead, he’s dead!\\nWe are undone, lady, we are undone.\\nAlack the day, he’s gone, he’s kill’d, he’s dead.\\n\\nJULIET.\\nCan heaven be so envious?\\n\\nNURSE.\\nRomeo can,\\nThough heaven cannot. O Romeo, Romeo.\\nWho ever would have thought it? Romeo!\\n\\nJULIET.\\nWhat devil art thou, that dost torment me thus?\\nThis torture should be roar’d in dismal hell.\\nHath Romeo slain himself? Say thou but Ay,\\nAnd that bare vowel I shall poison more\\nThan the death-darting eye of cockatrice.\\nI am not I if there be such an I;\\nOr those eyes shut that make thee answer Ay.\\nIf he be slain, say Ay; or if not, No.\\nBrief sounds determine of my weal or woe.\\n\\nNURSE.\\nI saw the wound, I saw it with mine eyes,\\nGod save the mark!—here on his manly breast.\\nA piteous corse, a bloody piteous corse;\\nPale, pale as ashes, all bedaub’d in blood,\\nAll in gore-blood. I swounded at the sight.\\n\\nJULIET.\\nO, break, my heart. Poor bankrout, break at once.\\nTo prison, eyes; ne’er look on liberty.\\nVile earth to earth resign; end motion here,\\nAnd thou and Romeo press one heavy bier.\\n\\nNURSE.\\nO Tybalt, Tybalt, the best friend I had.\\nO courteous Tybalt, honest gentleman!\\nThat ever I should live to see thee dead.\\n\\nJULIET.\\nWhat storm is this that blows so contrary?\\nIs Romeo slaughter’d and is Tybalt dead?\\nMy dearest cousin, and my dearer lord?\\nThen dreadful trumpet sound the general doom,\\nFor who is living, if those two are gone?\\n\\nNURSE.\\nTybalt is gone, and Romeo banished,\\nRomeo that kill’d him, he is banished.\\n\\nJULIET.\\nO God! Did Romeo’s hand shed Tybalt’s blood?\\n\\nNURSE.\\nIt did, it did; alas the day, it did.\\n\\nJULIET.\\nO serpent heart, hid with a flowering face!\\nDid ever dragon keep so fair a cave?\\nBeautiful tyrant, fiend angelical,\\nDove-feather’d raven, wolvish-ravening lamb!\\nDespised substance of divinest show!\\nJust opposite to what thou justly seem’st,\\nA damned saint, an honourable villain!\\nO nature, what hadst thou to do in hell\\nWhen thou didst bower the spirit of a fiend\\nIn mortal paradise of such sweet flesh?\\nWas ever book containing such vile matter\\nSo fairly bound? O, that deceit should dwell\\nIn such a gorgeous palace.\\n\\nNURSE.\\nThere’s no trust,\\nNo faith, no honesty in men. All perjur’d,\\nAll forsworn, all naught, all dissemblers.\\nAh, where’s my man? Give me some aqua vitae.\\nThese griefs, these woes, these sorrows make me old.\\nShame come to Romeo.\\n\\nJULIET.\\nBlister’d be thy tongue\\nFor such a wish! He was not born to shame.\\nUpon his brow shame is asham’d to sit;\\nFor ’tis a throne where honour may be crown’d\\nSole monarch of the universal earth.\\nO, what a beast was I to chide at him!\\n\\nNURSE.\\nWill you speak well of him that kill’d your cousin?\\n\\nJULIET.\\nShall I speak ill of him that is my husband?\\nAh, poor my lord, what tongue shall smooth thy name,\\nWhen I thy three-hours’ wife have mangled it?\\nBut wherefore, villain, didst thou kill my cousin?\\nThat villain cousin would have kill’d my husband.\\nBack, foolish tears, back to your native spring,\\nYour tributary drops belong to woe,\\nWhich you mistaking offer up to joy.\\nMy husband lives, that Tybalt would have slain,\\nAnd Tybalt’s dead, that would have slain my husband.\\nAll this is comfort; wherefore weep I then?\\nSome word there was, worser than Tybalt’s death,\\nThat murder’d me. I would forget it fain,\\nBut O, it presses to my memory\\nLike damned guilty deeds to sinners’ minds.\\nTybalt is dead, and Romeo banished.\\nThat ‘banished,’ that one word ‘banished,’\\nHath slain ten thousand Tybalts. Tybalt’s death\\nWas woe enough, if it had ended there.\\nOr if sour woe delights in fellowship,\\nAnd needly will be rank’d with other griefs,\\nWhy follow’d not, when she said Tybalt’s dead,\\nThy father or thy mother, nay or both,\\nWhich modern lamentation might have mov’d?\\nBut with a rear-ward following Tybalt’s death,\\n‘Romeo is banished’—to speak that word\\nIs father, mother, Tybalt, Romeo, Juliet,\\nAll slain, all dead. Romeo is banished,\\nThere is no end, no limit, measure, bound,\\nIn that word’s death, no words can that woe sound.\\nWhere is my father and my mother, Nurse?\\n\\nNURSE.\\nWeeping and wailing over Tybalt’s corse.\\nWill you go to them? I will bring you thither.\\n\\nJULIET.\\nWash they his wounds with tears. Mine shall be spent,\\nWhen theirs are dry, for Romeo’s banishment.\\nTake up those cords. Poor ropes, you are beguil’d,\\nBoth you and I; for Romeo is exil’d.\\nHe made you for a highway to my bed,\\nBut I, a maid, die maiden-widowed.\\nCome cords, come Nurse, I’ll to my wedding bed,\\nAnd death, not Romeo, take my maidenhead.\\n\\nNURSE.\\nHie to your chamber. I’ll find Romeo\\nTo comfort you. I wot well where he is.\\nHark ye, your Romeo will be here at night.\\nI’ll to him, he is hid at Lawrence’ cell.\\n\\nJULIET.\\nO find him, give this ring to my true knight,\\nAnd bid him come to take his last farewell.\\n\\n [_Exeunt._]\\n\\nSCENE III. Friar Lawrence’s cell.\\n\\n Enter Friar Lawrence.\\n\\nFRIAR LAWRENCE.\\nRomeo, come forth; come forth, thou fearful man.\\nAffliction is enanmour’d of thy parts\\nAnd thou art wedded to calamity.\\n\\n Enter Romeo.\\n\\nROMEO.\\nFather, what news? What is the Prince’s doom?\\nWhat sorrow craves acquaintance at my hand,\\nThat I yet know not?\\n\\nFRIAR LAWRENCE.\\nToo familiar\\nIs my dear son with such sour company.\\nI bring thee tidings of the Prince’s doom.\\n\\nROMEO.\\nWhat less than doomsday is the Prince’s doom?\\n\\nFRIAR LAWRENCE.\\nA gentler judgment vanish’d from his lips,\\nNot body’s death, but body’s banishment.\\n\\nROMEO.\\nHa, banishment? Be merciful, say death;\\nFor exile hath more terror in his look,\\nMuch more than death. Do not say banishment.\\n\\nFRIAR LAWRENCE.\\nHence from Verona art thou banished.\\nBe patient, for the world is broad and wide.\\n\\nROMEO.\\nThere is no world without Verona walls,\\nBut purgatory, torture, hell itself.\\nHence banished is banish’d from the world,\\nAnd world’s exile is death. Then banished\\nIs death misterm’d. Calling death banished,\\nThou cutt’st my head off with a golden axe,\\nAnd smilest upon the stroke that murders me.\\n\\nFRIAR LAWRENCE.\\nO deadly sin, O rude unthankfulness!\\nThy fault our law calls death, but the kind Prince,\\nTaking thy part, hath brush’d aside the law,\\nAnd turn’d that black word death to banishment.\\nThis is dear mercy, and thou see’st it not.\\n\\nROMEO.\\n’Tis torture, and not mercy. Heaven is here\\nWhere Juliet lives, and every cat and dog,\\nAnd little mouse, every unworthy thing,\\nLive here in heaven and may look on her,\\nBut Romeo may not. More validity,\\nMore honourable state, more courtship lives\\nIn carrion flies than Romeo. They may seize\\nOn the white wonder of dear Juliet’s hand,\\nAnd steal immortal blessing from her lips,\\nWho, even in pure and vestal modesty\\nStill blush, as thinking their own kisses sin.\\nBut Romeo may not, he is banished.\\nThis may flies do, when I from this must fly.\\nThey are free men but I am banished.\\nAnd say’st thou yet that exile is not death?\\nHadst thou no poison mix’d, no sharp-ground knife,\\nNo sudden mean of death, though ne’er so mean,\\nBut banished to kill me? Banished?\\nO Friar, the damned use that word in hell.\\nHowlings attends it. How hast thou the heart,\\nBeing a divine, a ghostly confessor,\\nA sin-absolver, and my friend profess’d,\\nTo mangle me with that word banished?\\n\\nFRIAR LAWRENCE.\\nThou fond mad man, hear me speak a little,\\n\\nROMEO.\\nO, thou wilt speak again of banishment.\\n\\nFRIAR LAWRENCE.\\nI’ll give thee armour to keep off that word,\\nAdversity’s sweet milk, philosophy,\\nTo comfort thee, though thou art banished.\\n\\nROMEO.\\nYet banished? Hang up philosophy.\\nUnless philosophy can make a Juliet,\\nDisplant a town, reverse a Prince’s doom,\\nIt helps not, it prevails not, talk no more.\\n\\nFRIAR LAWRENCE.\\nO, then I see that mad men have no ears.\\n\\nROMEO.\\nHow should they, when that wise men have no eyes?\\n\\nFRIAR LAWRENCE.\\nLet me dispute with thee of thy estate.\\n\\nROMEO.\\nThou canst not speak of that thou dost not feel.\\nWert thou as young as I, Juliet thy love,\\nAn hour but married, Tybalt murdered,\\nDoting like me, and like me banished,\\nThen mightst thou speak, then mightst thou tear thy hair,\\nAnd fall upon the ground as I do now,\\nTaking the measure of an unmade grave.\\n\\n [_Knocking within._]\\n\\nFRIAR LAWRENCE.\\nArise; one knocks. Good Romeo, hide thyself.\\n\\nROMEO.\\nNot I, unless the breath of heartsick groans\\nMist-like infold me from the search of eyes.\\n\\n [_Knocking._]\\n\\nFRIAR LAWRENCE.\\nHark, how they knock!—Who’s there?—Romeo, arise,\\nThou wilt be taken.—Stay awhile.—Stand up.\\n\\n [_Knocking._]\\n\\nRun to my study.—By-and-by.—God’s will,\\nWhat simpleness is this.—I come, I come.\\n\\n [_Knocking._]\\n\\nWho knocks so hard? Whence come you, what’s your will?\\n\\nNURSE.\\n[_Within._] Let me come in, and you shall know my errand.\\nI come from Lady Juliet.\\n\\nFRIAR LAWRENCE.\\nWelcome then.\\n\\n Enter Nurse.\\n\\nNURSE.\\nO holy Friar, O, tell me, holy Friar,\\nWhere is my lady’s lord, where’s Romeo?\\n\\nFRIAR LAWRENCE.\\nThere on the ground, with his own tears made drunk.\\n\\nNURSE.\\nO, he is even in my mistress’ case.\\nJust in her case! O woeful sympathy!\\nPiteous predicament. Even so lies she,\\nBlubbering and weeping, weeping and blubbering.\\nStand up, stand up; stand, and you be a man.\\nFor Juliet’s sake, for her sake, rise and stand.\\nWhy should you fall into so deep an O?\\n\\nROMEO.\\nNurse.\\n\\nNURSE.\\nAh sir, ah sir, death’s the end of all.\\n\\nROMEO.\\nSpakest thou of Juliet? How is it with her?\\nDoth not she think me an old murderer,\\nNow I have stain’d the childhood of our joy\\nWith blood remov’d but little from her own?\\nWhere is she? And how doth she? And what says\\nMy conceal’d lady to our cancell’d love?\\n\\nNURSE.\\nO, she says nothing, sir, but weeps and weeps;\\nAnd now falls on her bed, and then starts up,\\nAnd Tybalt calls, and then on Romeo cries,\\nAnd then down falls again.\\n\\nROMEO.\\nAs if that name,\\nShot from the deadly level of a gun,\\nDid murder her, as that name’s cursed hand\\nMurder’d her kinsman. O, tell me, Friar, tell me,\\nIn what vile part of this anatomy\\nDoth my name lodge? Tell me, that I may sack\\nThe hateful mansion.\\n\\n [_Drawing his sword._]\\n\\nFRIAR LAWRENCE.\\nHold thy desperate hand.\\nArt thou a man? Thy form cries out thou art.\\nThy tears are womanish, thy wild acts denote\\nThe unreasonable fury of a beast.\\nUnseemly woman in a seeming man,\\nAnd ill-beseeming beast in seeming both!\\nThou hast amaz’d me. By my holy order,\\nI thought thy disposition better temper’d.\\nHast thou slain Tybalt? Wilt thou slay thyself?\\nAnd slay thy lady, that in thy life lives,\\nBy doing damned hate upon thyself?\\nWhy rail’st thou on thy birth, the heaven and earth?\\nSince birth, and heaven and earth, all three do meet\\nIn thee at once; which thou at once wouldst lose.\\nFie, fie, thou sham’st thy shape, thy love, thy wit,\\nWhich, like a usurer, abound’st in all,\\nAnd usest none in that true use indeed\\nWhich should bedeck thy shape, thy love, thy wit.\\nThy noble shape is but a form of wax,\\nDigressing from the valour of a man;\\nThy dear love sworn but hollow perjury,\\nKilling that love which thou hast vow’d to cherish;\\nThy wit, that ornament to shape and love,\\nMisshapen in the conduct of them both,\\nLike powder in a skilless soldier’s flask,\\nIs set afire by thine own ignorance,\\nAnd thou dismember’d with thine own defence.\\nWhat, rouse thee, man. Thy Juliet is alive,\\nFor whose dear sake thou wast but lately dead.\\nThere art thou happy. Tybalt would kill thee,\\nBut thou slew’st Tybalt; there art thou happy.\\nThe law that threaten’d death becomes thy friend,\\nAnd turns it to exile; there art thou happy.\\nA pack of blessings light upon thy back;\\nHappiness courts thee in her best array;\\nBut like a misshaped and sullen wench,\\nThou putt’st up thy Fortune and thy love.\\nTake heed, take heed, for such die miserable.\\nGo, get thee to thy love as was decreed,\\nAscend her chamber, hence and comfort her.\\nBut look thou stay not till the watch be set,\\nFor then thou canst not pass to Mantua;\\nWhere thou shalt live till we can find a time\\nTo blaze your marriage, reconcile your friends,\\nBeg pardon of the Prince, and call thee back\\nWith twenty hundred thousand times more joy\\nThan thou went’st forth in lamentation.\\nGo before, Nurse. Commend me to thy lady,\\nAnd bid her hasten all the house to bed,\\nWhich heavy sorrow makes them apt unto.\\nRomeo is coming.\\n\\nNURSE.\\nO Lord, I could have stay’d here all the night\\nTo hear good counsel. O, what learning is!\\nMy lord, I’ll tell my lady you will come.\\n\\nROMEO.\\nDo so, and bid my sweet prepare to chide.\\n\\nNURSE.\\nHere sir, a ring she bid me give you, sir.\\nHie you, make haste, for it grows very late.\\n\\n [_Exit._]\\n\\nROMEO.\\nHow well my comfort is reviv’d by this.\\n\\nFRIAR LAWRENCE.\\nGo hence, good night, and here stands all your state:\\nEither be gone before the watch be set,\\nOr by the break of day disguis’d from hence.\\nSojourn in Mantua. I’ll find out your man,\\nAnd he shall signify from time to time\\nEvery good hap to you that chances here.\\nGive me thy hand; ’tis late; farewell; good night.\\n\\nROMEO.\\nBut that a joy past joy calls out on me,\\nIt were a grief so brief to part with thee.\\nFarewell.\\n\\n [_Exeunt._]\\n\\nSCENE IV. A Room in Capulet’s House.\\n\\n Enter Capulet, Lady Capulet and Paris.\\n\\nCAPULET.\\nThings have fallen out, sir, so unluckily\\nThat we have had no time to move our daughter.\\nLook you, she lov’d her kinsman Tybalt dearly,\\nAnd so did I. Well, we were born to die.\\n’Tis very late; she’ll not come down tonight.\\nI promise you, but for your company,\\nI would have been abed an hour ago.\\n\\nPARIS.\\nThese times of woe afford no tune to woo.\\nMadam, good night. Commend me to your daughter.\\n\\nLADY CAPULET.\\nI will, and know her mind early tomorrow;\\nTonight she’s mew’d up to her heaviness.\\n\\nCAPULET.\\nSir Paris, I will make a desperate tender\\nOf my child’s love. I think she will be rul’d\\nIn all respects by me; nay more, I doubt it not.\\nWife, go you to her ere you go to bed,\\nAcquaint her here of my son Paris’ love,\\nAnd bid her, mark you me, on Wednesday next,\\nBut, soft, what day is this?\\n\\nPARIS.\\nMonday, my lord.\\n\\nCAPULET.\\nMonday! Ha, ha! Well, Wednesday is too soon,\\nA Thursday let it be; a Thursday, tell her,\\nShe shall be married to this noble earl.\\nWill you be ready? Do you like this haste?\\nWe’ll keep no great ado,—a friend or two,\\nFor, hark you, Tybalt being slain so late,\\nIt may be thought we held him carelessly,\\nBeing our kinsman, if we revel much.\\nTherefore we’ll have some half a dozen friends,\\nAnd there an end. But what say you to Thursday?\\n\\nPARIS.\\nMy lord, I would that Thursday were tomorrow.\\n\\nCAPULET.\\nWell, get you gone. A Thursday be it then.\\nGo you to Juliet ere you go to bed,\\nPrepare her, wife, against this wedding day.\\nFarewell, my lord.—Light to my chamber, ho!\\nAfore me, it is so very very late that we\\nMay call it early by and by. Good night.\\n\\n [_Exeunt._]\\n\\nSCENE V. An open Gallery to Juliet’s Chamber, overlooking the Garden.\\n\\n Enter Romeo and Juliet.\\n\\nJULIET.\\nWilt thou be gone? It is not yet near day.\\nIt was the nightingale, and not the lark,\\nThat pierc’d the fearful hollow of thine ear;\\nNightly she sings on yond pomegranate tree.\\nBelieve me, love, it was the nightingale.\\n\\nROMEO.\\nIt was the lark, the herald of the morn,\\nNo nightingale. Look, love, what envious streaks\\nDo lace the severing clouds in yonder east.\\nNight’s candles are burnt out, and jocund day\\nStands tiptoe on the misty mountain tops.\\nI must be gone and live, or stay and die.\\n\\nJULIET.\\nYond light is not daylight, I know it, I.\\nIt is some meteor that the sun exhales\\nTo be to thee this night a torchbearer\\nAnd light thee on thy way to Mantua.\\nTherefore stay yet, thou need’st not to be gone.\\n\\nROMEO.\\nLet me be ta’en, let me be put to death,\\nI am content, so thou wilt have it so.\\nI’ll say yon grey is not the morning’s eye,\\n’Tis but the pale reflex of Cynthia’s brow.\\nNor that is not the lark whose notes do beat\\nThe vaulty heaven so high above our heads.\\nI have more care to stay than will to go.\\nCome, death, and welcome. Juliet wills it so.\\nHow is’t, my soul? Let’s talk. It is not day.\\n\\nJULIET.\\nIt is, it is! Hie hence, be gone, away.\\nIt is the lark that sings so out of tune,\\nStraining harsh discords and unpleasing sharps.\\nSome say the lark makes sweet division;\\nThis doth not so, for she divideth us.\\nSome say the lark and loathed toad change eyes.\\nO, now I would they had chang’d voices too,\\nSince arm from arm that voice doth us affray,\\nHunting thee hence with hunt’s-up to the day.\\nO now be gone, more light and light it grows.\\n\\nROMEO.\\nMore light and light, more dark and dark our woes.\\n\\n Enter Nurse.\\n\\nNURSE.\\nMadam.\\n\\nJULIET.\\nNurse?\\n\\nNURSE.\\nYour lady mother is coming to your chamber.\\nThe day is broke, be wary, look about.\\n\\n [_Exit._]\\n\\nJULIET.\\nThen, window, let day in, and let life out.\\n\\nROMEO.\\nFarewell, farewell, one kiss, and I’ll descend.\\n\\n [_Descends._]\\n\\nJULIET.\\nArt thou gone so? Love, lord, ay husband, friend,\\nI must hear from thee every day in the hour,\\nFor in a minute there are many days.\\nO, by this count I shall be much in years\\nEre I again behold my Romeo.\\n\\nROMEO.\\nFarewell!\\nI will omit no opportunity\\nThat may convey my greetings, love, to thee.\\n\\nJULIET.\\nO thinkest thou we shall ever meet again?\\n\\nROMEO.\\nI doubt it not, and all these woes shall serve\\nFor sweet discourses in our time to come.\\n\\nJULIET.\\nO God! I have an ill-divining soul!\\nMethinks I see thee, now thou art so low,\\nAs one dead in the bottom of a tomb.\\nEither my eyesight fails, or thou look’st pale.\\n\\nROMEO.\\nAnd trust me, love, in my eye so do you.\\nDry sorrow drinks our blood. Adieu, adieu.\\n\\n [_Exit below._]\\n\\nJULIET.\\nO Fortune, Fortune! All men call thee fickle,\\nIf thou art fickle, what dost thou with him\\nThat is renown’d for faith? Be fickle, Fortune;\\nFor then, I hope thou wilt not keep him long\\nBut send him back.\\n\\nLADY CAPULET.\\n[_Within._] Ho, daughter, are you up?\\n\\nJULIET.\\nWho is’t that calls? Is it my lady mother?\\nIs she not down so late, or up so early?\\nWhat unaccustom’d cause procures her hither?\\n\\n Enter Lady Capulet.\\n\\nLADY CAPULET.\\nWhy, how now, Juliet?\\n\\nJULIET.\\nMadam, I am not well.\\n\\nLADY CAPULET.\\nEvermore weeping for your cousin’s death?\\nWhat, wilt thou wash him from his grave with tears?\\nAnd if thou couldst, thou couldst not make him live.\\nTherefore have done: some grief shows much of love,\\nBut much of grief shows still some want of wit.\\n\\nJULIET.\\nYet let me weep for such a feeling loss.\\n\\nLADY CAPULET.\\nSo shall you feel the loss, but not the friend\\nWhich you weep for.\\n\\nJULIET.\\nFeeling so the loss,\\nI cannot choose but ever weep the friend.\\n\\nLADY CAPULET.\\nWell, girl, thou weep’st not so much for his death\\nAs that the villain lives which slaughter’d him.\\n\\nJULIET.\\nWhat villain, madam?\\n\\nLADY CAPULET.\\nThat same villain Romeo.\\n\\nJULIET.\\nVillain and he be many miles asunder.\\nGod pardon him. I do, with all my heart.\\nAnd yet no man like he doth grieve my heart.\\n\\nLADY CAPULET.\\nThat is because the traitor murderer lives.\\n\\nJULIET.\\nAy madam, from the reach of these my hands.\\nWould none but I might venge my cousin’s death.\\n\\nLADY CAPULET.\\nWe will have vengeance for it, fear thou not.\\nThen weep no more. I’ll send to one in Mantua,\\nWhere that same banish’d runagate doth live,\\nShall give him such an unaccustom’d dram\\nThat he shall soon keep Tybalt company:\\nAnd then I hope thou wilt be satisfied.\\n\\nJULIET.\\nIndeed I never shall be satisfied\\nWith Romeo till I behold him—dead—\\nIs my poor heart so for a kinsman vex’d.\\nMadam, if you could find out but a man\\nTo bear a poison, I would temper it,\\nThat Romeo should upon receipt thereof,\\nSoon sleep in quiet. O, how my heart abhors\\nTo hear him nam’d, and cannot come to him,\\nTo wreak the love I bore my cousin\\nUpon his body that hath slaughter’d him.\\n\\nLADY CAPULET.\\nFind thou the means, and I’ll find such a man.\\nBut now I’ll tell thee joyful tidings, girl.\\n\\nJULIET.\\nAnd joy comes well in such a needy time.\\nWhat are they, I beseech your ladyship?\\n\\nLADY CAPULET.\\nWell, well, thou hast a careful father, child;\\nOne who to put thee from thy heaviness,\\nHath sorted out a sudden day of joy,\\nThat thou expects not, nor I look’d not for.\\n\\nJULIET.\\nMadam, in happy time, what day is that?\\n\\nLADY CAPULET.\\nMarry, my child, early next Thursday morn\\nThe gallant, young, and noble gentleman,\\nThe County Paris, at Saint Peter’s Church,\\nShall happily make thee there a joyful bride.\\n\\nJULIET.\\nNow by Saint Peter’s Church, and Peter too,\\nHe shall not make me there a joyful bride.\\nI wonder at this haste, that I must wed\\nEre he that should be husband comes to woo.\\nI pray you tell my lord and father, madam,\\nI will not marry yet; and when I do, I swear\\nIt shall be Romeo, whom you know I hate,\\nRather than Paris. These are news indeed.\\n\\nLADY CAPULET.\\nHere comes your father, tell him so yourself,\\nAnd see how he will take it at your hands.\\n\\n Enter Capulet and Nurse.\\n\\nCAPULET.\\nWhen the sun sets, the air doth drizzle dew;\\nBut for the sunset of my brother’s son\\nIt rains downright.\\nHow now? A conduit, girl? What, still in tears?\\nEvermore showering? In one little body\\nThou counterfeits a bark, a sea, a wind.\\nFor still thy eyes, which I may call the sea,\\nDo ebb and flow with tears; the bark thy body is,\\nSailing in this salt flood, the winds, thy sighs,\\nWho raging with thy tears and they with them,\\nWithout a sudden calm will overset\\nThy tempest-tossed body. How now, wife?\\nHave you deliver’d to her our decree?\\n\\nLADY CAPULET.\\nAy, sir; but she will none, she gives you thanks.\\nI would the fool were married to her grave.\\n\\nCAPULET.\\nSoft. Take me with you, take me with you, wife.\\nHow, will she none? Doth she not give us thanks?\\nIs she not proud? Doth she not count her blest,\\nUnworthy as she is, that we have wrought\\nSo worthy a gentleman to be her bridegroom?\\n\\nJULIET.\\nNot proud you have, but thankful that you have.\\nProud can I never be of what I hate;\\nBut thankful even for hate that is meant love.\\n\\nCAPULET.\\nHow now, how now, chopp’d logic? What is this?\\nProud, and, I thank you, and I thank you not;\\nAnd yet not proud. Mistress minion you,\\nThank me no thankings, nor proud me no prouds,\\nBut fettle your fine joints ’gainst Thursday next\\nTo go with Paris to Saint Peter’s Church,\\nOr I will drag thee on a hurdle thither.\\nOut, you green-sickness carrion! Out, you baggage!\\nYou tallow-face!\\n\\nLADY CAPULET.\\nFie, fie! What, are you mad?\\n\\nJULIET.\\nGood father, I beseech you on my knees,\\nHear me with patience but to speak a word.\\n\\nCAPULET.\\nHang thee young baggage, disobedient wretch!\\nI tell thee what,—get thee to church a Thursday,\\nOr never after look me in the face.\\nSpeak not, reply not, do not answer me.\\nMy fingers itch. Wife, we scarce thought us blest\\nThat God had lent us but this only child;\\nBut now I see this one is one too much,\\nAnd that we have a curse in having her.\\nOut on her, hilding.\\n\\nNURSE.\\nGod in heaven bless her.\\nYou are to blame, my lord, to rate her so.\\n\\nCAPULET.\\nAnd why, my lady wisdom? Hold your tongue,\\nGood prudence; smatter with your gossips, go.\\n\\nNURSE.\\nI speak no treason.\\n\\nCAPULET.\\nO God ye good-en!\\n\\nNURSE.\\nMay not one speak?\\n\\nCAPULET.\\nPeace, you mumbling fool!\\nUtter your gravity o’er a gossip’s bowl,\\nFor here we need it not.\\n\\nLADY CAPULET.\\nYou are too hot.\\n\\nCAPULET.\\nGod’s bread, it makes me mad!\\nDay, night, hour, ride, time, work, play,\\nAlone, in company, still my care hath been\\nTo have her match’d, and having now provided\\nA gentleman of noble parentage,\\nOf fair demesnes, youthful, and nobly allied,\\nStuff’d, as they say, with honourable parts,\\nProportion’d as one’s thought would wish a man,\\nAnd then to have a wretched puling fool,\\nA whining mammet, in her fortune’s tender,\\nTo answer, ‘I’ll not wed, I cannot love,\\nI am too young, I pray you pardon me.’\\nBut, and you will not wed, I’ll pardon you.\\nGraze where you will, you shall not house with me.\\nLook to’t, think on’t, I do not use to jest.\\nThursday is near; lay hand on heart, advise.\\nAnd you be mine, I’ll give you to my friend;\\nAnd you be not, hang, beg, starve, die in the streets,\\nFor by my soul, I’ll ne’er acknowledge thee,\\nNor what is mine shall never do thee good.\\nTrust to’t, bethink you, I’ll not be forsworn.\\n\\n [_Exit._]\\n\\nJULIET.\\nIs there no pity sitting in the clouds,\\nThat sees into the bottom of my grief?\\nO sweet my mother, cast me not away,\\nDelay this marriage for a month, a week,\\nOr, if you do not, make the bridal bed\\nIn that dim monument where Tybalt lies.\\n\\nLADY CAPULET.\\nTalk not to me, for I’ll not speak a word.\\nDo as thou wilt, for I have done with thee.\\n\\n [_Exit._]\\n\\nJULIET.\\nO God! O Nurse, how shall this be prevented?\\nMy husband is on earth, my faith in heaven.\\nHow shall that faith return again to earth,\\nUnless that husband send it me from heaven\\nBy leaving earth? Comfort me, counsel me.\\nAlack, alack, that heaven should practise stratagems\\nUpon so soft a subject as myself.\\nWhat say’st thou? Hast thou not a word of joy?\\nSome comfort, Nurse.\\n\\nNURSE.\\nFaith, here it is.\\nRomeo is banished; and all the world to nothing\\nThat he dares ne’er come back to challenge you.\\nOr if he do, it needs must be by stealth.\\nThen, since the case so stands as now it doth,\\nI think it best you married with the County.\\nO, he’s a lovely gentleman.\\nRomeo’s a dishclout to him. An eagle, madam,\\nHath not so green, so quick, so fair an eye\\nAs Paris hath. Beshrew my very heart,\\nI think you are happy in this second match,\\nFor it excels your first: or if it did not,\\nYour first is dead, or ’twere as good he were,\\nAs living here and you no use of him.\\n\\nJULIET.\\nSpeakest thou from thy heart?\\n\\nNURSE.\\nAnd from my soul too,\\nOr else beshrew them both.\\n\\nJULIET.\\nAmen.\\n\\nNURSE.\\nWhat?\\n\\nJULIET.\\nWell, thou hast comforted me marvellous much.\\nGo in, and tell my lady I am gone,\\nHaving displeas’d my father, to Lawrence’ cell,\\nTo make confession and to be absolv’d.\\n\\nNURSE.\\nMarry, I will; and this is wisely done.\\n\\n [_Exit._]\\n\\nJULIET.\\nAncient damnation! O most wicked fiend!\\nIs it more sin to wish me thus forsworn,\\nOr to dispraise my lord with that same tongue\\nWhich she hath prais’d him with above compare\\nSo many thousand times? Go, counsellor.\\nThou and my bosom henceforth shall be twain.\\nI’ll to the Friar to know his remedy.\\nIf all else fail, myself have power to die.\\n\\n [_Exit._]\\n\\n\\n\\nACT IV\\n\\nSCENE I. Friar Lawrence’s Cell.\\n\\n Enter Friar Lawrence and Paris.\\n\\nFRIAR LAWRENCE.\\nOn Thursday, sir? The time is very short.\\n\\nPARIS.\\nMy father Capulet will have it so;\\nAnd I am nothing slow to slack his haste.\\n\\nFRIAR LAWRENCE.\\nYou say you do not know the lady’s mind.\\nUneven is the course; I like it not.\\n\\nPARIS.\\nImmoderately she weeps for Tybalt’s death,\\nAnd therefore have I little talk’d of love;\\nFor Venus smiles not in a house of tears.\\nNow, sir, her father counts it dangerous\\nThat she do give her sorrow so much sway;\\nAnd in his wisdom, hastes our marriage,\\nTo stop the inundation of her tears,\\nWhich, too much minded by herself alone,\\nMay be put from her by society.\\nNow do you know the reason of this haste.\\n\\nFRIAR LAWRENCE.\\n[_Aside._] I would I knew not why it should be slow’d.—\\nLook, sir, here comes the lady toward my cell.\\n\\n Enter Juliet.\\n\\nPARIS.\\nHappily met, my lady and my wife!\\n\\nJULIET.\\nThat may be, sir, when I may be a wife.\\n\\nPARIS.\\nThat may be, must be, love, on Thursday next.\\n\\nJULIET.\\nWhat must be shall be.\\n\\nFRIAR LAWRENCE.\\nThat’s a certain text.\\n\\nPARIS.\\nCome you to make confession to this father?\\n\\nJULIET.\\nTo answer that, I should confess to you.\\n\\nPARIS.\\nDo not deny to him that you love me.\\n\\nJULIET.\\nI will confess to you that I love him.\\n\\nPARIS.\\nSo will ye, I am sure, that you love me.\\n\\nJULIET.\\nIf I do so, it will be of more price,\\nBeing spoke behind your back than to your face.\\n\\nPARIS.\\nPoor soul, thy face is much abus’d with tears.\\n\\nJULIET.\\nThe tears have got small victory by that;\\nFor it was bad enough before their spite.\\n\\nPARIS.\\nThou wrong’st it more than tears with that report.\\n\\nJULIET.\\nThat is no slander, sir, which is a truth,\\nAnd what I spake, I spake it to my face.\\n\\nPARIS.\\nThy face is mine, and thou hast slander’d it.\\n\\nJULIET.\\nIt may be so, for it is not mine own.\\nAre you at leisure, holy father, now,\\nOr shall I come to you at evening mass?\\n\\nFRIAR LAWRENCE.\\nMy leisure serves me, pensive daughter, now.—\\nMy lord, we must entreat the time alone.\\n\\nPARIS.\\nGod shield I should disturb devotion!—\\nJuliet, on Thursday early will I rouse ye,\\nTill then, adieu; and keep this holy kiss.\\n\\n [_Exit._]\\n\\nJULIET.\\nO shut the door, and when thou hast done so,\\nCome weep with me, past hope, past cure, past help!\\n\\nFRIAR LAWRENCE.\\nO Juliet, I already know thy grief;\\nIt strains me past the compass of my wits.\\nI hear thou must, and nothing may prorogue it,\\nOn Thursday next be married to this County.\\n\\nJULIET.\\nTell me not, Friar, that thou hear’st of this,\\nUnless thou tell me how I may prevent it.\\nIf in thy wisdom, thou canst give no help,\\nDo thou but call my resolution wise,\\nAnd with this knife I’ll help it presently.\\nGod join’d my heart and Romeo’s, thou our hands;\\nAnd ere this hand, by thee to Romeo’s seal’d,\\nShall be the label to another deed,\\nOr my true heart with treacherous revolt\\nTurn to another, this shall slay them both.\\nTherefore, out of thy long-experienc’d time,\\nGive me some present counsel, or behold\\n’Twixt my extremes and me this bloody knife\\nShall play the empire, arbitrating that\\nWhich the commission of thy years and art\\nCould to no issue of true honour bring.\\nBe not so long to speak. I long to die,\\nIf what thou speak’st speak not of remedy.\\n\\nFRIAR LAWRENCE.\\nHold, daughter. I do spy a kind of hope,\\nWhich craves as desperate an execution\\nAs that is desperate which we would prevent.\\nIf, rather than to marry County Paris\\nThou hast the strength of will to slay thyself,\\nThen is it likely thou wilt undertake\\nA thing like death to chide away this shame,\\nThat cop’st with death himself to scape from it.\\nAnd if thou dar’st, I’ll give thee remedy.\\n\\nJULIET.\\nO, bid me leap, rather than marry Paris,\\nFrom off the battlements of yonder tower,\\nOr walk in thievish ways, or bid me lurk\\nWhere serpents are. Chain me with roaring bears;\\nOr hide me nightly in a charnel-house,\\nO’er-cover’d quite with dead men’s rattling bones,\\nWith reeky shanks and yellow chapless skulls.\\nOr bid me go into a new-made grave,\\nAnd hide me with a dead man in his shroud;\\nThings that, to hear them told, have made me tremble,\\nAnd I will do it without fear or doubt,\\nTo live an unstain’d wife to my sweet love.\\n\\nFRIAR LAWRENCE.\\nHold then. Go home, be merry, give consent\\nTo marry Paris. Wednesday is tomorrow;\\nTomorrow night look that thou lie alone,\\nLet not thy Nurse lie with thee in thy chamber.\\nTake thou this vial, being then in bed,\\nAnd this distilled liquor drink thou off,\\nWhen presently through all thy veins shall run\\nA cold and drowsy humour; for no pulse\\nShall keep his native progress, but surcease.\\nNo warmth, no breath shall testify thou livest,\\nThe roses in thy lips and cheeks shall fade\\nTo paly ashes; thy eyes’ windows fall,\\nLike death when he shuts up the day of life.\\nEach part depriv’d of supple government,\\nShall stiff and stark and cold appear like death.\\nAnd in this borrow’d likeness of shrunk death\\nThou shalt continue two and forty hours,\\nAnd then awake as from a pleasant sleep.\\nNow when the bridegroom in the morning comes\\nTo rouse thee from thy bed, there art thou dead.\\nThen as the manner of our country is,\\nIn thy best robes, uncover’d, on the bier,\\nThou shalt be borne to that same ancient vault\\nWhere all the kindred of the Capulets lie.\\nIn the meantime, against thou shalt awake,\\nShall Romeo by my letters know our drift,\\nAnd hither shall he come, and he and I\\nWill watch thy waking, and that very night\\nShall Romeo bear thee hence to Mantua.\\nAnd this shall free thee from this present shame,\\nIf no inconstant toy nor womanish fear\\nAbate thy valour in the acting it.\\n\\nJULIET.\\nGive me, give me! O tell not me of fear!\\n\\nFRIAR LAWRENCE.\\nHold; get you gone, be strong and prosperous\\nIn this resolve. I’ll send a friar with speed\\nTo Mantua, with my letters to thy lord.\\n\\nJULIET.\\nLove give me strength, and strength shall help afford.\\nFarewell, dear father.\\n\\n [_Exeunt._]\\n\\nSCENE II. Hall in Capulet’s House.\\n\\n Enter Capulet, Lady Capulet, Nurse and Servants.\\n\\nCAPULET.\\nSo many guests invite as here are writ.\\n\\n [_Exit first Servant._]\\n\\nSirrah, go hire me twenty cunning cooks.\\n\\nSECOND SERVANT.\\nYou shall have none ill, sir; for I’ll try if they can lick their\\nfingers.\\n\\nCAPULET.\\nHow canst thou try them so?\\n\\nSECOND SERVANT.\\nMarry, sir, ’tis an ill cook that cannot lick his own fingers;\\ntherefore he that cannot lick his fingers goes not with me.\\n\\nCAPULET.\\nGo, begone.\\n\\n [_Exit second Servant._]\\n\\nWe shall be much unfurnish’d for this time.\\nWhat, is my daughter gone to Friar Lawrence?\\n\\nNURSE.\\nAy, forsooth.\\n\\nCAPULET.\\nWell, he may chance to do some good on her.\\nA peevish self-will’d harlotry it is.\\n\\n Enter Juliet.\\n\\nNURSE.\\nSee where she comes from shrift with merry look.\\n\\nCAPULET.\\nHow now, my headstrong. Where have you been gadding?\\n\\nJULIET.\\nWhere I have learnt me to repent the sin\\nOf disobedient opposition\\nTo you and your behests; and am enjoin’d\\nBy holy Lawrence to fall prostrate here,\\nTo beg your pardon. Pardon, I beseech you.\\nHenceforward I am ever rul’d by you.\\n\\nCAPULET.\\nSend for the County, go tell him of this.\\nI’ll have this knot knit up tomorrow morning.\\n\\nJULIET.\\nI met the youthful lord at Lawrence’ cell,\\nAnd gave him what becomed love I might,\\nNot stepping o’er the bounds of modesty.\\n\\nCAPULET.\\nWhy, I am glad on’t. This is well. Stand up.\\nThis is as’t should be. Let me see the County.\\nAy, marry. Go, I say, and fetch him hither.\\nNow afore God, this reverend holy Friar,\\nAll our whole city is much bound to him.\\n\\nJULIET.\\nNurse, will you go with me into my closet,\\nTo help me sort such needful ornaments\\nAs you think fit to furnish me tomorrow?\\n\\nLADY CAPULET.\\nNo, not till Thursday. There is time enough.\\n\\nCAPULET.\\nGo, Nurse, go with her. We’ll to church tomorrow.\\n\\n [_Exeunt Juliet and Nurse._]\\n\\nLADY CAPULET.\\nWe shall be short in our provision,\\n’Tis now near night.\\n\\nCAPULET.\\nTush, I will stir about,\\nAnd all things shall be well, I warrant thee, wife.\\nGo thou to Juliet, help to deck up her.\\nI’ll not to bed tonight, let me alone.\\nI’ll play the housewife for this once.—What, ho!—\\nThey are all forth: well, I will walk myself\\nTo County Paris, to prepare him up\\nAgainst tomorrow. My heart is wondrous light\\nSince this same wayward girl is so reclaim’d.\\n\\n [_Exeunt._]\\n\\nSCENE III. Juliet’s Chamber.\\n\\n Enter Juliet and Nurse.\\n\\nJULIET.\\nAy, those attires are best. But, gentle Nurse,\\nI pray thee leave me to myself tonight;\\nFor I have need of many orisons\\nTo move the heavens to smile upon my state,\\nWhich, well thou know’st, is cross and full of sin.\\n\\n Enter Lady Capulet.\\n\\nLADY CAPULET.\\nWhat, are you busy, ho? Need you my help?\\n\\nJULIET.\\nNo, madam; we have cull’d such necessaries\\nAs are behoveful for our state tomorrow.\\nSo please you, let me now be left alone,\\nAnd let the nurse this night sit up with you,\\nFor I am sure you have your hands full all\\nIn this so sudden business.\\n\\nLADY CAPULET.\\nGood night.\\nGet thee to bed and rest, for thou hast need.\\n\\n [_Exeunt Lady Capulet and Nurse._]\\n\\nJULIET.\\nFarewell. God knows when we shall meet again.\\nI have a faint cold fear thrills through my veins\\nThat almost freezes up the heat of life.\\nI’ll call them back again to comfort me.\\nNurse!—What should she do here?\\nMy dismal scene I needs must act alone.\\nCome, vial.\\nWhat if this mixture do not work at all?\\nShall I be married then tomorrow morning?\\nNo, No! This shall forbid it. Lie thou there.\\n\\n [_Laying down her dagger._]\\n\\nWhat if it be a poison, which the Friar\\nSubtly hath minister’d to have me dead,\\nLest in this marriage he should be dishonour’d,\\nBecause he married me before to Romeo?\\nI fear it is. And yet methinks it should not,\\nFor he hath still been tried a holy man.\\nHow if, when I am laid into the tomb,\\nI wake before the time that Romeo\\nCome to redeem me? There’s a fearful point!\\nShall I not then be stifled in the vault,\\nTo whose foul mouth no healthsome air breathes in,\\nAnd there die strangled ere my Romeo comes?\\nOr, if I live, is it not very like,\\nThe horrible conceit of death and night,\\nTogether with the terror of the place,\\nAs in a vault, an ancient receptacle,\\nWhere for this many hundred years the bones\\nOf all my buried ancestors are pack’d,\\nWhere bloody Tybalt, yet but green in earth,\\nLies festering in his shroud; where, as they say,\\nAt some hours in the night spirits resort—\\nAlack, alack, is it not like that I,\\nSo early waking, what with loathsome smells,\\nAnd shrieks like mandrakes torn out of the earth,\\nThat living mortals, hearing them, run mad.\\nO, if I wake, shall I not be distraught,\\nEnvironed with all these hideous fears,\\nAnd madly play with my forefathers’ joints?\\nAnd pluck the mangled Tybalt from his shroud?\\nAnd, in this rage, with some great kinsman’s bone,\\nAs with a club, dash out my desperate brains?\\nO look, methinks I see my cousin’s ghost\\nSeeking out Romeo that did spit his body\\nUpon a rapier’s point. Stay, Tybalt, stay!\\nRomeo, Romeo, Romeo, here’s drink! I drink to thee.\\n\\n [_Throws herself on the bed._]\\n\\nSCENE IV. Hall in Capulet’s House.\\n\\n Enter Lady Capulet and Nurse.\\n\\nLADY CAPULET.\\nHold, take these keys and fetch more spices, Nurse.\\n\\nNURSE.\\nThey call for dates and quinces in the pastry.\\n\\n Enter Capulet.\\n\\nCAPULET.\\nCome, stir, stir, stir! The second cock hath crow’d,\\nThe curfew bell hath rung, ’tis three o’clock.\\nLook to the bak’d meats, good Angelica;\\nSpare not for cost.\\n\\nNURSE.\\nGo, you cot-quean, go,\\nGet you to bed; faith, you’ll be sick tomorrow\\nFor this night’s watching.\\n\\nCAPULET.\\nNo, not a whit. What! I have watch’d ere now\\nAll night for lesser cause, and ne’er been sick.\\n\\nLADY CAPULET.\\nAy, you have been a mouse-hunt in your time;\\nBut I will watch you from such watching now.\\n\\n [_Exeunt Lady Capulet and Nurse._]\\n\\nCAPULET.\\nA jealous-hood, a jealous-hood!\\n\\n Enter Servants, with spits, logs and baskets.\\n\\nNow, fellow, what’s there?\\n\\nFIRST SERVANT.\\nThings for the cook, sir; but I know not what.\\n\\nCAPULET.\\nMake haste, make haste.\\n\\n [_Exit First Servant._]\\n\\n—Sirrah, fetch drier logs.\\nCall Peter, he will show thee where they are.\\n\\nSECOND SERVANT.\\nI have a head, sir, that will find out logs\\nAnd never trouble Peter for the matter.\\n\\n [_Exit._]\\n\\nCAPULET.\\nMass and well said; a merry whoreson, ha.\\nThou shalt be loggerhead.—Good faith, ’tis day.\\nThe County will be here with music straight,\\nFor so he said he would. I hear him near.\\n\\n [_Play music._]\\n\\nNurse! Wife! What, ho! What, Nurse, I say!\\n\\n Re-enter Nurse.\\n\\nGo waken Juliet, go and trim her up.\\nI’ll go and chat with Paris. Hie, make haste,\\nMake haste; the bridegroom he is come already.\\nMake haste I say.\\n\\n [_Exeunt._]\\n\\nSCENE V. Juliet’s Chamber; Juliet on the bed.\\n\\n Enter Nurse.\\n\\nNURSE.\\nMistress! What, mistress! Juliet! Fast, I warrant her, she.\\nWhy, lamb, why, lady, fie, you slug-abed!\\nWhy, love, I say! Madam! Sweetheart! Why, bride!\\nWhat, not a word? You take your pennyworths now.\\nSleep for a week; for the next night, I warrant,\\nThe County Paris hath set up his rest\\nThat you shall rest but little. God forgive me!\\nMarry and amen. How sound is she asleep!\\nI needs must wake her. Madam, madam, madam!\\nAy, let the County take you in your bed,\\nHe’ll fright you up, i’faith. Will it not be?\\nWhat, dress’d, and in your clothes, and down again?\\nI must needs wake you. Lady! Lady! Lady!\\nAlas, alas! Help, help! My lady’s dead!\\nO, well-a-day that ever I was born.\\nSome aqua vitae, ho! My lord! My lady!\\n\\n Enter Lady Capulet.\\n\\nLADY CAPULET.\\nWhat noise is here?\\n\\nNURSE.\\nO lamentable day!\\n\\nLADY CAPULET.\\nWhat is the matter?\\n\\nNURSE.\\nLook, look! O heavy day!\\n\\nLADY CAPULET.\\nO me, O me! My child, my only life.\\nRevive, look up, or I will die with thee.\\nHelp, help! Call help.\\n\\n Enter Capulet.\\n\\nCAPULET.\\nFor shame, bring Juliet forth, her lord is come.\\n\\nNURSE.\\nShe’s dead, deceas’d, she’s dead; alack the day!\\n\\nLADY CAPULET.\\nAlack the day, she’s dead, she’s dead, she’s dead!\\n\\nCAPULET.\\nHa! Let me see her. Out alas! She’s cold,\\nHer blood is settled and her joints are stiff.\\nLife and these lips have long been separated.\\nDeath lies on her like an untimely frost\\nUpon the sweetest flower of all the field.\\n\\nNURSE.\\nO lamentable day!\\n\\nLADY CAPULET.\\nO woful time!\\n\\nCAPULET.\\nDeath, that hath ta’en her hence to make me wail,\\nTies up my tongue and will not let me speak.\\n\\n Enter Friar Lawrence and Paris with Musicians.\\n\\nFRIAR LAWRENCE.\\nCome, is the bride ready to go to church?\\n\\nCAPULET.\\nReady to go, but never to return.\\nO son, the night before thy wedding day\\nHath death lain with thy bride. There she lies,\\nFlower as she was, deflowered by him.\\nDeath is my son-in-law, death is my heir;\\nMy daughter he hath wedded. I will die.\\nAnd leave him all; life, living, all is death’s.\\n\\nPARIS.\\nHave I thought long to see this morning’s face,\\nAnd doth it give me such a sight as this?\\n\\nLADY CAPULET.\\nAccurs’d, unhappy, wretched, hateful day.\\nMost miserable hour that e’er time saw\\nIn lasting labour of his pilgrimage.\\nBut one, poor one, one poor and loving child,\\nBut one thing to rejoice and solace in,\\nAnd cruel death hath catch’d it from my sight.\\n\\nNURSE.\\nO woe! O woeful, woeful, woeful day.\\nMost lamentable day, most woeful day\\nThat ever, ever, I did yet behold!\\nO day, O day, O day, O hateful day.\\nNever was seen so black a day as this.\\nO woeful day, O woeful day.\\n\\nPARIS.\\nBeguil’d, divorced, wronged, spited, slain.\\nMost detestable death, by thee beguil’d,\\nBy cruel, cruel thee quite overthrown.\\nO love! O life! Not life, but love in death!\\n\\nCAPULET.\\nDespis’d, distressed, hated, martyr’d, kill’d.\\nUncomfortable time, why cam’st thou now\\nTo murder, murder our solemnity?\\nO child! O child! My soul, and not my child,\\nDead art thou. Alack, my child is dead,\\nAnd with my child my joys are buried.\\n\\nFRIAR LAWRENCE.\\nPeace, ho, for shame. Confusion’s cure lives not\\nIn these confusions. Heaven and yourself\\nHad part in this fair maid, now heaven hath all,\\nAnd all the better is it for the maid.\\nYour part in her you could not keep from death,\\nBut heaven keeps his part in eternal life.\\nThe most you sought was her promotion,\\nFor ’twas your heaven she should be advanc’d,\\nAnd weep ye now, seeing she is advanc’d\\nAbove the clouds, as high as heaven itself?\\nO, in this love, you love your child so ill\\nThat you run mad, seeing that she is well.\\nShe’s not well married that lives married long,\\nBut she’s best married that dies married young.\\nDry up your tears, and stick your rosemary\\nOn this fair corse, and, as the custom is,\\nAnd in her best array bear her to church;\\nFor though fond nature bids us all lament,\\nYet nature’s tears are reason’s merriment.\\n\\nCAPULET.\\nAll things that we ordained festival\\nTurn from their office to black funeral:\\nOur instruments to melancholy bells,\\nOur wedding cheer to a sad burial feast;\\nOur solemn hymns to sullen dirges change;\\nOur bridal flowers serve for a buried corse,\\nAnd all things change them to the contrary.\\n\\nFRIAR LAWRENCE.\\nSir, go you in, and, madam, go with him,\\nAnd go, Sir Paris, everyone prepare\\nTo follow this fair corse unto her grave.\\nThe heavens do lower upon you for some ill;\\nMove them no more by crossing their high will.\\n\\n [_Exeunt Capulet, Lady Capulet, Paris and Friar._]\\n\\nFIRST MUSICIAN.\\nFaith, we may put up our pipes and be gone.\\n\\nNURSE.\\nHonest good fellows, ah, put up, put up,\\nFor well you know this is a pitiful case.\\n\\nFIRST MUSICIAN.\\nAy, by my troth, the case may be amended.\\n\\n [_Exit Nurse._]\\n\\n Enter Peter.\\n\\nPETER.\\nMusicians, O, musicians, ‘Heart’s ease,’ ‘Heart’s ease’, O, and you\\nwill have me live, play ‘Heart’s ease.’\\n\\nFIRST MUSICIAN.\\nWhy ‘Heart’s ease’?\\n\\nPETER.\\nO musicians, because my heart itself plays ‘My heart is full’. O play\\nme some merry dump to comfort me.\\n\\nFIRST MUSICIAN.\\nNot a dump we, ’tis no time to play now.\\n\\nPETER.\\nYou will not then?\\n\\nFIRST MUSICIAN.\\nNo.\\n\\nPETER.\\nI will then give it you soundly.\\n\\nFIRST MUSICIAN.\\nWhat will you give us?\\n\\nPETER.\\nNo money, on my faith, but the gleek! I will give you the minstrel.\\n\\nFIRST MUSICIAN.\\nThen will I give you the serving-creature.\\n\\nPETER.\\nThen will I lay the serving-creature’s dagger on your pate. I will\\ncarry no crotchets. I’ll re you, I’ll fa you. Do you note me?\\n\\nFIRST MUSICIAN.\\nAnd you re us and fa us, you note us.\\n\\nSECOND MUSICIAN.\\nPray you put up your dagger, and put out your wit.\\n\\nPETER.\\nThen have at you with my wit. I will dry-beat you with an iron wit, and\\nput up my iron dagger. Answer me like men.\\n    ‘When griping griefs the heart doth wound,\\n      And doleful dumps the mind oppress,\\n    Then music with her silver sound’—\\nWhy ‘silver sound’? Why ‘music with her silver sound’? What say you,\\nSimon Catling?\\n\\nFIRST MUSICIAN.\\nMarry, sir, because silver hath a sweet sound.\\n\\nPETER.\\nPrates. What say you, Hugh Rebeck?\\n\\nSECOND MUSICIAN.\\nI say ‘silver sound’ because musicians sound for silver.\\n\\nPETER.\\nPrates too! What say you, James Soundpost?\\n\\nTHIRD MUSICIAN.\\nFaith, I know not what to say.\\n\\nPETER.\\nO, I cry you mercy, you are the singer. I will say for you. It is\\n‘music with her silver sound’ because musicians have no gold for\\nsounding.\\n      ‘Then music with her silver sound\\n      With speedy help doth lend redress.’\\n\\n [_Exit._]\\n\\nFIRST MUSICIAN.\\nWhat a pestilent knave is this same!\\n\\nSECOND MUSICIAN.\\nHang him, Jack. Come, we’ll in here, tarry for the mourners, and stay\\ndinner.\\n\\n [_Exeunt._]\\n\\n\\n\\nACT V\\n\\nSCENE I. Mantua. A Street.\\n\\n Enter Romeo.\\n\\nROMEO.\\nIf I may trust the flattering eye of sleep,\\nMy dreams presage some joyful news at hand.\\nMy bosom’s lord sits lightly in his throne;\\nAnd all this day an unaccustom’d spirit\\nLifts me above the ground with cheerful thoughts.\\nI dreamt my lady came and found me dead,—\\nStrange dream, that gives a dead man leave to think!—\\nAnd breath’d such life with kisses in my lips,\\nThat I reviv’d, and was an emperor.\\nAh me, how sweet is love itself possess’d,\\nWhen but love’s shadows are so rich in joy.\\n\\n Enter Balthasar.\\n\\nNews from Verona! How now, Balthasar?\\nDost thou not bring me letters from the Friar?\\nHow doth my lady? Is my father well?\\nHow fares my Juliet? That I ask again;\\nFor nothing can be ill if she be well.\\n\\nBALTHASAR.\\nThen she is well, and nothing can be ill.\\nHer body sleeps in Capel’s monument,\\nAnd her immortal part with angels lives.\\nI saw her laid low in her kindred’s vault,\\nAnd presently took post to tell it you.\\nO pardon me for bringing these ill news,\\nSince you did leave it for my office, sir.\\n\\nROMEO.\\nIs it even so? Then I defy you, stars!\\nThou know’st my lodging. Get me ink and paper,\\nAnd hire post-horses. I will hence tonight.\\n\\nBALTHASAR.\\nI do beseech you sir, have patience.\\nYour looks are pale and wild, and do import\\nSome misadventure.\\n\\nROMEO.\\nTush, thou art deceiv’d.\\nLeave me, and do the thing I bid thee do.\\nHast thou no letters to me from the Friar?\\n\\nBALTHASAR.\\nNo, my good lord.\\n\\nROMEO.\\nNo matter. Get thee gone,\\nAnd hire those horses. I’ll be with thee straight.\\n\\n [_Exit Balthasar._]\\n\\nWell, Juliet, I will lie with thee tonight.\\nLet’s see for means. O mischief thou art swift\\nTo enter in the thoughts of desperate men.\\nI do remember an apothecary,—\\nAnd hereabouts he dwells,—which late I noted\\nIn tatter’d weeds, with overwhelming brows,\\nCulling of simples, meagre were his looks,\\nSharp misery had worn him to the bones;\\nAnd in his needy shop a tortoise hung,\\nAn alligator stuff’d, and other skins\\nOf ill-shaped fishes; and about his shelves\\nA beggarly account of empty boxes,\\nGreen earthen pots, bladders, and musty seeds,\\nRemnants of packthread, and old cakes of roses\\nWere thinly scatter’d, to make up a show.\\nNoting this penury, to myself I said,\\nAnd if a man did need a poison now,\\nWhose sale is present death in Mantua,\\nHere lives a caitiff wretch would sell it him.\\nO, this same thought did but forerun my need,\\nAnd this same needy man must sell it me.\\nAs I remember, this should be the house.\\nBeing holiday, the beggar’s shop is shut.\\nWhat, ho! Apothecary!\\n\\n Enter Apothecary.\\n\\nAPOTHECARY.\\nWho calls so loud?\\n\\nROMEO.\\nCome hither, man. I see that thou art poor.\\nHold, there is forty ducats. Let me have\\nA dram of poison, such soon-speeding gear\\nAs will disperse itself through all the veins,\\nThat the life-weary taker may fall dead,\\nAnd that the trunk may be discharg’d of breath\\nAs violently as hasty powder fir’d\\nDoth hurry from the fatal cannon’s womb.\\n\\nAPOTHECARY.\\nSuch mortal drugs I have, but Mantua’s law\\nIs death to any he that utters them.\\n\\nROMEO.\\nArt thou so bare and full of wretchedness,\\nAnd fear’st to die? Famine is in thy cheeks,\\nNeed and oppression starveth in thine eyes,\\nContempt and beggary hangs upon thy back.\\nThe world is not thy friend, nor the world’s law;\\nThe world affords no law to make thee rich;\\nThen be not poor, but break it and take this.\\n\\nAPOTHECARY.\\nMy poverty, but not my will consents.\\n\\nROMEO.\\nI pay thy poverty, and not thy will.\\n\\nAPOTHECARY.\\nPut this in any liquid thing you will\\nAnd drink it off; and, if you had the strength\\nOf twenty men, it would despatch you straight.\\n\\nROMEO.\\nThere is thy gold, worse poison to men’s souls,\\nDoing more murder in this loathsome world\\nThan these poor compounds that thou mayst not sell.\\nI sell thee poison, thou hast sold me none.\\nFarewell, buy food, and get thyself in flesh.\\nCome, cordial and not poison, go with me\\nTo Juliet’s grave, for there must I use thee.\\n\\n [_Exeunt._]\\n\\nSCENE II. Friar Lawrence’s Cell.\\n\\n Enter Friar John.\\n\\nFRIAR JOHN.\\nHoly Franciscan Friar! Brother, ho!\\n\\n Enter Friar Lawrence.\\n\\nFRIAR LAWRENCE.\\nThis same should be the voice of Friar John.\\nWelcome from Mantua. What says Romeo?\\nOr, if his mind be writ, give me his letter.\\n\\nFRIAR JOHN.\\nGoing to find a barefoot brother out,\\nOne of our order, to associate me,\\nHere in this city visiting the sick,\\nAnd finding him, the searchers of the town,\\nSuspecting that we both were in a house\\nWhere the infectious pestilence did reign,\\nSeal’d up the doors, and would not let us forth,\\nSo that my speed to Mantua there was stay’d.\\n\\nFRIAR LAWRENCE.\\nWho bare my letter then to Romeo?\\n\\nFRIAR JOHN.\\nI could not send it,—here it is again,—\\nNor get a messenger to bring it thee,\\nSo fearful were they of infection.\\n\\nFRIAR LAWRENCE.\\nUnhappy fortune! By my brotherhood,\\nThe letter was not nice, but full of charge,\\nOf dear import, and the neglecting it\\nMay do much danger. Friar John, go hence,\\nGet me an iron crow and bring it straight\\nUnto my cell.\\n\\nFRIAR JOHN.\\nBrother, I’ll go and bring it thee.\\n\\n [_Exit._]\\n\\nFRIAR LAWRENCE.\\nNow must I to the monument alone.\\nWithin this three hours will fair Juliet wake.\\nShe will beshrew me much that Romeo\\nHath had no notice of these accidents;\\nBut I will write again to Mantua,\\nAnd keep her at my cell till Romeo come.\\nPoor living corse, clos’d in a dead man’s tomb.\\n\\n [_Exit._]\\n\\nSCENE III. A churchyard; in it a Monument belonging to the Capulets.\\n\\n Enter Paris, and his Page bearing flowers and a torch.\\n\\nPARIS.\\nGive me thy torch, boy. Hence and stand aloof.\\nYet put it out, for I would not be seen.\\nUnder yond yew tree lay thee all along,\\nHolding thy ear close to the hollow ground;\\nSo shall no foot upon the churchyard tread,\\nBeing loose, unfirm, with digging up of graves,\\nBut thou shalt hear it. Whistle then to me,\\nAs signal that thou hear’st something approach.\\nGive me those flowers. Do as I bid thee, go.\\n\\nPAGE.\\n[_Aside._] I am almost afraid to stand alone\\nHere in the churchyard; yet I will adventure.\\n\\n [_Retires._]\\n\\nPARIS.\\nSweet flower, with flowers thy bridal bed I strew.\\nO woe, thy canopy is dust and stones,\\nWhich with sweet water nightly I will dew,\\nOr wanting that, with tears distill’d by moans.\\nThe obsequies that I for thee will keep,\\nNightly shall be to strew thy grave and weep.\\n\\n [_The Page whistles._]\\n\\nThe boy gives warning something doth approach.\\nWhat cursed foot wanders this way tonight,\\nTo cross my obsequies and true love’s rite?\\nWhat, with a torch! Muffle me, night, awhile.\\n\\n [_Retires._]\\n\\n Enter Romeo and Balthasar with a torch, mattock, &c.\\n\\nROMEO.\\nGive me that mattock and the wrenching iron.\\nHold, take this letter; early in the morning\\nSee thou deliver it to my lord and father.\\nGive me the light; upon thy life I charge thee,\\nWhate’er thou hear’st or seest, stand all aloof\\nAnd do not interrupt me in my course.\\nWhy I descend into this bed of death\\nIs partly to behold my lady’s face,\\nBut chiefly to take thence from her dead finger\\nA precious ring, a ring that I must use\\nIn dear employment. Therefore hence, be gone.\\nBut if thou jealous dost return to pry\\nIn what I further shall intend to do,\\nBy heaven I will tear thee joint by joint,\\nAnd strew this hungry churchyard with thy limbs.\\nThe time and my intents are savage-wild;\\nMore fierce and more inexorable far\\nThan empty tigers or the roaring sea.\\n\\nBALTHASAR.\\nI will be gone, sir, and not trouble you.\\n\\nROMEO.\\nSo shalt thou show me friendship. Take thou that.\\nLive, and be prosperous, and farewell, good fellow.\\n\\nBALTHASAR.\\nFor all this same, I’ll hide me hereabout.\\nHis looks I fear, and his intents I doubt.\\n\\n [_Retires_]\\n\\nROMEO.\\nThou detestable maw, thou womb of death,\\nGorg’d with the dearest morsel of the earth,\\nThus I enforce thy rotten jaws to open,\\n\\n [_Breaking open the door of the monument._]\\n\\nAnd in despite, I’ll cram thee with more food.\\n\\nPARIS.\\nThis is that banish’d haughty Montague\\nThat murder’d my love’s cousin,—with which grief,\\nIt is supposed, the fair creature died,—\\nAnd here is come to do some villanous shame\\nTo the dead bodies. I will apprehend him.\\n\\n [_Advances._]\\n\\nStop thy unhallow’d toil, vile Montague.\\nCan vengeance be pursu’d further than death?\\nCondemned villain, I do apprehend thee.\\nObey, and go with me, for thou must die.\\n\\nROMEO.\\nI must indeed; and therefore came I hither.\\nGood gentle youth, tempt not a desperate man.\\nFly hence and leave me. Think upon these gone;\\nLet them affright thee. I beseech thee, youth,\\nPut not another sin upon my head\\nBy urging me to fury. O be gone.\\nBy heaven I love thee better than myself;\\nFor I come hither arm’d against myself.\\nStay not, be gone, live, and hereafter say,\\nA madman’s mercy bid thee run away.\\n\\nPARIS.\\nI do defy thy conjuration,\\nAnd apprehend thee for a felon here.\\n\\nROMEO.\\nWilt thou provoke me? Then have at thee, boy!\\n\\n [_They fight._]\\n\\nPAGE.\\nO lord, they fight! I will go call the watch.\\n\\n [_Exit._]\\n\\nPARIS.\\nO, I am slain! [_Falls._] If thou be merciful,\\nOpen the tomb, lay me with Juliet.\\n\\n [_Dies._]\\n\\nROMEO.\\nIn faith, I will. Let me peruse this face.\\nMercutio’s kinsman, noble County Paris!\\nWhat said my man, when my betossed soul\\nDid not attend him as we rode? I think\\nHe told me Paris should have married Juliet.\\nSaid he not so? Or did I dream it so?\\nOr am I mad, hearing him talk of Juliet,\\nTo think it was so? O, give me thy hand,\\nOne writ with me in sour misfortune’s book.\\nI’ll bury thee in a triumphant grave.\\nA grave? O no, a lantern, slaught’red youth,\\nFor here lies Juliet, and her beauty makes\\nThis vault a feasting presence full of light.\\nDeath, lie thou there, by a dead man interr’d.\\n\\n [_Laying Paris in the monument._]\\n\\nHow oft when men are at the point of death\\nHave they been merry! Which their keepers call\\nA lightning before death. O, how may I\\nCall this a lightning? O my love, my wife,\\nDeath that hath suck’d the honey of thy breath,\\nHath had no power yet upon thy beauty.\\nThou art not conquer’d. Beauty’s ensign yet\\nIs crimson in thy lips and in thy cheeks,\\nAnd death’s pale flag is not advanced there.\\nTybalt, liest thou there in thy bloody sheet?\\nO, what more favour can I do to thee\\nThan with that hand that cut thy youth in twain\\nTo sunder his that was thine enemy?\\nForgive me, cousin. Ah, dear Juliet,\\nWhy art thou yet so fair? Shall I believe\\nThat unsubstantial death is amorous;\\nAnd that the lean abhorred monster keeps\\nThee here in dark to be his paramour?\\nFor fear of that I still will stay with thee,\\nAnd never from this palace of dim night\\nDepart again. Here, here will I remain\\nWith worms that are thy chambermaids. O, here\\nWill I set up my everlasting rest;\\nAnd shake the yoke of inauspicious stars\\nFrom this world-wearied flesh. Eyes, look your last.\\nArms, take your last embrace! And, lips, O you\\nThe doors of breath, seal with a righteous kiss\\nA dateless bargain to engrossing death.\\nCome, bitter conduct, come, unsavoury guide.\\nThou desperate pilot, now at once run on\\nThe dashing rocks thy sea-sick weary bark.\\nHere’s to my love! [_Drinks._] O true apothecary!\\nThy drugs are quick. Thus with a kiss I die.\\n\\n [_Dies._]\\n\\n Enter, at the other end of the Churchyard, Friar Lawrence, with a\\n lantern, crow, and spade.\\n\\nFRIAR LAWRENCE.\\nSaint Francis be my speed. How oft tonight\\nHave my old feet stumbled at graves? Who’s there?\\nWho is it that consorts, so late, the dead?\\n\\nBALTHASAR.\\nHere’s one, a friend, and one that knows you well.\\n\\nFRIAR LAWRENCE.\\nBliss be upon you. Tell me, good my friend,\\nWhat torch is yond that vainly lends his light\\nTo grubs and eyeless skulls? As I discern,\\nIt burneth in the Capels’ monument.\\n\\nBALTHASAR.\\nIt doth so, holy sir, and there’s my master,\\nOne that you love.\\n\\nFRIAR LAWRENCE.\\nWho is it?\\n\\nBALTHASAR.\\nRomeo.\\n\\nFRIAR LAWRENCE.\\nHow long hath he been there?\\n\\nBALTHASAR.\\nFull half an hour.\\n\\nFRIAR LAWRENCE.\\nGo with me to the vault.\\n\\nBALTHASAR.\\nI dare not, sir;\\nMy master knows not but I am gone hence,\\nAnd fearfully did menace me with death\\nIf I did stay to look on his intents.\\n\\nFRIAR LAWRENCE.\\nStay then, I’ll go alone. Fear comes upon me.\\nO, much I fear some ill unlucky thing.\\n\\nBALTHASAR.\\nAs I did sleep under this yew tree here,\\nI dreamt my master and another fought,\\nAnd that my master slew him.\\n\\nFRIAR LAWRENCE.\\nRomeo! [_Advances._]\\nAlack, alack, what blood is this which stains\\nThe stony entrance of this sepulchre?\\nWhat mean these masterless and gory swords\\nTo lie discolour’d by this place of peace?\\n\\n [_Enters the monument._]\\n\\nRomeo! O, pale! Who else? What, Paris too?\\nAnd steep’d in blood? Ah what an unkind hour\\nIs guilty of this lamentable chance?\\nThe lady stirs.\\n\\n [_Juliet wakes and stirs._]\\n\\nJULIET.\\nO comfortable Friar, where is my lord?\\nI do remember well where I should be,\\nAnd there I am. Where is my Romeo?\\n\\n [_Noise within._]\\n\\nFRIAR LAWRENCE.\\nI hear some noise. Lady, come from that nest\\nOf death, contagion, and unnatural sleep.\\nA greater power than we can contradict\\nHath thwarted our intents. Come, come away.\\nThy husband in thy bosom there lies dead;\\nAnd Paris too. Come, I’ll dispose of thee\\nAmong a sisterhood of holy nuns.\\nStay not to question, for the watch is coming.\\nCome, go, good Juliet. I dare no longer stay.\\n\\nJULIET.\\nGo, get thee hence, for I will not away.\\n\\n [_Exit Friar Lawrence._]\\n\\nWhat’s here? A cup clos’d in my true love’s hand?\\nPoison, I see, hath been his timeless end.\\nO churl. Drink all, and left no friendly drop\\nTo help me after? I will kiss thy lips.\\nHaply some poison yet doth hang on them,\\nTo make me die with a restorative.\\n\\n [_Kisses him._]\\n\\nThy lips are warm!\\n\\nFIRST WATCH.\\n[_Within._] Lead, boy. Which way?\\n\\nJULIET.\\nYea, noise? Then I’ll be brief. O happy dagger.\\n\\n [_Snatching Romeo’s dagger._]\\n\\nThis is thy sheath. [_stabs herself_] There rest, and let me die.\\n\\n [_Falls on Romeo’s body and dies._]\\n\\n Enter Watch with the Page of Paris.\\n\\nPAGE.\\nThis is the place. There, where the torch doth burn.\\n\\nFIRST WATCH.\\nThe ground is bloody. Search about the churchyard.\\nGo, some of you, whoe’er you find attach.\\n\\n [_Exeunt some of the Watch._]\\n\\nPitiful sight! Here lies the County slain,\\nAnd Juliet bleeding, warm, and newly dead,\\nWho here hath lain this two days buried.\\nGo tell the Prince; run to the Capulets.\\nRaise up the Montagues, some others search.\\n\\n [_Exeunt others of the Watch._]\\n\\nWe see the ground whereon these woes do lie,\\nBut the true ground of all these piteous woes\\nWe cannot without circumstance descry.\\n\\n Re-enter some of the Watch with Balthasar.\\n\\nSECOND WATCH.\\nHere’s Romeo’s man. We found him in the churchyard.\\n\\nFIRST WATCH.\\nHold him in safety till the Prince come hither.\\n\\n Re-enter others of the Watch with Friar Lawrence.\\n\\nTHIRD WATCH. Here is a Friar that trembles, sighs, and weeps.\\nWe took this mattock and this spade from him\\nAs he was coming from this churchyard side.\\n\\nFIRST WATCH.\\nA great suspicion. Stay the Friar too.\\n\\n Enter the Prince and Attendants.\\n\\nPRINCE.\\nWhat misadventure is so early up,\\nThat calls our person from our morning’s rest?\\n\\n Enter Capulet, Lady Capulet and others.\\n\\nCAPULET.\\nWhat should it be that they so shriek abroad?\\n\\nLADY CAPULET.\\nO the people in the street cry Romeo,\\nSome Juliet, and some Paris, and all run\\nWith open outcry toward our monument.\\n\\nPRINCE.\\nWhat fear is this which startles in our ears?\\n\\nFIRST WATCH.\\nSovereign, here lies the County Paris slain,\\nAnd Romeo dead, and Juliet, dead before,\\nWarm and new kill’d.\\n\\nPRINCE.\\nSearch, seek, and know how this foul murder comes.\\n\\nFIRST WATCH.\\nHere is a Friar, and slaughter’d Romeo’s man,\\nWith instruments upon them fit to open\\nThese dead men’s tombs.\\n\\nCAPULET.\\nO heaven! O wife, look how our daughter bleeds!\\nThis dagger hath mista’en, for lo, his house\\nIs empty on the back of Montague,\\nAnd it mis-sheathed in my daughter’s bosom.\\n\\nLADY CAPULET.\\nO me! This sight of death is as a bell\\nThat warns my old age to a sepulchre.\\n\\n Enter Montague and others.\\n\\nPRINCE.\\nCome, Montague, for thou art early up,\\nTo see thy son and heir more early down.\\n\\nMONTAGUE.\\nAlas, my liege, my wife is dead tonight.\\nGrief of my son’s exile hath stopp’d her breath.\\nWhat further woe conspires against mine age?\\n\\nPRINCE.\\nLook, and thou shalt see.\\n\\nMONTAGUE.\\nO thou untaught! What manners is in this,\\nTo press before thy father to a grave?\\n\\nPRINCE.\\nSeal up the mouth of outrage for a while,\\nTill we can clear these ambiguities,\\nAnd know their spring, their head, their true descent,\\nAnd then will I be general of your woes,\\nAnd lead you even to death. Meantime forbear,\\nAnd let mischance be slave to patience.\\nBring forth the parties of suspicion.\\n\\nFRIAR LAWRENCE.\\nI am the greatest, able to do least,\\nYet most suspected, as the time and place\\nDoth make against me, of this direful murder.\\nAnd here I stand, both to impeach and purge\\nMyself condemned and myself excus’d.\\n\\nPRINCE.\\nThen say at once what thou dost know in this.\\n\\nFRIAR LAWRENCE.\\nI will be brief, for my short date of breath\\nIs not so long as is a tedious tale.\\nRomeo, there dead, was husband to that Juliet,\\nAnd she, there dead, that Romeo’s faithful wife.\\nI married them; and their stol’n marriage day\\nWas Tybalt’s doomsday, whose untimely death\\nBanish’d the new-made bridegroom from this city;\\nFor whom, and not for Tybalt, Juliet pin’d.\\nYou, to remove that siege of grief from her,\\nBetroth’d, and would have married her perforce\\nTo County Paris. Then comes she to me,\\nAnd with wild looks, bid me devise some means\\nTo rid her from this second marriage,\\nOr in my cell there would she kill herself.\\nThen gave I her, so tutored by my art,\\nA sleeping potion, which so took effect\\nAs I intended, for it wrought on her\\nThe form of death. Meantime I writ to Romeo\\nThat he should hither come as this dire night\\nTo help to take her from her borrow’d grave,\\nBeing the time the potion’s force should cease.\\nBut he which bore my letter, Friar John,\\nWas stay’d by accident; and yesternight\\nReturn’d my letter back. Then all alone\\nAt the prefixed hour of her waking\\nCame I to take her from her kindred’s vault,\\nMeaning to keep her closely at my cell\\nTill I conveniently could send to Romeo.\\nBut when I came, some minute ere the time\\nOf her awaking, here untimely lay\\nThe noble Paris and true Romeo dead.\\nShe wakes; and I entreated her come forth\\nAnd bear this work of heaven with patience.\\nBut then a noise did scare me from the tomb;\\nAnd she, too desperate, would not go with me,\\nBut, as it seems, did violence on herself.\\nAll this I know; and to the marriage\\nHer Nurse is privy. And if ought in this\\nMiscarried by my fault, let my old life\\nBe sacrific’d, some hour before his time,\\nUnto the rigour of severest law.\\n\\nPRINCE.\\nWe still have known thee for a holy man.\\nWhere’s Romeo’s man? What can he say to this?\\n\\nBALTHASAR.\\nI brought my master news of Juliet’s death,\\nAnd then in post he came from Mantua\\nTo this same place, to this same monument.\\nThis letter he early bid me give his father,\\nAnd threaten’d me with death, going in the vault,\\nIf I departed not, and left him there.\\n\\nPRINCE.\\nGive me the letter, I will look on it.\\nWhere is the County’s Page that rais’d the watch?\\nSirrah, what made your master in this place?\\n\\nPAGE.\\nHe came with flowers to strew his lady’s grave,\\nAnd bid me stand aloof, and so I did.\\nAnon comes one with light to ope the tomb,\\nAnd by and by my master drew on him,\\nAnd then I ran away to call the watch.\\n\\nPRINCE.\\nThis letter doth make good the Friar’s words,\\nTheir course of love, the tidings of her death.\\nAnd here he writes that he did buy a poison\\nOf a poor ’pothecary, and therewithal\\nCame to this vault to die, and lie with Juliet.\\nWhere be these enemies? Capulet, Montague,\\nSee what a scourge is laid upon your hate,\\nThat heaven finds means to kill your joys with love!\\nAnd I, for winking at your discords too,\\nHave lost a brace of kinsmen. All are punish’d.\\n\\nCAPULET.\\nO brother Montague, give me thy hand.\\nThis is my daughter’s jointure, for no more\\nCan I demand.\\n\\nMONTAGUE.\\nBut I can give thee more,\\nFor I will raise her statue in pure gold,\\nThat whiles Verona by that name is known,\\nThere shall no figure at such rate be set\\nAs that of true and faithful Juliet.\\n\\nCAPULET.\\nAs rich shall Romeo’s by his lady’s lie,\\nPoor sacrifices of our enmity.\\n\\nPRINCE.\\nA glooming peace this morning with it brings;\\nThe sun for sorrow will not show his head.\\nGo hence, to have more talk of these sad things.\\nSome shall be pardon’d, and some punished,\\nFor never was a story of more woe\\nThan this of Juliet and her Romeo.\\n\\n '"
            ]
          },
          "metadata": {
            "tags": []
          },
          "execution_count": 150
        }
      ]
    },
    {
      "cell_type": "markdown",
      "metadata": {
        "id": "0DLvTlWB9vo3"
      },
      "source": [
        "- We load the mask image that specifies the word cloud's shape\n",
        "- The WordCloud fills non-white areas of a mask image with the text\n",
        "- Load the mask filling using the imread function from imageio module found in Anaconda"
      ]
    },
    {
      "cell_type": "code",
      "metadata": {
        "id": "FzmUucWE9vo3"
      },
      "source": [
        "import imageio"
      ],
      "execution_count": 151,
      "outputs": []
    },
    {
      "cell_type": "code",
      "metadata": {
        "id": "OivRcO5W9vo3"
      },
      "source": [
        "mask_image=imageio.imread('mask_heart.png')"
      ],
      "execution_count": 152,
      "outputs": []
    },
    {
      "cell_type": "markdown",
      "metadata": {
        "id": "AO99sUjP9vo3"
      },
      "source": [
        "- Configuring the WordCloud Object\n",
        "- 400 by 200 pixels - default image size\n",
        "- Colors used are assigned randomly - from the color map\n"
      ]
    },
    {
      "cell_type": "code",
      "metadata": {
        "id": "K-Vm2VQZ9vo3"
      },
      "source": [
        "from wordcloud import WordCloud"
      ],
      "execution_count": 153,
      "outputs": []
    },
    {
      "cell_type": "code",
      "metadata": {
        "id": "M83LD-gd9vo3"
      },
      "source": [
        "wordcloud =WordCloud(width=1000,height=1000,colormap='prism',mask=mask_image,background_color='white')"
      ],
      "execution_count": 154,
      "outputs": []
    },
    {
      "cell_type": "markdown",
      "metadata": {
        "id": "tPlPlX1Q9vo3"
      },
      "source": [
        "- WordCloud has a method called generate() \n",
        "- receives the text as an argument ad creates the word cloud"
      ]
    },
    {
      "cell_type": "code",
      "metadata": {
        "id": "Q2BuNI8y9vo3"
      },
      "source": [
        "wordcloud=wordcloud.generate(text)"
      ],
      "execution_count": 155,
      "outputs": []
    },
    {
      "cell_type": "markdown",
      "metadata": {
        "id": "C56vnARv9vo3"
      },
      "source": [
        "- Removes the stop words, from the text argument using the inbuilt stop word list \n",
        "- Calculates word frequnces for the remaing words \n",
        "- Builds the cloud with maximum 200 by default -> max-words"
      ]
    },
    {
      "cell_type": "code",
      "metadata": {
        "id": "0y37DEi39vo4"
      },
      "source": [
        "# Saving the Image\n",
        "\n",
        "wordcloud=wordcloud.to_file('RomeoandJulietHeart.png')"
      ],
      "execution_count": 156,
      "outputs": []
    },
    {
      "cell_type": "markdown",
      "metadata": {
        "id": "6JFRM6i49vo4"
      },
      "source": [
        "# Generate Word Cloud from a dictionary \n",
        "\n",
        "- If you have a WordCloud's fit_words method to create a word cloud from the dictionary \n",
        "- Does not remove the stop words from dic"
      ]
    },
    {
      "cell_type": "code",
      "metadata": {
        "id": "rDVzECCC9vo4"
      },
      "source": [
        "import matplotlib.pyplot as plt"
      ],
      "execution_count": 157,
      "outputs": []
    },
    {
      "cell_type": "code",
      "metadata": {
        "id": "g7dZUt269vo4",
        "colab": {
          "base_uri": "https://localhost:8080/",
          "height": 0
        },
        "outputId": "3823db4b-740e-4e01-e457-e88ea1653bb3"
      },
      "source": [
        "plt.imshow(wordcloud)"
      ],
      "execution_count": 158,
      "outputs": [
        {
          "output_type": "execute_result",
          "data": {
            "text/plain": [
              "<matplotlib.image.AxesImage at 0x7f744ca57a58>"
            ]
          },
          "metadata": {
            "tags": []
          },
          "execution_count": 158
        },
        {
          "output_type": "display_data",
          "data": {
            "image/png": "[encoded data removed]",
            "text/plain": [
              "<Figure size 432x288 with 1 Axes>"
            ]
          },
          "metadata": {
            "tags": [],
            "needs_background": "light"
          }
        }
      ]
    },
    {
      "cell_type": "markdown",
      "metadata": {
        "id": "FheGrc9j9vo5"
      },
      "source": [
        "# Wordcloud on Twitter"
      ]
    },
    {
      "cell_type": "code",
      "metadata": {
        "id": "GTHWL6qP9vo6"
      },
      "source": [
        "import tweepy"
      ],
      "execution_count": 159,
      "outputs": []
    },
    {
      "cell_type": "code",
      "metadata": {
        "id": "da1hdG889vo6"
      },
      "source": [
        "import keys"
      ],
      "execution_count": 160,
      "outputs": []
    },
    {
      "cell_type": "code",
      "metadata": {
        "id": "1Ipt4ycl9vo6"
      },
      "source": [
        "auth = tweepy.OAuthHandler(keys.consumer_key, keys.consumer_secret)"
      ],
      "execution_count": 161,
      "outputs": []
    },
    {
      "cell_type": "code",
      "metadata": {
        "id": "xnj4r-Ka9vo7"
      },
      "source": [
        "auth.set_access_token(keys.access_token, keys.access_token_secret)"
      ],
      "execution_count": 162,
      "outputs": []
    },
    {
      "cell_type": "code",
      "metadata": {
        "id": "_KPW159A9vo7"
      },
      "source": [
        "api = tweepy.API(auth,wait_on_rate_limit=True,wait_on_rate_limit_notify=True)"
      ],
      "execution_count": 163,
      "outputs": []
    },
    {
      "cell_type": "code",
      "metadata": {
        "id": "tTRpmqWk9vo7"
      },
      "source": [
        "nasa=api.get_user('nasa')"
      ],
      "execution_count": 164,
      "outputs": []
    },
    {
      "cell_type": "code",
      "metadata": {
        "colab": {
          "base_uri": "https://localhost:8080/",
          "height": 0
        },
        "id": "ApawCiIT9vo7",
        "outputId": "00ccccde-9b5c-4246-98bc-d1c9cf1e84b9"
      },
      "source": [
        "nasa.status.text"
      ],
      "execution_count": 165,
      "outputs": [
        {
          "output_type": "execute_result",
          "data": {
            "application/vnd.google.colaboratory.intrinsic+json": {
              "type": "string"
            },
            "text/plain": [
              "'Engineers recently simulated the all-important fueling process for our @NASA_SLS rocket that will power the first… https://t.co/72ordM66k5'"
            ]
          },
          "metadata": {
            "tags": []
          },
          "execution_count": 165
        }
      ]
    },
    {
      "cell_type": "code",
      "metadata": {
        "colab": {
          "base_uri": "https://localhost:8080/"
        },
        "id": "7R8mAtqn9vo8",
        "outputId": "8d7ed760-dd1e-4e71-e402-c909faf06d42"
      },
      "source": [
        "nasa.followers_count\n"
      ],
      "execution_count": 166,
      "outputs": [
        {
          "output_type": "execute_result",
          "data": {
            "text/plain": [
              "42018211"
            ]
          },
          "metadata": {
            "tags": []
          },
          "execution_count": 166
        }
      ]
    },
    {
      "cell_type": "code",
      "metadata": {
        "colab": {
          "base_uri": "https://localhost:8080/"
        },
        "id": "TnpWE0e59vo8",
        "outputId": "2997216e-b29f-4a79-84e7-1c0ca4aab555"
      },
      "source": [
        "nasa.friends_count"
      ],
      "execution_count": 167,
      "outputs": [
        {
          "output_type": "execute_result",
          "data": {
            "text/plain": [
              "223"
            ]
          },
          "metadata": {
            "tags": []
          },
          "execution_count": 167
        }
      ]
    },
    {
      "cell_type": "markdown",
      "metadata": {
        "id": "VOOs7rBI9vo8"
      },
      "source": [
        "# Tweepy `Cursors` : Getting An Account's Followers and Friends\n",
        "\n",
        "- Twitter API methods will return collection of objects\n",
        "    - Tweets in your Twitter Timeline\n",
        "    - Another Accounts Timeline\n",
        "- Timeline for tweets sent by a user ny the user's friends\n",
        "- Max Items to returned - pages of results\n",
        "- JSON - mare pages to get - Cursor handles the paging items\n",
        "- Invokes a method and checks if there is another page of results\n",
        "- API object is configures to wait on rate limits.\n",
        "\n",
        "\n"
      ]
    },
    {
      "cell_type": "markdown",
      "metadata": {
        "id": "fGK5nI8X9vo8"
      },
      "source": [
        "#  Determining and Account Followers\n",
        "\n",
        "- Followers method call Twitter's followers/ list method - 20 by default upto 200\n",
        "- Grab 10 followers of NASA Account"
      ]
    },
    {
      "cell_type": "code",
      "metadata": {
        "id": "wKlL7MIA9vo8"
      },
      "source": [
        "#Create a cursor\n",
        "followers=[]"
      ],
      "execution_count": 196,
      "outputs": []
    },
    {
      "cell_type": "code",
      "metadata": {
        "id": "9qWqG8si9vo8"
      },
      "source": [
        "cursor=tweepy.Cursor(api.followers,screen_name='nasa')"
      ],
      "execution_count": 197,
      "outputs": []
    },
    {
      "cell_type": "code",
      "metadata": {
        "colab": {
          "base_uri": "https://localhost:8080/"
        },
        "id": "UZahIgQa9vo8",
        "outputId": "e10d9662-63be-4255-d18f-3d2103d56003"
      },
      "source": [
        "cursor"
      ],
      "execution_count": 198,
      "outputs": [
        {
          "output_type": "execute_result",
          "data": {
            "text/plain": [
              "<tweepy.cursor.Cursor at 0x7f744c4712e8>"
            ]
          },
          "metadata": {
            "tags": []
          },
          "execution_count": 198
        }
      ]
    },
    {
      "cell_type": "code",
      "metadata": {
        "id": "4o7_jCFD9vo8"
      },
      "source": [
        "for account in cursor.items(10):\n",
        "    followers.append(account.screen_name)"
      ],
      "execution_count": 199,
      "outputs": []
    },
    {
      "cell_type": "code",
      "metadata": {
        "colab": {
          "base_uri": "https://localhost:8080/"
        },
        "id": "RTO0ci6z9vo8",
        "outputId": "7d7b478e-08d8-494c-c133-2e10ed91c266"
      },
      "source": [
        "print('Followers:',' ' .join(sorted(followers, key=lambda s: s.lower())))"
      ],
      "execution_count": 200,
      "outputs": [
        {
          "output_type": "stream",
          "text": [
            "Followers: 1tipper2 AbhishekMatha10 AntorMahamud3 AshfaqA15104482 Calderonkev1 Eduardo83937582 EhsaanHameed1 ElishaOpondo1 KajSargent sexboy49356410\n"
          ],
          "name": "stdout"
        }
      ]
    },
    {
      "cell_type": "markdown",
      "metadata": {
        "id": "u6hfvKIo-ets"
      },
      "source": [
        "### Automatic Paging"
      ]
    },
    {
      "cell_type": "markdown",
      "metadata": {
        "id": "3-bMP5On-lGK"
      },
      "source": [
        "To get up to 200 followers at a time, create the Cursor with the count keyword argument"
      ]
    },
    {
      "cell_type": "code",
      "metadata": {
        "id": "i6Fwt8kL-cav"
      },
      "source": [
        "cursor=tweepy.Cursor(api.followers,screen_name='nasa', count=200)"
      ],
      "execution_count": 201,
      "outputs": []
    },
    {
      "cell_type": "markdown",
      "metadata": {
        "id": "QLKzUklQ_AjJ"
      },
      "source": [
        "### Determining Whom an account follows"
      ]
    },
    {
      "cell_type": "markdown",
      "metadata": {
        "id": "8_8tbB7I_I7n"
      },
      "source": [
        "- API object friends method\n",
        "- calls the twitter friendlist method\n",
        "- user objects\n",
        "- 20 by default - 200 at a time\n",
        "- 15 times even 15 minutes"
      ]
    },
    {
      "cell_type": "code",
      "metadata": {
        "id": "3akY4a0M9vo9"
      },
      "source": [
        "friends=[]"
      ],
      "execution_count": 202,
      "outputs": []
    },
    {
      "cell_type": "code",
      "metadata": {
        "id": "qj613yEr_dEY"
      },
      "source": [
        "cursor=tweepy.Cursor(api.friends,screen_name='nasa')"
      ],
      "execution_count": 203,
      "outputs": []
    },
    {
      "cell_type": "code",
      "metadata": {
        "id": "kGOGIdV4_zgI"
      },
      "source": [
        "for friend in cursor.items(10):\n",
        "  friends.append(friend.screen_name)"
      ],
      "execution_count": 204,
      "outputs": []
    },
    {
      "cell_type": "code",
      "metadata": {
        "colab": {
          "base_uri": "https://localhost:8080/"
        },
        "id": "m4QpjtZgAcRm",
        "outputId": "2508392d-d398-4656-d0ce-83ea4be4a222"
      },
      "source": [
        "print('Friends: ', ' '.join(sorted(friends, key=lambda s: s.lower())))\n"
      ],
      "execution_count": 205,
      "outputs": [
        {
          "output_type": "stream",
          "text": [
            "Friends:  Astro_Megan Astro_SEAL dominickmatthew DoNASAScience KathyLueders MarkKirasich NASA_Marshall NASAPersevere NASARoman uaespaceagency\n"
          ],
          "name": "stdout"
        }
      ]
    },
    {
      "cell_type": "markdown",
      "metadata": {
        "id": "ahOeTCBLBVUo"
      },
      "source": [
        "### Getting a User's Recent tweets\n"
      ]
    },
    {
      "cell_type": "markdown",
      "metadata": {
        "id": "5kL580euBbT3"
      },
      "source": [
        "- API object user_timeline -tweets from an account and account;s friends\n",
        "-staus/user_timeline method\n",
        "- 20 tweets as Status Object -200\n",
        "- 3200 most recent tweets\n",
        "- 1500 times every 15 minutes"
      ]
    },
    {
      "cell_type": "code",
      "metadata": {
        "id": "VTtOLyrpAjUJ"
      },
      "source": [
        "nasa_tweets=api.user_timeline(screen_name='nasa', count=3)"
      ],
      "execution_count": 206,
      "outputs": []
    },
    {
      "cell_type": "code",
      "metadata": {
        "colab": {
          "base_uri": "https://localhost:8080/"
        },
        "id": "9e9Lb0nzCBPq",
        "outputId": "7b63cb21-0a13-4b96-d888-d9b7f0066ec6"
      },
      "source": [
        "for tweet in nasa_tweets:\n",
        "  print(f'{tweet.user.screen_name}: {tweet.text}\\n')"
      ],
      "execution_count": 207,
      "outputs": [
        {
          "output_type": "stream",
          "text": [
            "NASA: Engineers recently simulated the all-important fueling process for our @NASA_SLS rocket that will power the first… https://t.co/72ordM66k5\n",
            "\n",
            "NASA: New crew members aboard the @Space_Station increase the time available to dedicate to science! 🔬 Learn more about t… https://t.co/ITDXecB27s\n",
            "\n",
            "NASA: Nom nom nom 😋 Our @NASAHubble Space Telescope captured a delicious glance of what resembles a cosmic cinnamon bun.… https://t.co/SR5ORkQrj4\n",
            "\n"
          ],
          "name": "stdout"
        }
      ]
    },
    {
      "cell_type": "code",
      "metadata": {
        "colab": {
          "base_uri": "https://localhost:8080/"
        },
        "id": "vMR37cG1CnDi",
        "outputId": "15157026-b555-42a1-8aa2-4f38de8eabbf"
      },
      "source": [
        "api.home_timeline()"
      ],
      "execution_count": 208,
      "outputs": [
        {
          "output_type": "execute_result",
          "data": {
            "text/plain": [
              "[]"
            ]
          },
          "metadata": {
            "tags": []
          },
          "execution_count": 208
        }
      ]
    },
    {
      "cell_type": "markdown",
      "metadata": {
        "id": "WzudEtX6EXE5"
      },
      "source": [
        "### Searching Recent Tweeets\n"
      ]
    },
    {
      "cell_type": "markdown",
      "metadata": {
        "id": "xjwIlLdMEdzv"
      },
      "source": [
        "- Via the API method search\n",
        "- previous 7 days tweets\n",
        "- not guaranteed returns\n",
        "-15 tweets by default at a time=100"
      ]
    },
    {
      "cell_type": "code",
      "metadata": {
        "id": "ZZdB1h7iHcg1"
      },
      "source": [
        "from textblob import TextBlob"
      ],
      "execution_count": 209,
      "outputs": []
    },
    {
      "cell_type": "code",
      "metadata": {
        "id": "qiWb494-C5BF"
      },
      "source": [
        "def print_tweets(tweets):\n",
        "    \"\"\"For each Tweepy Status object in tweets, display the user's screen_name and tweet text\n",
        "    If the language is not English, translate the text with TextBlob.\"\"\"\n",
        "    for tweet in tweets:\n",
        "        print(f'{tweet.user.screen_name}:', end=' ')\n",
        "        if 'en' in tweet.lang:\n",
        "            print(f'{tweet.text}\\n')\n",
        "        elif 'und' not in tweet.lang: \n",
        "            print(f'\\n ORIGINAL: {tweet.text}')\n",
        "            print(f'TRANSLATED: {TextBlob(tweet.text).translate()}\\n')\n"
      ],
      "execution_count": 210,
      "outputs": []
    },
    {
      "cell_type": "code",
      "metadata": {
        "id": "U04CnscJGihf"
      },
      "source": [
        "tweets=api.search(q='Mars Rover',count=6)"
      ],
      "execution_count": 211,
      "outputs": []
    },
    {
      "cell_type": "code",
      "metadata": {
        "colab": {
          "base_uri": "https://localhost:8080/"
        },
        "id": "AOVAP0jMKaCj",
        "outputId": "0a498f15-d76c-47aa-e6e3-eecdc975767d"
      },
      "source": [
        "print_tweets(tweets)"
      ],
      "execution_count": 212,
      "outputs": [
        {
          "output_type": "stream",
          "text": [
            "ObjetivoMarte: \n",
            " ORIGINAL: Los datos del Rover #Curiosity  revelan fuertes inundaciones que una vez arrasaron el cráter #Gale en #Marte \n",
            " https://t.co/FMRGCm3aap\n",
            "TRANSLATED: Rover #Curiosity data reveals heavy flooding that once washed away #Gale crater on #Mars\n",
            " https://t.co/FMRGCm3aap\n",
            "\n",
            "thepunster3: RT @AvatarDomy: Part of the Bagnold field of dunes on the slopes of Mount Sharp, Mars captured from images taken by the mastcam of NASA’s C…\n",
            "\n",
            "DavidSalvatory2: RT @physicsJ: Curiosity rover selfie on Mars, 12th Nov., 2020. The main image was so large and detailed that Twitter would have compressed…\n",
            "\n",
            "alfaxit: RT @physicsJ: Curiosity rover selfie on Mars, 12th Nov., 2020. The main image was so large and detailed that Twitter would have compressed…\n",
            "\n",
            "vj_4187: RT @physicsJ: Curiosity rover selfie on Mars, 12th Nov., 2020. The main image was so large and detailed that Twitter would have compressed…\n",
            "\n",
            "Sir_Rylath: RT @physicsJ: Curiosity rover selfie on Mars, 12th Nov., 2020. The main image was so large and detailed that Twitter would have compressed…\n",
            "\n"
          ],
          "name": "stdout"
        }
      ]
    },
    {
      "cell_type": "code",
      "metadata": {
        "id": "Ie8zUXlZKg-m"
      },
      "source": [
        ""
      ],
      "execution_count": 212,
      "outputs": []
    },
    {
      "cell_type": "code",
      "metadata": {
        "id": "ImRLLaZdMrCe"
      },
      "source": [
        "tweets=api.search(q='from: nasa since:2020-13-11',count=15)"
      ],
      "execution_count": 213,
      "outputs": []
    },
    {
      "cell_type": "code",
      "metadata": {
        "id": "NhMqC7L8M69d"
      },
      "source": [
        "print_tweets(tweets)"
      ],
      "execution_count": 214,
      "outputs": []
    },
    {
      "cell_type": "markdown",
      "metadata": {
        "id": "o35lBLyPO02l"
      },
      "source": [
        "### Searching for a hashtag"
      ]
    },
    {
      "cell_type": "markdown",
      "metadata": {
        "id": "Ojg6wb8fO4eV"
      },
      "source": [
        "- hasgtag # indicates something important like a trending topic"
      ]
    },
    {
      "cell_type": "code",
      "metadata": {
        "id": "40ZaVVbOM_Ao"
      },
      "source": [
        "tweets=api.search(q='#uhuru', count=3)"
      ],
      "execution_count": 215,
      "outputs": []
    },
    {
      "cell_type": "code",
      "metadata": {
        "colab": {
          "base_uri": "https://localhost:8080/"
        },
        "id": "BGwr8UEBPJeG",
        "outputId": "455199a9-b8b1-4673-ded5-462c9d41abfd"
      },
      "source": [
        "print_tweets(tweets)"
      ],
      "execution_count": 216,
      "outputs": [
        {
          "output_type": "stream",
          "text": [
            "plustvtz: \n",
            " ORIGINAL: #Uhuru\n",
            "Mke akubali kuachika siyo kuacha Pombe.\n",
            "#Sebuleni #TunatoaPinKwenyeMagazeti #BeLikePlus https://t.co/z5wMT4M130\n",
            "TRANSLATED: #Freedom\n",
            "The wife agrees to divorce not to give up Alcohol.\n",
            "#Letting #WeProvidePinIn Newspapers #BeLikePlus https://t.co/z5wMT4M130\n",
            "\n",
            "plustvtz: \n",
            " ORIGINAL: #Uhuru \n",
            "Wanafunzi elimu ya juu ni kicheko tu, wafurahia mikopo kutolewa mapema kuliko ilivyo kawaida.\n",
            "#Sebuleni… https://t.co/PyD9b8UAL0\n",
            "TRANSLATED: #Freedom\n",
            "Higher education students are just laughing, enjoying the release of loans earlier than usual.\n",
            "# Living Room… https://t.co/PyD9b8UAL0\n",
            "\n",
            "RadioWombatFi: \n",
            " ORIGINAL: RT @Uhuru_rw: #Uhuru 116 su la #Maloya genere musicale di #Reunion, parte importante dell'identità culturale #popolare.…\n",
            "TRANSLATED: RT @Uhuru_rw: #Uhuru 116 on the #Maloya musical genre of #Reunion, an important part of the # popular cultural identity.…\n",
            "\n"
          ],
          "name": "stdout"
        }
      ]
    },
    {
      "cell_type": "markdown",
      "metadata": {
        "id": "Z-na_CrEPqnT"
      },
      "source": [
        "### Spotting Trends: Twitter Trends API"
      ]
    },
    {
      "cell_type": "markdown",
      "metadata": {
        "id": "Iohs6qzGPxSR"
      },
      "source": [
        "- Going viral\n",
        "- maintaining a list of trending topics worldwide\n",
        "- Twitter Trends API  can return a list of trending topic locations and the top 50 trending topics"
      ]
    },
    {
      "cell_type": "markdown",
      "metadata": {
        "id": "yF2-JQD4QXmP"
      },
      "source": [
        "places with trnding topics"
      ]
    },
    {
      "cell_type": "code",
      "metadata": {
        "id": "_fX_jlUvPMAb"
      },
      "source": [
        "trends_available=api.trends_available()"
      ],
      "execution_count": 217,
      "outputs": []
    },
    {
      "cell_type": "code",
      "metadata": {
        "colab": {
          "base_uri": "https://localhost:8080/"
        },
        "id": "SkJZvsVwQoSc",
        "outputId": "8d230f3f-9787-49cd-bd87-87ec604f70dc"
      },
      "source": [
        "len(trends_available)"
      ],
      "execution_count": 218,
      "outputs": [
        {
          "output_type": "execute_result",
          "data": {
            "text/plain": [
              "467"
            ]
          },
          "metadata": {
            "tags": []
          },
          "execution_count": 218
        }
      ]
    },
    {
      "cell_type": "code",
      "metadata": {
        "colab": {
          "base_uri": "https://localhost:8080/"
        },
        "id": "L_jPJ_TzQq7T",
        "outputId": "763b83a6-c576-4c1b-bc18-bf53ce7f64ff"
      },
      "source": [
        "trends_available[32]"
      ],
      "execution_count": 219,
      "outputs": [
        {
          "output_type": "execute_result",
          "data": {
            "text/plain": [
              "{'country': 'United Kingdom',\n",
              " 'countryCode': 'GB',\n",
              " 'name': 'Swansea',\n",
              " 'parentid': 23424975,\n",
              " 'placeType': {'code': 7, 'name': 'Town'},\n",
              " 'url': 'http://where.yahooapis.com/v1/place/36758',\n",
              " 'woeid': 36758}"
            ]
          },
          "metadata": {
            "tags": []
          },
          "execution_count": 219
        }
      ]
    },
    {
      "cell_type": "code",
      "metadata": {
        "id": "gp2R3yN7RHXj"
      },
      "source": [
        "world_trends=api.trends_place(id=1)"
      ],
      "execution_count": 220,
      "outputs": []
    },
    {
      "cell_type": "code",
      "metadata": {
        "id": "T3ClcWhhSA_T",
        "colab": {
          "base_uri": "https://localhost:8080/"
        },
        "outputId": "4fe08a7c-6db4-494d-c1a9-4b7fd1abad2d"
      },
      "source": [
        "world_trends"
      ],
      "execution_count": 221,
      "outputs": [
        {
          "output_type": "execute_result",
          "data": {
            "text/plain": [
              "[{'as_of': '2020-11-23T06:09:29Z',\n",
              "  'created_at': '2020-11-21T23:31:42Z',\n",
              "  'locations': [{'name': 'Worldwide', 'woeid': 1}],\n",
              "  'trends': [{'name': '#AMAs',\n",
              "    'promoted_content': None,\n",
              "    'query': '%23AMAs',\n",
              "    'tweet_volume': 4188983,\n",
              "    'url': 'http://twitter.com/search?q=%23AMAs'},\n",
              "   {'name': '#アイマス三昧',\n",
              "    'promoted_content': None,\n",
              "    'query': '%23%E3%82%A2%E3%82%A4%E3%83%9E%E3%82%B9%E4%B8%89%E6%98%A7',\n",
              "    'tweet_volume': 239546,\n",
              "    'url': 'http://twitter.com/search?q=%23%E3%82%A2%E3%82%A4%E3%83%9E%E3%82%B9%E4%B8%89%E6%98%A7'},\n",
              "   {'name': '#Dynamite',\n",
              "    'promoted_content': None,\n",
              "    'query': '%23Dynamite',\n",
              "    'tweet_volume': 2574795,\n",
              "    'url': 'http://twitter.com/search?q=%23Dynamite'},\n",
              "   {'name': '#ARMY',\n",
              "    'promoted_content': None,\n",
              "    'query': '%23ARMY',\n",
              "    'tweet_volume': 2407924,\n",
              "    'url': 'http://twitter.com/search?q=%23ARMY'},\n",
              "   {'name': 'Raiders',\n",
              "    'promoted_content': None,\n",
              "    'query': 'Raiders',\n",
              "    'tweet_volume': 100163,\n",
              "    'url': 'http://twitter.com/search?q=Raiders'},\n",
              "   {'name': '#시우민_집으로_복귀완료',\n",
              "    'promoted_content': None,\n",
              "    'query': '%23%EC%8B%9C%EC%9A%B0%EB%AF%BC_%EC%A7%91%EC%9C%BC%EB%A1%9C_%EB%B3%B5%EA%B7%80%EC%99%84%EB%A3%8C',\n",
              "    'tweet_volume': 130039,\n",
              "    'url': 'http://twitter.com/search?q=%23%EC%8B%9C%EC%9A%B0%EB%AF%BC_%EC%A7%91%EC%9C%BC%EB%A1%9C_%EB%B3%B5%EA%B7%80%EC%99%84%EB%A3%8C'},\n",
              "   {'name': 'MINSEOK',\n",
              "    'promoted_content': None,\n",
              "    'query': 'MINSEOK',\n",
              "    'tweet_volume': 91988,\n",
              "    'url': 'http://twitter.com/search?q=MINSEOK'},\n",
              "   {'name': 'Mahomes',\n",
              "    'promoted_content': None,\n",
              "    'query': 'Mahomes',\n",
              "    'tweet_volume': 51584,\n",
              "    'url': 'http://twitter.com/search?q=Mahomes'},\n",
              "   {'name': 'Puebla',\n",
              "    'promoted_content': None,\n",
              "    'query': 'Puebla',\n",
              "    'tweet_volume': 28552,\n",
              "    'url': 'http://twitter.com/search?q=Puebla'},\n",
              "   {'name': 'Chiefs',\n",
              "    'promoted_content': None,\n",
              "    'query': 'Chiefs',\n",
              "    'tweet_volume': 92166,\n",
              "    'url': 'http://twitter.com/search?q=Chiefs'},\n",
              "   {'name': 'Dye the sky',\n",
              "    'promoted_content': None,\n",
              "    'query': '%22Dye+the+sky%22',\n",
              "    'tweet_volume': None,\n",
              "    'url': 'http://twitter.com/search?q=%22Dye+the+sky%22'},\n",
              "   {'name': 'Esquire',\n",
              "    'promoted_content': None,\n",
              "    'query': 'Esquire',\n",
              "    'tweet_volume': 228109,\n",
              "    'url': 'http://twitter.com/search?q=Esquire'},\n",
              "   {'name': 'Rayados',\n",
              "    'promoted_content': None,\n",
              "    'query': 'Rayados',\n",
              "    'tweet_volume': 27292,\n",
              "    'url': 'http://twitter.com/search?q=Rayados'},\n",
              "   {'name': 'PARK JIMIN',\n",
              "    'promoted_content': None,\n",
              "    'query': '%22PARK+JIMIN%22',\n",
              "    'tweet_volume': 210902,\n",
              "    'url': 'http://twitter.com/search?q=%22PARK+JIMIN%22'},\n",
              "   {'name': 'Taylor',\n",
              "    'promoted_content': None,\n",
              "    'query': 'Taylor',\n",
              "    'tweet_volume': 263782,\n",
              "    'url': 'http://twitter.com/search?q=Taylor'},\n",
              "   {'name': 'Ernesto',\n",
              "    'promoted_content': None,\n",
              "    'query': 'Ernesto',\n",
              "    'tweet_volume': 27671,\n",
              "    'url': 'http://twitter.com/search?q=Ernesto'},\n",
              "   {'name': 'Monterrey',\n",
              "    'promoted_content': None,\n",
              "    'query': 'Monterrey',\n",
              "    'tweet_volume': 14689,\n",
              "    'url': 'http://twitter.com/search?q=Monterrey'},\n",
              "   {'name': 'PROUD OF HARRY',\n",
              "    'promoted_content': None,\n",
              "    'query': '%22PROUD+OF+HARRY%22',\n",
              "    'tweet_volume': 52241,\n",
              "    'url': 'http://twitter.com/search?q=%22PROUD+OF+HARRY%22'},\n",
              "   {'name': 'デビ太郎',\n",
              "    'promoted_content': None,\n",
              "    'query': '%E3%83%87%E3%83%93%E5%A4%AA%E9%83%8E',\n",
              "    'tweet_volume': 10593,\n",
              "    'url': 'http://twitter.com/search?q=%E3%83%87%E3%83%93%E5%A4%AA%E9%83%8E'},\n",
              "   {'name': 'シャイノグラフィ',\n",
              "    'promoted_content': None,\n",
              "    'query': '%E3%82%B7%E3%83%A3%E3%82%A4%E3%83%8E%E3%82%B0%E3%83%A9%E3%83%95%E3%82%A3',\n",
              "    'tweet_volume': None,\n",
              "    'url': 'http://twitter.com/search?q=%E3%82%B7%E3%83%A3%E3%82%A4%E3%83%8E%E3%82%B0%E3%83%A9%E3%83%95%E3%82%A3'},\n",
              "   {'name': 'Carr',\n",
              "    'promoted_content': None,\n",
              "    'query': 'Carr',\n",
              "    'tweet_volume': 29707,\n",
              "    'url': 'http://twitter.com/search?q=Carr'},\n",
              "   {'name': 'ムンナイ',\n",
              "    'promoted_content': None,\n",
              "    'query': '%E3%83%A0%E3%83%B3%E3%83%8A%E3%82%A4',\n",
              "    'tweet_volume': 13233,\n",
              "    'url': 'http://twitter.com/search?q=%E3%83%A0%E3%83%B3%E3%83%8A%E3%82%A4'},\n",
              "   {'name': 'ヒロアカ映画',\n",
              "    'promoted_content': None,\n",
              "    'query': '%E3%83%92%E3%83%AD%E3%82%A2%E3%82%AB%E6%98%A0%E7%94%BB',\n",
              "    'tweet_volume': None,\n",
              "    'url': 'http://twitter.com/search?q=%E3%83%92%E3%83%AD%E3%82%A2%E3%82%AB%E6%98%A0%E7%94%BB'},\n",
              "   {'name': '勤労感謝の日',\n",
              "    'promoted_content': None,\n",
              "    'query': '%E5%8B%A4%E5%8A%B4%E6%84%9F%E8%AC%9D%E3%81%AE%E6%97%A5',\n",
              "    'tweet_volume': 161718,\n",
              "    'url': 'http://twitter.com/search?q=%E5%8B%A4%E5%8A%B4%E6%84%9F%E8%AC%9D%E3%81%AE%E6%97%A5'},\n",
              "   {'name': 'Kelce',\n",
              "    'promoted_content': None,\n",
              "    'query': 'Kelce',\n",
              "    'tweet_volume': 17538,\n",
              "    'url': 'http://twitter.com/search?q=Kelce'},\n",
              "   {'name': 'Tigres',\n",
              "    'promoted_content': None,\n",
              "    'query': 'Tigres',\n",
              "    'tweet_volume': 20184,\n",
              "    'url': 'http://twitter.com/search?q=Tigres'},\n",
              "   {'name': 'Mohamed',\n",
              "    'promoted_content': None,\n",
              "    'query': 'Mohamed',\n",
              "    'tweet_volume': 43036,\n",
              "    'url': 'http://twitter.com/search?q=Mohamed'},\n",
              "   {'name': 'SideM',\n",
              "    'promoted_content': None,\n",
              "    'query': 'SideM',\n",
              "    'tweet_volume': 24447,\n",
              "    'url': 'http://twitter.com/search?q=SideM'},\n",
              "   {'name': '兄さんの日',\n",
              "    'promoted_content': None,\n",
              "    'query': '%E5%85%84%E3%81%95%E3%82%93%E3%81%AE%E6%97%A5',\n",
              "    'tweet_volume': 25351,\n",
              "    'url': 'http://twitter.com/search?q=%E5%85%84%E3%81%95%E3%82%93%E3%81%AE%E6%97%A5'},\n",
              "   {'name': 'Hugo González',\n",
              "    'promoted_content': None,\n",
              "    'query': '%22Hugo+Gonz%C3%A1lez%22',\n",
              "    'tweet_volume': None,\n",
              "    'url': 'http://twitter.com/search?q=%22Hugo+Gonz%C3%A1lez%22'},\n",
              "   {'name': 'Witten',\n",
              "    'promoted_content': None,\n",
              "    'query': 'Witten',\n",
              "    'tweet_volume': None,\n",
              "    'url': 'http://twitter.com/search?q=Witten'},\n",
              "   {'name': 'TwitırsGet Açıldı',\n",
              "    'promoted_content': None,\n",
              "    'query': '%22Twit%C4%B1rsGet+A%C3%A7%C4%B1ld%C4%B1%22',\n",
              "    'tweet_volume': None,\n",
              "    'url': 'http://twitter.com/search?q=%22Twit%C4%B1rsGet+A%C3%A7%C4%B1ld%C4%B1%22'},\n",
              "   {'name': 'Chivas',\n",
              "    'promoted_content': None,\n",
              "    'query': 'Chivas',\n",
              "    'tweet_volume': 23661,\n",
              "    'url': 'http://twitter.com/search?q=Chivas'},\n",
              "   {'name': 'shawn',\n",
              "    'promoted_content': None,\n",
              "    'query': 'shawn',\n",
              "    'tweet_volume': 157952,\n",
              "    'url': 'http://twitter.com/search?q=shawn'},\n",
              "   {'name': 'megan fox',\n",
              "    'promoted_content': None,\n",
              "    'query': '%22megan+fox%22',\n",
              "    'tweet_volume': 16389,\n",
              "    'url': 'http://twitter.com/search?q=%22megan+fox%22'},\n",
              "   {'name': 'エグゼ6',\n",
              "    'promoted_content': None,\n",
              "    'query': '%E3%82%A8%E3%82%B0%E3%82%BC6',\n",
              "    'tweet_volume': None,\n",
              "    'url': 'http://twitter.com/search?q=%E3%82%A8%E3%82%B0%E3%82%BC6'},\n",
              "   {'name': 'fede bal',\n",
              "    'promoted_content': None,\n",
              "    'query': '%22fede+bal%22',\n",
              "    'tweet_volume': 12232,\n",
              "    'url': 'http://twitter.com/search?q=%22fede+bal%22'},\n",
              "   {'name': 'Nelly',\n",
              "    'promoted_content': None,\n",
              "    'query': 'Nelly',\n",
              "    'tweet_volume': 18894,\n",
              "    'url': 'http://twitter.com/search?q=Nelly'},\n",
              "   {'name': 'PRIDE STAR',\n",
              "    'promoted_content': None,\n",
              "    'query': '%22PRIDE+STAR%22',\n",
              "    'tweet_volume': None,\n",
              "    'url': 'http://twitter.com/search?q=%22PRIDE+STAR%22'},\n",
              "   {'name': 'オリジン組',\n",
              "    'promoted_content': None,\n",
              "    'query': '%E3%82%AA%E3%83%AA%E3%82%B8%E3%83%B3%E7%B5%84',\n",
              "    'tweet_volume': None,\n",
              "    'url': 'http://twitter.com/search?q=%E3%82%AA%E3%83%AA%E3%82%B8%E3%83%B3%E7%B5%84'},\n",
              "   {'name': 'Twinkle way',\n",
              "    'promoted_content': None,\n",
              "    'query': '%22Twinkle+way%22',\n",
              "    'tweet_volume': None,\n",
              "    'url': 'http://twitter.com/search?q=%22Twinkle+way%22'},\n",
              "   {'name': 'Joker',\n",
              "    'promoted_content': None,\n",
              "    'query': 'Joker',\n",
              "    'tweet_volume': 55563,\n",
              "    'url': 'http://twitter.com/search?q=Joker'},\n",
              "   {'name': 'The Weeknd',\n",
              "    'promoted_content': None,\n",
              "    'query': '%22The+Weeknd%22',\n",
              "    'tweet_volume': 59511,\n",
              "    'url': 'http://twitter.com/search?q=%22The+Weeknd%22'},\n",
              "   {'name': 'BTS WORLD DOMINATION',\n",
              "    'promoted_content': None,\n",
              "    'query': '%22BTS+WORLD+DOMINATION%22',\n",
              "    'tweet_volume': 105581,\n",
              "    'url': 'http://twitter.com/search?q=%22BTS+WORLD+DOMINATION%22'},\n",
              "   {'name': 'BLACKPINK',\n",
              "    'promoted_content': None,\n",
              "    'query': 'BLACKPINK',\n",
              "    'tweet_volume': 849492,\n",
              "    'url': 'http://twitter.com/search?q=BLACKPINK'},\n",
              "   {'name': 'billie',\n",
              "    'promoted_content': None,\n",
              "    'query': 'billie',\n",
              "    'tweet_volume': 75064,\n",
              "    'url': 'http://twitter.com/search?q=billie'},\n",
              "   {'name': '連休最終日',\n",
              "    'promoted_content': None,\n",
              "    'query': '%E9%80%A3%E4%BC%91%E6%9C%80%E7%B5%82%E6%97%A5',\n",
              "    'tweet_volume': 68635,\n",
              "    'url': 'http://twitter.com/search?q=%E9%80%A3%E4%BC%91%E6%9C%80%E7%B5%82%E6%97%A5'},\n",
              "   {'name': 'Dirty Dan',\n",
              "    'promoted_content': None,\n",
              "    'query': '%22Dirty+Dan%22',\n",
              "    'tweet_volume': None,\n",
              "    'url': 'http://twitter.com/search?q=%22Dirty+Dan%22'},\n",
              "   {'name': 'Abram',\n",
              "    'promoted_content': None,\n",
              "    'query': 'Abram',\n",
              "    'tweet_volume': None,\n",
              "    'url': 'http://twitter.com/search?q=Abram'},\n",
              "   {'name': 'Becky G',\n",
              "    'promoted_content': None,\n",
              "    'query': '%22Becky+G%22',\n",
              "    'tweet_volume': 18792,\n",
              "    'url': 'http://twitter.com/search?q=%22Becky+G%22'}]}]"
            ]
          },
          "metadata": {
            "tags": []
          },
          "execution_count": 221
        }
      ]
    },
    {
      "cell_type": "code",
      "metadata": {
        "id": "CAbgPGEpdeIk"
      },
      "source": [
        "trends_list= world_trends[0] ['trends']"
      ],
      "execution_count": 222,
      "outputs": []
    },
    {
      "cell_type": "code",
      "metadata": {
        "colab": {
          "base_uri": "https://localhost:8080/"
        },
        "id": "ruCzhfWsR2kt",
        "outputId": "5acf7d8b-240d-439d-8fac-d8620133d1c9"
      },
      "source": [
        "trends_list[2]"
      ],
      "execution_count": 224,
      "outputs": [
        {
          "output_type": "execute_result",
          "data": {
            "text/plain": [
              "{'name': '#Dynamite',\n",
              " 'promoted_content': None,\n",
              " 'query': '%23Dynamite',\n",
              " 'tweet_volume': 2574795,\n",
              " 'url': 'http://twitter.com/search?q=%23Dynamite'}"
            ]
          },
          "metadata": {
            "tags": []
          },
          "execution_count": 224
        }
      ]
    },
    {
      "cell_type": "markdown",
      "metadata": {
        "id": "4GoBzrsRvWGq"
      },
      "source": [
        "### Get today's trending topics"
      ]
    },
    {
      "cell_type": "markdown",
      "metadata": {
        "id": "bqdZ4GHHvcm-"
      },
      "source": [
        "For trends with more than 10,000 tweets, the tweet_volume is the number of tweets; otherwise it is none. Filter the list so that it contains only trends with more than 10 000 tweets."
      ]
    },
    {
      "cell_type": "code",
      "metadata": {
        "id": "7R3x5lpsuRz6"
      },
      "source": [
        "trends_list=[t for t in trends_list if t['tweet_volume']]"
      ],
      "execution_count": 225,
      "outputs": []
    },
    {
      "cell_type": "markdown",
      "metadata": {
        "id": "VscSrBSuwBBt"
      },
      "source": [
        "Sort the trends in descending order by use of tweet volume"
      ]
    },
    {
      "cell_type": "code",
      "metadata": {
        "id": "9gOYz6S3v_nS"
      },
      "source": [
        "from operator import itemgetter"
      ],
      "execution_count": 226,
      "outputs": []
    },
    {
      "cell_type": "code",
      "metadata": {
        "id": "cV72sHl7wKWQ"
      },
      "source": [
        "trends_list.sort(key=itemgetter('tweet_volume'), reverse=True)"
      ],
      "execution_count": 227,
      "outputs": []
    },
    {
      "cell_type": "code",
      "metadata": {
        "colab": {
          "base_uri": "https://localhost:8080/"
        },
        "id": "ZN_9WASawT7P",
        "outputId": "d85ad6ac-69b2-4869-b71a-9b1cf36bc9eb"
      },
      "source": [
        "for trend in trends_list[:10]:\n",
        "  print(trend['name'])"
      ],
      "execution_count": 228,
      "outputs": [
        {
          "output_type": "stream",
          "text": [
            "#AMAs\n",
            "#Dynamite\n",
            "#ARMY\n",
            "BLACKPINK\n",
            "Taylor\n",
            "#アイマス三昧\n",
            "Esquire\n",
            "PARK JIMIN\n",
            "勤労感謝の日\n",
            "shawn\n"
          ],
          "name": "stdout"
        }
      ]
    },
    {
      "cell_type": "markdown",
      "metadata": {
        "id": "HD2LbAfYxVo9"
      },
      "source": [
        "### Trending Topics (WOEID=23424863, KENYA'S ID) \n",
        "\n",
        "\n"
      ]
    },
    {
      "cell_type": "code",
      "metadata": {
        "id": "kCI2C7R6wc3f"
      },
      "source": [
        "kenya_trends=api.trends_place(id=23424863)  "
      ],
      "execution_count": 230,
      "outputs": []
    },
    {
      "cell_type": "code",
      "metadata": {
        "id": "1j4IhPB-x7pr"
      },
      "source": [
        "kenya_list=kenya_trends[0]['trends']"
      ],
      "execution_count": 231,
      "outputs": []
    },
    {
      "cell_type": "code",
      "metadata": {
        "id": "Zs2iFlJkybDX"
      },
      "source": [
        "kenya_list=[t for t in kenya_list if t['tweet_volume']]"
      ],
      "execution_count": 234,
      "outputs": []
    },
    {
      "cell_type": "code",
      "metadata": {
        "id": "TfNcLQI4yjDy"
      },
      "source": [
        "kenya_list.sort(key=itemgetter('tweet_volume'),reverse=True)"
      ],
      "execution_count": 235,
      "outputs": []
    },
    {
      "cell_type": "code",
      "metadata": {
        "colab": {
          "base_uri": "https://localhost:8080/"
        },
        "id": "gis0Mqxyy3wo",
        "outputId": "6ef8889c-ebac-4dc2-baa1-d6a173f63c4d"
      },
      "source": [
        "for trend in kenya_list[:7]:\n",
        "  print(trend['name'])"
      ],
      "execution_count": 237,
      "outputs": [
        {
          "output_type": "stream",
          "text": [
            "Google\n",
            "Christmas\n",
            "Jesus\n",
            "Bless\n",
            "Lakers\n",
            "Liverpool\n",
            "Africa\n"
          ],
          "name": "stdout"
        }
      ]
    },
    {
      "cell_type": "markdown",
      "metadata": {
        "id": "NGlA5rLIzhM9"
      },
      "source": [
        "### Creating a wordcloud for Trending topics"
      ]
    },
    {
      "cell_type": "markdown",
      "metadata": {
        "id": "BYQy7XLO0eFo"
      },
      "source": [
        "dictionary to store trend names and volume"
      ]
    },
    {
      "cell_type": "code",
      "metadata": {
        "id": "ovsZn7NozBKf"
      },
      "source": [
        "topics={}"
      ],
      "execution_count": 243,
      "outputs": []
    },
    {
      "cell_type": "code",
      "metadata": {
        "id": "5juI45kP0jUe"
      },
      "source": [
        "for trend in kenya_list:\n",
        "  topics[trend['name']]=trend['tweet_volume']"
      ],
      "execution_count": 244,
      "outputs": []
    },
    {
      "cell_type": "code",
      "metadata": {
        "colab": {
          "base_uri": "https://localhost:8080/"
        },
        "id": "UYEGFtGM0yHB",
        "outputId": "d9b3e385-9c36-4bd8-8b71-f08ae55a1459"
      },
      "source": [
        "topics"
      ],
      "execution_count": 245,
      "outputs": [
        {
          "output_type": "execute_result",
          "data": {
            "text/plain": [
              "{'#MondayMotivation': 17127,\n",
              " '#mondaythoughts': 12421,\n",
              " 'Africa': 124642,\n",
              " 'Almighty': 31665,\n",
              " 'Anfield': 22874,\n",
              " 'Arteta': 49575,\n",
              " 'Atleast': 50673,\n",
              " 'Blame': 101013,\n",
              " 'Bless': 187858,\n",
              " 'Christmas': 473612,\n",
              " 'Diana': 77484,\n",
              " 'Egypt': 25859,\n",
              " 'Ethiopia': 32604,\n",
              " 'European': 44926,\n",
              " 'Glory': 86035,\n",
              " 'Google': 517819,\n",
              " 'Jesus': 288075,\n",
              " 'Just DM': 28754,\n",
              " 'Kindly DM': 13957,\n",
              " 'Klopp': 30982,\n",
              " 'Lakers': 137286,\n",
              " 'Liverpool': 124912,\n",
              " 'MERU': 13433,\n",
              " 'Mary': 105585,\n",
              " 'May God': 46775,\n",
              " 'Nairobi': 10308,\n",
              " 'Pfizer': 42318,\n",
              " 'Tigray': 26729,\n",
              " 'Tuned': 60049,\n",
              " 'lack': 111415,\n",
              " 'vardy': 16175}"
            ]
          },
          "metadata": {
            "tags": []
          },
          "execution_count": 245
        }
      ]
    },
    {
      "cell_type": "code",
      "metadata": {
        "id": "jI7rZXav06zK"
      },
      "source": [
        "from wordcloud import WordCloud"
      ],
      "execution_count": 246,
      "outputs": []
    },
    {
      "cell_type": "code",
      "metadata": {
        "id": "m2Pz0jyn1IKd"
      },
      "source": [
        "wordcloud=WordCloud(width=1600, height=900, prefer_horizontal=0.5,min_font_size=10,colormap='prism', background_color='white')"
      ],
      "execution_count": 247,
      "outputs": []
    },
    {
      "cell_type": "code",
      "metadata": {
        "id": "TpLQbblh1rbA"
      },
      "source": [
        "wordcloud=wordcloud.fit_words(topics)"
      ],
      "execution_count": 248,
      "outputs": []
    },
    {
      "cell_type": "code",
      "metadata": {
        "id": "ZU0boZje14Yi"
      },
      "source": [
        "wordcloud=wordcloud.to_file('TrendingTwitter.png')"
      ],
      "execution_count": 249,
      "outputs": []
    },
    {
      "cell_type": "code",
      "metadata": {
        "id": "F-bOrWwM1_BO"
      },
      "source": [
        "import matplotlib.pyplot as plt\n",
        "%matplotlib inline"
      ],
      "execution_count": 250,
      "outputs": []
    },
    {
      "cell_type": "code",
      "metadata": {
        "colab": {
          "base_uri": "https://localhost:8080/",
          "height": 257
        },
        "id": "9zKC03tX2Qqw",
        "outputId": "29684a49-2fd1-43c0-e00f-bc810bbfd750"
      },
      "source": [
        "plt.imshow(wordcloud)"
      ],
      "execution_count": 251,
      "outputs": [
        {
          "output_type": "execute_result",
          "data": {
            "text/plain": [
              "<matplotlib.image.AxesImage at 0x7f744c21c0f0>"
            ]
          },
          "metadata": {
            "tags": []
          },
          "execution_count": 251
        },
        {
          "output_type": "display_data",
          "data": {
            "image/png": "[encoded data removed]",
            "text/plain": [
              "<Figure size 432x288 with 1 Axes>"
            ]
          },
          "metadata": {
            "tags": [],
            "needs_background": "light"
          }
        }
      ]
    },
    {
      "cell_type": "markdown",
      "metadata": {
        "id": "pbBHijN14ldj"
      },
      "source": [
        "### Cleaning/Preprocessing Tweets for analysis"
      ]
    },
    {
      "cell_type": "markdown",
      "metadata": {
        "id": "N-MC-sa39tBo"
      },
      "source": [
        "  Data cleaning is one the common tasks in machin learning and data sciece.\n",
        "  - Some NLP tasks for normlizing tweets\n",
        "    - all text to same case\n",
        "    - remove hashtags, @mentions, duplicate hashtags\n",
        "    - remove excess whitespace, punctuation, stop words, URL\n",
        "    - remove RT, AV\n",
        "    - stemming and lemmatization\n",
        "    - tokenization\n",
        "     "
      ]
    },
    {
      "cell_type": "markdown",
      "metadata": {
        "id": "6Hl4RMZ4AB-H"
      },
      "source": [
        "### Tweet_preprocessor -library and TextBlob Utility Functions"
      ]
    },
    {
      "cell_type": "markdown",
      "metadata": {
        "id": "yHqc0r8UAXb9"
      },
      "source": [
        "- URL \n",
        "- Smiley Face\n",
        "- Nummbers.\n",
        "Removing them "
      ]
    },
    {
      "cell_type": "code",
      "metadata": {
        "colab": {
          "base_uri": "https://localhost:8080/"
        },
        "id": "pU4FQKFf2dqp",
        "outputId": "24db6646-9330-4e9c-c679-4a83f3891a65"
      },
      "source": [
        "pip install tweet-preprocessor"
      ],
      "execution_count": 254,
      "outputs": [
        {
          "output_type": "stream",
          "text": [
            "Requirement already satisfied: tweet-preprocessor in /usr/local/lib/python3.6/dist-packages (0.6.0)\n"
          ],
          "name": "stdout"
        }
      ]
    },
    {
      "cell_type": "code",
      "metadata": {
        "id": "xXxsqEziAe2L"
      },
      "source": [
        "import preprocessor as p"
      ],
      "execution_count": 255,
      "outputs": []
    },
    {
      "cell_type": "markdown",
      "metadata": {
        "id": "zB47osjCA4tK"
      },
      "source": [
        "- DPT.MENTION @NASA\n",
        "- OPT.EMOJI\n",
        "- OPT.HASHTAG\n",
        "- OPT.URL\n",
        "- OPT.SMILEY"
      ]
    },
    {
      "cell_type": "code",
      "metadata": {
        "id": "YhVrFDeKAuF6"
      },
      "source": [
        "p.set_options(p.OPT.URL,p.OPT.RESERVED,p.OPT.SMILEY,p.OPT.NUMBER,p.OPT.HASHTAG)"
      ],
      "execution_count": 262,
      "outputs": []
    },
    {
      "cell_type": "code",
      "metadata": {
        "id": "GbtBeIN1BXED"
      },
      "source": [
        "tweet_text='RT Good morning? Make your orders with us on any covid19 kits. We provide affordable&certified http://kits.Call or whatsapp us on 0711855039. We do countrywide delivery&reduced prices on #bulk purchase. '\n"
      ],
      "execution_count": 263,
      "outputs": []
    },
    {
      "cell_type": "code",
      "metadata": {
        "colab": {
          "base_uri": "https://localhost:8080/",
          "height": 52
        },
        "id": "418emtMlCBnT",
        "outputId": "3f630073-73a9-4985-e501-0360cc808ea5"
      },
      "source": [
        "p.clean(tweet_text)"
      ],
      "execution_count": 264,
      "outputs": [
        {
          "output_type": "execute_result",
          "data": {
            "application/vnd.google.colaboratory.intrinsic+json": {
              "type": "string"
            },
            "text/plain": [
              "'Good morning? Make your orders with us on any covid19 kits. We provide affordable&certified or whatsapp us on . We do countrywide delivery&reduced prices on purchase.'"
            ]
          },
          "metadata": {
            "tags": []
          },
          "execution_count": 264
        }
      ]
    },
    {
      "cell_type": "code",
      "metadata": {
        "id": "UrD0kvqpCGcb"
      },
      "source": [
        ""
      ],
      "execution_count": null,
      "outputs": []
    }
  ]
}